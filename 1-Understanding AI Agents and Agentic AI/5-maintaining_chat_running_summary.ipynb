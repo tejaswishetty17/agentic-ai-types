{
  "nbformat": 4,
  "nbformat_minor": 0,
  "metadata": {
    "colab": {
      "provenance": [],
      "authorship_tag": "ABX9TyM/V+11Uo9ahBOZA3+TsWmy",
      "include_colab_link": true
    },
    "kernelspec": {
      "name": "python3",
      "display_name": "Python 3"
    },
    "language_info": {
      "name": "python"
    }
  },
  "cells": [
    {
      "cell_type": "markdown",
      "metadata": {
        "id": "view-in-github",
        "colab_type": "text"
      },
      "source": [
        "<a href=\"https://colab.research.google.com/github/tejaswishetty17/Agentic-AI/blob/main/Calling_Agents_6(Maintaining%20running%20summary).ipynb\" target=\"_parent\"><img src=\"https://colab.research.google.com/assets/colab-badge.svg\" alt=\"Open In Colab\"/></a>"
      ]
    },
    {
      "cell_type": "markdown",
      "source": [
        "#Chat with message summarization\n",
        "\n",
        "**Maintaining running summary**\n",
        "\n",
        "\n",
        ">Lets say if the number of messages are growing beyond a certain threshold then summarize the conversation to maintain the contex. This allows us to reatain a compressed representation of the full conversation, rather than just removing it with filtering. This reduce the number of tokens on each queries sent to the LLM.\n",
        "\n",
        ">Lets incorporate this summarization into a simple Chatbot.\n",
        "And we'll equip that Chatbot with memory, supporting long-running conversation without incurring high token cost/latency\n"
      ],
      "metadata": {
        "id": "ndhgiUlH_X1F"
      }
    },
    {
      "cell_type": "code",
      "execution_count": 1,
      "metadata": {
        "colab": {
          "base_uri": "https://localhost:8080/"
        },
        "id": "4TtX8BKo_Hgf",
        "outputId": "f8a93d73-e957-45b2-98d5-c4940925e0b3"
      },
      "outputs": [
        {
          "output_type": "stream",
          "name": "stdout",
          "text": [
            "\u001b[2K     \u001b[90m━━━━━━━━━━━━━━━━━━━━━━━━━━━━━━━━━━━━━━━\u001b[0m \u001b[32m43.7/43.7 kB\u001b[0m \u001b[31m687.5 kB/s\u001b[0m eta \u001b[36m0:00:00\u001b[0m\n",
            "\u001b[2K   \u001b[90m━━━━━━━━━━━━━━━━━━━━━━━━━━━━━━━━━━━━━━━━\u001b[0m \u001b[32m64.5/64.5 kB\u001b[0m \u001b[31m2.2 MB/s\u001b[0m eta \u001b[36m0:00:00\u001b[0m\n",
            "\u001b[2K   \u001b[90m━━━━━━━━━━━━━━━━━━━━━━━━━━━━━━━━━━━━━━━━\u001b[0m \u001b[32m2.5/2.5 MB\u001b[0m \u001b[31m16.2 MB/s\u001b[0m eta \u001b[36m0:00:00\u001b[0m\n",
            "\u001b[2K   \u001b[90m━━━━━━━━━━━━━━━━━━━━━━━━━━━━━━━━━━━━━━━━\u001b[0m \u001b[32m152.4/152.4 kB\u001b[0m \u001b[31m7.0 MB/s\u001b[0m eta \u001b[36m0:00:00\u001b[0m\n",
            "\u001b[2K   \u001b[90m━━━━━━━━━━━━━━━━━━━━━━━━━━━━━━━━━━━━━━━━\u001b[0m \u001b[32m44.2/44.2 kB\u001b[0m \u001b[31m1.2 MB/s\u001b[0m eta \u001b[36m0:00:00\u001b[0m\n",
            "\u001b[2K   \u001b[90m━━━━━━━━━━━━━━━━━━━━━━━━━━━━━━━━━━━━━━━━\u001b[0m \u001b[32m50.0/50.0 kB\u001b[0m \u001b[31m2.1 MB/s\u001b[0m eta \u001b[36m0:00:00\u001b[0m\n",
            "\u001b[2K   \u001b[90m━━━━━━━━━━━━━━━━━━━━━━━━━━━━━━━━━━━━━━━━\u001b[0m \u001b[32m44.4/44.4 kB\u001b[0m \u001b[31m2.5 MB/s\u001b[0m eta \u001b[36m0:00:00\u001b[0m\n",
            "\u001b[2K   \u001b[90m━━━━━━━━━━━━━━━━━━━━━━━━━━━━━━━━━━━━━━━━\u001b[0m \u001b[32m50.9/50.9 kB\u001b[0m \u001b[31m1.6 MB/s\u001b[0m eta \u001b[36m0:00:00\u001b[0m\n",
            "\u001b[2K   \u001b[90m━━━━━━━━━━━━━━━━━━━━━━━━━━━━━━━━━━━━━━━━\u001b[0m \u001b[32m216.5/216.5 kB\u001b[0m \u001b[31m9.3 MB/s\u001b[0m eta \u001b[36m0:00:00\u001b[0m\n",
            "\u001b[?25h"
          ]
        }
      ],
      "source": [
        "pip install -q langchain langchain_openai langchain_community langgraph langchain-core"
      ]
    },
    {
      "cell_type": "code",
      "source": [
        "import os\n",
        "os.environ[\"OPENAI_API_KEY\"] = \"add your key\""
      ],
      "metadata": {
        "id": "m33FF7SVCLnN"
      },
      "execution_count": 2,
      "outputs": []
    },
    {
      "cell_type": "code",
      "source": [
        "from langchain_openai import ChatOpenAI\n",
        "model = ChatOpenAI(model=\"gpt-4o-mini\", temperature=0)"
      ],
      "metadata": {
        "id": "n_rH_XbNCSzV"
      },
      "execution_count": 3,
      "outputs": []
    },
    {
      "cell_type": "markdown",
      "source": [
        "> We'll use `MessageState`, as before.\n",
        "In addition to the built-in `messages` key, we'll now include custom key (`summary`)"
      ],
      "metadata": {
        "id": "dMk_wbhhCy5y"
      }
    },
    {
      "cell_type": "code",
      "source": [
        "from langgraph.graph import MessagesState\n",
        "class State(MessagesState):\n",
        "  summary:str"
      ],
      "metadata": {
        "id": "AcaTVyt1CbvR"
      },
      "execution_count": 4,
      "outputs": []
    },
    {
      "cell_type": "markdown",
      "source": [
        "> We'll define a node to call our LLM that incorporates a summary, if it exists, into the prompt."
      ],
      "metadata": {
        "id": "NWEdHl5DEAVb"
      }
    },
    {
      "cell_type": "code",
      "source": [
        "from langchain_core.messages import SystemMessage, HumanMessage, RemoveMessage\n",
        "\n",
        "#Define the logic to call the model\n",
        "def call_model(state: State) -> State:\n",
        "\n",
        "  #get summary if it exists\n",
        "  summary = state.get(\"summary\", \"\")\n",
        "\n",
        "  #If there is summmary, then we do this\n",
        "  if summary:\n",
        "\n",
        "    #Add summary to system message\n",
        "    system_message = f\"Summary of conversation earlier: {summary}\"\n",
        "\n",
        "    #Apend summary to any newer messages\n",
        "    messages = [SystemMessage(content=system_message)] + state[\"messages\"]\n",
        "\n",
        "  else:\n",
        "    messages = state[\"messages\"]\n",
        "\n",
        "  response = model.invoke(messages)\n",
        "  return {\"messages\":response}"
      ],
      "metadata": {
        "id": "k9pk5C_NDXQA"
      },
      "execution_count": 5,
      "outputs": []
    },
    {
      "cell_type": "markdown",
      "source": [
        "> We'll define a node to produce a summary\n",
        "\n",
        "Note, here we'll use `RemoveMessage` to filter our state after we've produced the summary\n"
      ],
      "metadata": {
        "id": "-LsQ9XCRFxky"
      }
    },
    {
      "cell_type": "code",
      "source": [
        "def summarize_conversation(state: State):\n",
        "\n",
        "  #First, we get any existing summary\n",
        "  summary = state.get(\"summary\", \"\")\n",
        "\n",
        "  #Create our summarization prompt\n",
        "  if summary:\n",
        "\n",
        "    # if summary already exists\n",
        "    summary_message = (\n",
        "        f\"This is summary of the conversation to date: {summary}\\n\\n\"\n",
        "        \"Extend the summary by taking into account the new messages above:\"\n",
        "    )\n",
        "  else:\n",
        "    summary_message = \"Create a summary of the conversation above:\"\n",
        "\n",
        "  #Add prompt to our history\n",
        "  messages = state[\"messages\"] + [HumanMessage(content=summary_message)]\n",
        "  response = model.invoke(messages)\n",
        "\n",
        "  #Delete all but the 2 most recent messages\n",
        "  delete_messages = [RemoveMessage(id=m.id) for m in state[\"messages\"][:-2]]\n",
        "  return {\"summary\": response.content, \"messages\":delete_messages}\n",
        ""
      ],
      "metadata": {
        "id": "Rg-18A6iFtN4"
      },
      "execution_count": 12,
      "outputs": []
    },
    {
      "cell_type": "markdown",
      "source": [
        "> We'll add a conditional edge to determine whether to produce a summary based on the conversation length."
      ],
      "metadata": {
        "id": "LfO_2i0eIilH"
      }
    },
    {
      "cell_type": "code",
      "source": [
        "from langgraph.graph import END\n",
        "#Determine whether to end or summarize the conversation\n",
        "def should_continue(state: State)->State:\n",
        "  \"\"\"Return the next node to execute. \"\"\"\n",
        "\n",
        "  messages = state[\"messages\"]\n",
        "\n",
        "  # If there are more than six messages, then we summarize the conversation\n",
        "  if len(messages)>6:\n",
        "    return \"summarize_conversation\"\n",
        "  # Otherwise we can just end\n",
        "  return END"
      ],
      "metadata": {
        "id": "syJ58nD0IhCv"
      },
      "execution_count": 28,
      "outputs": []
    },
    {
      "cell_type": "code",
      "source": [
        "from IPython.display import Image, display\n",
        "from langgraph.checkpoint.memory import MemorySaver\n",
        "from langgraph.graph import StateGraph, START\n",
        "\n",
        "# Define a new graph\n",
        "workflow = StateGraph(State)\n",
        "workflow.add_node(\"conversation\", call_model)\n",
        "workflow.add_node(summarize_conversation)\n",
        "\n",
        "# Set the entrypoint as conversation\n",
        "workflow.add_edge(START, \"conversation\")\n",
        "workflow.add_conditional_edges(\"conversation\", should_continue)\n",
        "workflow.add_edge(\"summarize_conversation\", END)\n",
        "\n",
        "# Compile\n",
        "memory = MemorySaver()\n",
        "graph = workflow.compile(checkpointer=memory)\n",
        "display(Image(graph.get_graph().draw_mermaid_png()))"
      ],
      "metadata": {
        "colab": {
          "base_uri": "https://localhost:8080/",
          "height": 281
        },
        "id": "1-svgk32JpfY",
        "outputId": "6a72a216-2f39-473a-8c16-bc3883cfa8a4"
      },
      "execution_count": 35,
      "outputs": [
        {
          "output_type": "display_data",
          "data": {
            "image/png": "[encoded data removed]",
            "text/plain": [
              "<IPython.core.display.Image object>"
            ]
          },
          "metadata": {}
        }
      ]
    },
    {
      "cell_type": "code",
      "source": [
        "#create a thread\n",
        "config = {\"configurable\": {\"thread_id\":\"1\"}}\n",
        "\n",
        "#State conversation\n",
        "input_message = HumanMessage(content = \"Hi! I am Tejaswi\")\n",
        "output = graph.invoke({\"messages\": [input_message]}, config)\n",
        "for m in output['messages'][-1:]:\n",
        "  m.pretty_print()\n",
        "\n",
        "input_message = HumanMessage(content = \"What is the LLM?\")\n",
        "output = graph.invoke({\"messages\": [input_message]}, config)\n",
        "for m in output['messages'][-1:]:\n",
        "  m.pretty_print()\n",
        "\n",
        "input_message = HumanMessage(content = \"I would like to know more about the use cases of LLM?\")\n",
        "output = graph.invoke({\"messages\": [input_message]}, config)\n",
        "for m in output['messages'][-1:]:\n",
        "  m.pretty_print()"
      ],
      "metadata": {
        "colab": {
          "base_uri": "https://localhost:8080/"
        },
        "id": "6yCaSKSyLoOx",
        "outputId": "4fe3721c-8243-4f55-bc99-90517ef79130"
      },
      "execution_count": 15,
      "outputs": [
        {
          "output_type": "stream",
          "name": "stdout",
          "text": [
            "==================================\u001b[1m Ai Message \u001b[0m==================================\n",
            "\n",
            "Hi Tejaswi! How can I assist you today?\n",
            "==================================\u001b[1m Ai Message \u001b[0m==================================\n",
            "\n",
            "LLM stands for \"Large Language Model.\" It refers to a type of artificial intelligence model that is trained on vast amounts of text data to understand and generate human-like language. These models use deep learning techniques, particularly neural networks, to process and generate text based on the patterns they learn during training.\n",
            "\n",
            "Some key features of LLMs include:\n",
            "\n",
            "1. **Natural Language Understanding**: They can comprehend and respond to text inputs in a way that mimics human conversation.\n",
            "\n",
            "2. **Text Generation**: LLMs can generate coherent and contextually relevant text, making them useful for applications like chatbots, content creation, and more.\n",
            "\n",
            "3. **Versatility**: They can perform a variety of language-related tasks, such as translation, summarization, question answering, and more.\n",
            "\n",
            "4. **Scale**: The \"large\" in LLM refers to the size of the model, which typically has billions of parameters, allowing it to capture complex language patterns.\n",
            "\n",
            "Examples of LLMs include OpenAI's GPT-3 and GPT-4, Google's BERT, and others. These models have been widely adopted in various applications across industries. If you have more specific questions about LLMs or their applications, feel free to ask!\n",
            "==================================\u001b[1m Ai Message \u001b[0m==================================\n",
            "\n",
            "Large Language Models (LLMs) have a wide range of use cases across various industries and applications. Here are some of the most common and impactful use cases:\n",
            "\n",
            "1. **Chatbots and Virtual Assistants**: LLMs can power conversational agents that provide customer support, answer queries, and assist users in real-time. They can handle a variety of topics and maintain context over multiple interactions.\n",
            "\n",
            "2. **Content Creation**: LLMs can generate articles, blog posts, marketing copy, and social media content. They can assist writers by providing suggestions, drafting outlines, or even writing entire pieces based on prompts.\n",
            "\n",
            "3. **Translation Services**: LLMs can be used for language translation, providing more nuanced and context-aware translations compared to traditional rule-based systems.\n",
            "\n",
            "4. **Summarization**: They can summarize long documents, articles, or reports into concise summaries, making it easier for users to grasp key points quickly.\n",
            "\n",
            "5. **Question Answering**: LLMs can be employed in systems that answer questions based on a given context or knowledge base, making them useful for educational tools, customer support, and information retrieval.\n",
            "\n",
            "6. **Sentiment Analysis**: Businesses can use LLMs to analyze customer feedback, reviews, and social media posts to gauge public sentiment about products or services.\n",
            "\n",
            "7. **Code Generation and Assistance**: LLMs can assist developers by generating code snippets, providing explanations for code, and even debugging, making programming more efficient.\n",
            "\n",
            "8. **Personalized Recommendations**: By analyzing user preferences and behavior, LLMs can help generate personalized content recommendations, such as articles, products, or services.\n",
            "\n",
            "9. **Creative Writing**: LLMs can assist in creative endeavors, such as writing poetry, stories, or scripts, by providing inspiration or generating entire pieces based on prompts.\n",
            "\n",
            "10. **Education and Tutoring**: They can serve as virtual tutors, providing explanations, answering questions, and helping students with their studies in various subjects.\n",
            "\n",
            "11. **Data Extraction and Analysis**: LLMs can extract relevant information from unstructured data sources, such as documents or web pages, and analyze it for insights.\n",
            "\n",
            "12. **Legal and Compliance**: In the legal field, LLMs can assist with document review, contract analysis, and legal research, helping lawyers save time and improve accuracy.\n",
            "\n",
            "13. **Healthcare**: LLMs can be used to analyze medical literature, assist in patient communication, and even help in diagnosing conditions based on patient descriptions.\n",
            "\n",
            "These use cases demonstrate the versatility and potential of LLMs in transforming how we interact with technology and information. As the technology continues to evolve, new applications and improvements are likely to emerge. If you have a specific area of interest or application in mind, let me know, and I can provide more detailed information!\n"
          ]
        }
      ]
    },
    {
      "cell_type": "markdown",
      "source": [
        "Now, we don't yet have a summary of the state because we still have < = 6 messages.\n",
        "\n",
        "This was set in `should_continue`.\n",
        "\n",
        "```\n",
        "    # If there are more than six messages, then we summarize the conversation\n",
        "    if len(messages) > 6:\n",
        "        return \"summarize_conversation\"\n",
        "```\n",
        "\n",
        "We can pick up the conversation because we have the thread."
      ],
      "metadata": {
        "id": "7NvL_qSbOBTu"
      }
    },
    {
      "cell_type": "code",
      "source": [
        "graph.get_state(config).values.get(\"summary\",\"\")"
      ],
      "metadata": {
        "colab": {
          "base_uri": "https://localhost:8080/",
          "height": 36
        },
        "id": "wh3TiLNTOB-Z",
        "outputId": "e75bbf4a-aeab-4583-8b01-d2c0f76d7fb2"
      },
      "execution_count": 16,
      "outputs": [
        {
          "output_type": "execute_result",
          "data": {
            "text/plain": [
              "''"
            ],
            "application/vnd.google.colaboratory.intrinsic+json": {
              "type": "string"
            }
          },
          "metadata": {},
          "execution_count": 16
        }
      ]
    },
    {
      "cell_type": "markdown",
      "source": [
        "The `config` with thread ID allows us to proceed from the previously logged state!"
      ],
      "metadata": {
        "id": "PV9yBLubONQf"
      }
    },
    {
      "cell_type": "code",
      "source": [
        "input_message = HumanMessage(content = \"how do I use Langchain while using LLMs?\")\n",
        "output = graph.invoke({\"messages\": [input_message]}, config)\n",
        "for m in output['messages'][-1:]:\n",
        "  m.pretty_print()"
      ],
      "metadata": {
        "colab": {
          "base_uri": "https://localhost:8080/"
        },
        "id": "NNyf_spoOI0i",
        "outputId": "fe855c77-8a9c-4cb1-9c6c-072d15392499"
      },
      "execution_count": 17,
      "outputs": [
        {
          "output_type": "stream",
          "name": "stdout",
          "text": [
            "==================================\u001b[1m Ai Message \u001b[0m==================================\n",
            "\n",
            "LangChain is a framework designed to facilitate the development of applications that utilize Large Language Models (LLMs). It provides tools and abstractions to help you build applications that can interact with LLMs more effectively. Here’s a general guide on how to use LangChain with LLMs:\n",
            "\n",
            "### 1. **Installation**\n",
            "\n",
            "First, you need to install LangChain. You can do this using pip:\n",
            "\n",
            "```bash\n",
            "pip install langchain\n",
            "```\n",
            "\n",
            "### 2. **Setting Up an LLM**\n",
            "\n",
            "LangChain supports various LLMs, including OpenAI's GPT models, Hugging Face models, and others. You need to set up the LLM you want to use. For example, if you are using OpenAI's GPT-3 or GPT-4, you will need an API key.\n",
            "\n",
            "Here’s how to set up an OpenAI LLM:\n",
            "\n",
            "```python\n",
            "from langchain.llms import OpenAI\n",
            "\n",
            "# Initialize the OpenAI LLM\n",
            "llm = OpenAI(api_key='your_openai_api_key')\n",
            "```\n",
            "\n",
            "### 3. **Creating a Chain**\n",
            "\n",
            "LangChain allows you to create chains that define how inputs are processed and how outputs are generated. A simple chain might just involve sending a prompt to the LLM and getting a response.\n",
            "\n",
            "```python\n",
            "from langchain.chains import LLMChain\n",
            "from langchain.prompts import PromptTemplate\n",
            "\n",
            "# Define a prompt template\n",
            "prompt_template = PromptTemplate(\n",
            "    input_variables=[\"input_text\"],\n",
            "    template=\"What is the summary of the following text? {input_text}\"\n",
            ")\n",
            "\n",
            "# Create a chain\n",
            "chain = LLMChain(llm=llm, prompt=prompt_template)\n",
            "```\n",
            "\n",
            "### 4. **Using the Chain**\n",
            "\n",
            "You can now use the chain to generate responses based on your input.\n",
            "\n",
            "```python\n",
            "# Example input text\n",
            "input_text = \"LangChain is a framework for developing applications powered by LLMs.\"\n",
            "\n",
            "# Get the response\n",
            "response = chain.run(input_text=input_text)\n",
            "print(response)\n",
            "```\n",
            "\n",
            "### 5. **Advanced Features**\n",
            "\n",
            "LangChain also supports more advanced features, such as:\n",
            "\n",
            "- **Memory**: To maintain context across multiple interactions.\n",
            "- **Agents**: To create more complex workflows that can make decisions based on user input.\n",
            "- **Document Loaders**: To load and process documents for tasks like summarization or question answering.\n",
            "\n",
            "### Example of Using Memory\n",
            "\n",
            "```python\n",
            "from langchain.memory import ConversationBufferMemory\n",
            "\n",
            "# Initialize memory\n",
            "memory = ConversationBufferMemory()\n",
            "\n",
            "# Create a chain with memory\n",
            "chain_with_memory = LLMChain(llm=llm, prompt=prompt_template, memory=memory)\n",
            "\n",
            "# Use the chain\n",
            "response1 = chain_with_memory.run(input_text=\"Tell me about LangChain.\")\n",
            "response2 = chain_with_memory.run(input_text=\"What else can it do?\")\n",
            "```\n",
            "\n",
            "### 6. **Deployment**\n",
            "\n",
            "Once you have your application working locally, you can deploy it using various platforms, such as Flask for web applications, or integrate it into existing systems.\n",
            "\n",
            "### 7. **Documentation and Community**\n",
            "\n",
            "For more detailed information, examples, and advanced usage, refer to the [LangChain documentation](https://langchain.readthedocs.io/en/latest/). The community around LangChain is also active, so you can find support and share ideas on platforms like GitHub and Discord.\n",
            "\n",
            "### Conclusion\n",
            "\n",
            "LangChain provides a powerful and flexible way to work with LLMs, making it easier to build applications that leverage the capabilities of these models. By following the steps above, you can start creating your own applications using LangChain and LLMs. If you have specific use cases or questions, feel free to ask!\n"
          ]
        }
      ]
    },
    {
      "cell_type": "code",
      "source": [
        "graph.get_state(config).values.get(\"summary\",\"\")"
      ],
      "metadata": {
        "colab": {
          "base_uri": "https://localhost:8080/",
          "height": 91
        },
        "id": "7Oshpyc8Odke",
        "outputId": "0ef7cede-13e1-4877-918c-14bf1630beee"
      },
      "execution_count": 18,
      "outputs": [
        {
          "output_type": "execute_result",
          "data": {
            "text/plain": [
              "\"In this conversation, you inquired about Large Language Models (LLMs) and their use cases. I provided an overview of LLMs, explaining their capabilities in natural language understanding, text generation, and various applications such as chatbots, content creation, translation, summarization, and more.\\n\\nYou then asked about using LangChain with LLMs. I outlined the steps to get started with LangChain, including installation, setting up an LLM (specifically OpenAI's models), creating a chain with a prompt template, and using that chain to generate responses. I also mentioned advanced features like memory and agents, and provided a brief example of using memory in a conversation. Finally, I suggested referring to the LangChain documentation for more detailed information and community support.\""
            ],
            "application/vnd.google.colaboratory.intrinsic+json": {
              "type": "string"
            }
          },
          "metadata": {},
          "execution_count": 18
        }
      ]
    }
  ]
}