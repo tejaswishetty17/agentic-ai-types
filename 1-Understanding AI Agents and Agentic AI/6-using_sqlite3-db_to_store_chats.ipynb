{
  "nbformat": 4,
  "nbformat_minor": 0,
  "metadata": {
    "colab": {
      "provenance": [],
      "authorship_tag": "ABX9TyO3uxqg19ersGPusRBovxYY",
      "include_colab_link": true
    },
    "kernelspec": {
      "name": "python3",
      "display_name": "Python 3"
    },
    "language_info": {
      "name": "python"
    }
  },
  "cells": [
    {
      "cell_type": "markdown",
      "metadata": {
        "id": "view-in-github",
        "colab_type": "text"
      },
      "source": [
        "<a href=\"https://colab.research.google.com/github/tejaswishetty17/Agentic-AI/blob/main/Calling_Agents_7(Using%20sqlite3%20db%20to%20store%20chats).ipynb\" target=\"_parent\"><img src=\"https://colab.research.google.com/assets/colab-badge.svg\" alt=\"Open In Colab\"/></a>"
      ]
    },
    {
      "cell_type": "markdown",
      "source": [
        "\n",
        "\n",
        "> Storing conversation data on sqlite db instead of memory, so we can access it through sessions\n",
        "\n"
      ],
      "metadata": {
        "id": "voI8xdJExMmp"
      }
    },
    {
      "cell_type": "code",
      "execution_count": 1,
      "metadata": {
        "colab": {
          "base_uri": "https://localhost:8080/"
        },
        "id": "tD9NKUoDrOJO",
        "outputId": "9924e0bb-7e22-4834-d8cc-958dde9e12b7"
      },
      "outputs": [
        {
          "output_type": "stream",
          "name": "stdout",
          "text": [
            "\u001b[2K     \u001b[90m━━━━━━━━━━━━━━━━━━━━━━━━━━━━━━━━━━━━━━━━\u001b[0m \u001b[32m43.7/43.7 kB\u001b[0m \u001b[31m2.4 MB/s\u001b[0m eta \u001b[36m0:00:00\u001b[0m\n",
            "\u001b[2K   \u001b[90m━━━━━━━━━━━━━━━━━━━━━━━━━━━━━━━━━━━━━━━━\u001b[0m \u001b[32m64.5/64.5 kB\u001b[0m \u001b[31m1.7 MB/s\u001b[0m eta \u001b[36m0:00:00\u001b[0m\n",
            "\u001b[2K   \u001b[90m━━━━━━━━━━━━━━━━━━━━━━━━━━━━━━━━━━━━━━━━\u001b[0m \u001b[32m2.5/2.5 MB\u001b[0m \u001b[31m17.2 MB/s\u001b[0m eta \u001b[36m0:00:00\u001b[0m\n",
            "\u001b[2K   \u001b[90m━━━━━━━━━━━━━━━━━━━━━━━━━━━━━━━━━━━━━━━━\u001b[0m \u001b[32m152.4/152.4 kB\u001b[0m \u001b[31m3.4 MB/s\u001b[0m eta \u001b[36m0:00:00\u001b[0m\n",
            "\u001b[2K   \u001b[90m━━━━━━━━━━━━━━━━━━━━━━━━━━━━━━━━━━━━━━━━\u001b[0m \u001b[32m44.2/44.2 kB\u001b[0m \u001b[31m2.6 MB/s\u001b[0m eta \u001b[36m0:00:00\u001b[0m\n",
            "\u001b[2K   \u001b[90m━━━━━━━━━━━━━━━━━━━━━━━━━━━━━━━━━━━━━━━━\u001b[0m \u001b[32m50.0/50.0 kB\u001b[0m \u001b[31m2.0 MB/s\u001b[0m eta \u001b[36m0:00:00\u001b[0m\n",
            "\u001b[2K   \u001b[90m━━━━━━━━━━━━━━━━━━━━━━━━━━━━━━━━━━━━━━━━\u001b[0m \u001b[32m44.4/44.4 kB\u001b[0m \u001b[31m1.5 MB/s\u001b[0m eta \u001b[36m0:00:00\u001b[0m\n",
            "\u001b[2K   \u001b[90m━━━━━━━━━━━━━━━━━━━━━━━━━━━━━━━━━━━━━━━━\u001b[0m \u001b[32m151.6/151.6 kB\u001b[0m \u001b[31m2.9 MB/s\u001b[0m eta \u001b[36m0:00:00\u001b[0m\n",
            "\u001b[2K   \u001b[90m━━━━━━━━━━━━━━━━━━━━━━━━━━━━━━━━━━━━━━━━\u001b[0m \u001b[32m50.9/50.9 kB\u001b[0m \u001b[31m2.2 MB/s\u001b[0m eta \u001b[36m0:00:00\u001b[0m\n",
            "\u001b[2K   \u001b[90m━━━━━━━━━━━━━━━━━━━━━━━━━━━━━━━━━━━━━━━━\u001b[0m \u001b[32m216.5/216.5 kB\u001b[0m \u001b[31m8.6 MB/s\u001b[0m eta \u001b[36m0:00:00\u001b[0m\n",
            "\u001b[?25h"
          ]
        }
      ],
      "source": [
        "pip install -q langchain langchain_openai langchain_community langgraph langchain-core langgraph-checkpoint-sqlite"
      ]
    },
    {
      "cell_type": "code",
      "source": [
        "import os\n",
        "os.environ[\"OPENAI_API_KEY\"] = \"\""
      ],
      "metadata": {
        "id": "5OorJUC9ruwi"
      },
      "execution_count": 2,
      "outputs": []
    },
    {
      "cell_type": "code",
      "source": [
        "import sqlite3\n",
        "#In memory\n",
        "conn = sqlite3.connect(\":memory\", check_same_thread = False)"
      ],
      "metadata": {
        "id": "ODjhN3c0ryf5"
      },
      "execution_count": 3,
      "outputs": []
    },
    {
      "cell_type": "markdown",
      "source": [
        "> If we specify the db path, it will create a database for us!\n",
        "\n"
      ],
      "metadata": {
        "id": "xpin0Ds7sLhQ"
      }
    },
    {
      "cell_type": "code",
      "source": [
        "import sqlite3\n",
        "sqlite3.connect(\"my_database2.db\")"
      ],
      "metadata": {
        "colab": {
          "base_uri": "https://localhost:8080/"
        },
        "id": "5LMqRXKZsKV8",
        "outputId": "50400da4-5b7a-49de-fddf-54b0e52b726c"
      },
      "execution_count": 4,
      "outputs": [
        {
          "output_type": "execute_result",
          "data": {
            "text/plain": [
              "<sqlite3.Connection at 0x79ee828ce2f0>"
            ]
          },
          "metadata": {},
          "execution_count": 4
        }
      ]
    },
    {
      "cell_type": "code",
      "source": [
        "db_path = \"my_database2.db\"\n",
        "conn = sqlite3.connect(db_path, check_same_thread=False)"
      ],
      "metadata": {
        "id": "9D4jeP4KsIZG"
      },
      "execution_count": 5,
      "outputs": []
    },
    {
      "cell_type": "code",
      "source": [
        "#Here is the our checkpointer\n",
        "from langgraph.checkpoint.sqlite import SqliteSaver\n",
        "memory = SqliteSaver(conn)"
      ],
      "metadata": {
        "id": "ZwCvbzBHskyg"
      },
      "execution_count": 6,
      "outputs": []
    },
    {
      "cell_type": "markdown",
      "source": [
        "Let's re-define our chatbot."
      ],
      "metadata": {
        "id": "Th-5lsLpsyKD"
      }
    },
    {
      "cell_type": "code",
      "source": [
        "from langchain_openai import ChatOpenAI\n",
        "from langchain_core.messages import SystemMessage, HumanMessage, RemoveMessage\n",
        "from langgraph.graph import MessagesState\n",
        "from langgraph.graph import END\n",
        "\n",
        "model = ChatOpenAI(model=\"gpt-4o-mini\", temperature=0)\n",
        "\n",
        "class State(MessagesState):\n",
        "  summary:str\n",
        "\n",
        "\n",
        "#Define the logic to call the model\n",
        "def call_model(state: State) -> State:\n",
        "\n",
        "  #get summary if it exists\n",
        "  summary = state.get(\"summary\", \"\")\n",
        "\n",
        "  #If there is summmary, then we do this\n",
        "  if summary:\n",
        "\n",
        "    #Add summary to system message\n",
        "    system_message = f\"Summary of conversation earlier: {summary}\"\n",
        "\n",
        "    #Apend summary to any newer messages\n",
        "    messages = [SystemMessage(content=system_message)] + state[\"messages\"]\n",
        "\n",
        "  else:\n",
        "    messages = state[\"messages\"]\n",
        "\n",
        "  response = model.invoke(messages)\n",
        "  return {\"messages\":response}\n",
        "\n",
        "def summarize_conversation(state: State)-> State:\n",
        "\n",
        "  #First, we get any existing summary\n",
        "  summary = state.get(\"summary\", \"\")\n",
        "\n",
        "  #Create our summarization prompt\n",
        "  if summary:\n",
        "\n",
        "    # if summary already exists\n",
        "    summary_message = (\n",
        "        f\"This is summary of the conversation to date: {summary}\\n\\n\"\n",
        "        \"Extend the summary by taking into account the new messages above:\"\n",
        "    )\n",
        "  else:\n",
        "    summary_message = \"Create a summary of the conversation above:\"\n",
        "\n",
        "  #Add prompt to our history\n",
        "  messages = state[\"messages\"] + [HumanMessage(content=summary_message)]\n",
        "  response = model.invoke(messages)\n",
        "\n",
        "  #Delete all but the 2 most recent messages\n",
        "  delete_messages = [RemoveMessage(id=m.id) for m in state[\"messages\"][:-2]]\n",
        "  return {\"summary\": response.content, \"messages\":delete_messages}\n",
        "\n",
        "\n",
        "#Determine whether to end or summarize the conversation\n",
        "def should_continue(state: State):\n",
        "  \"\"\"Return the next node to execute. \"\"\"\n",
        "\n",
        "  messages = state[\"messages\"]\n",
        "\n",
        "  # If there are more than six messages, then we summarize the conversation\n",
        "  if len(messages)>6:\n",
        "    return \"summarize_conversation\"\n",
        "  # Otherwise we can just end\n",
        "  return END"
      ],
      "metadata": {
        "id": "0ZabZ1WysxU0"
      },
      "execution_count": 7,
      "outputs": []
    },
    {
      "cell_type": "markdown",
      "source": [
        "Now, we just re-complie with our sqlite checkpointer."
      ],
      "metadata": {
        "id": "YKiflaQetwCf"
      }
    },
    {
      "cell_type": "code",
      "source": [
        "from IPython.display import Image, display\n",
        "from langgraph.checkpoint.memory import MemorySaver\n",
        "from langgraph.graph import StateGraph, START\n",
        "\n",
        "# Define a new graph\n",
        "workflow = StateGraph(State)\n",
        "workflow.add_node(\"conversation\", call_model)\n",
        "workflow.add_node(summarize_conversation)\n",
        "\n",
        "# Set the entrypoint as conversation\n",
        "workflow.add_edge(START, \"conversation\")\n",
        "workflow.add_conditional_edges(\"conversation\", should_continue)\n",
        "workflow.add_edge(\"summarize_conversation\", END)\n",
        "\n",
        "# Compile\n",
        "memory = MemorySaver()\n",
        "graph = workflow.compile(checkpointer=memory)\n",
        "display(Image(graph.get_graph().draw_mermaid_png()))"
      ],
      "metadata": {
        "colab": {
          "base_uri": "https://localhost:8080/",
          "height": 281
        },
        "id": "KjwHwJQltsEK",
        "outputId": "7563c708-5dff-41ef-aba4-496e9fda6a48"
      },
      "execution_count": 8,
      "outputs": [
        {
          "output_type": "display_data",
          "data": {
            "image/png": "[encoded data removed]",
            "text/plain": [
              "<IPython.core.display.Image object>"
            ]
          },
          "metadata": {}
        }
      ]
    },
    {
      "cell_type": "code",
      "source": [
        "#create a thread\n",
        "config = {\"configurable\": {\"thread_id\":\"1\"}}\n",
        "\n",
        "#State conversation\n",
        "input_message = HumanMessage(content = \"Hi! I am Tejaswi\")\n",
        "output = graph.invoke({\"messages\": [input_message]}, config)\n",
        "for m in output['messages'][-1:]:\n",
        "  m.pretty_print()\n",
        "\n",
        "input_message = HumanMessage(content = \"What is the LLM?\")\n",
        "output = graph.invoke({\"messages\": [input_message]}, config)\n",
        "for m in output['messages'][-1:]:\n",
        "  m.pretty_print()\n",
        "\n",
        "input_message = HumanMessage(content = \"I would like to know more about the use cases of LLM?\")\n",
        "output = graph.invoke({\"messages\": [input_message]}, config)\n",
        "for m in output['messages'][-1:]:\n",
        "  m.pretty_print()"
      ],
      "metadata": {
        "colab": {
          "base_uri": "https://localhost:8080/"
        },
        "id": "23sbwz_At9DB",
        "outputId": "e827fdd8-ce78-45ec-eac0-a10ab0d28768"
      },
      "execution_count": 9,
      "outputs": [
        {
          "output_type": "stream",
          "name": "stdout",
          "text": [
            "==================================\u001b[1m Ai Message \u001b[0m==================================\n",
            "\n",
            "Hi Tejaswi! How can I assist you today?\n",
            "==================================\u001b[1m Ai Message \u001b[0m==================================\n",
            "\n",
            "LLM stands for \"Large Language Model.\" It refers to a type of artificial intelligence model that is trained on vast amounts of text data to understand and generate human-like language. These models use deep learning techniques, particularly neural networks, to process and generate text based on the patterns they learn during training.\n",
            "\n",
            "Some key features of LLMs include:\n",
            "\n",
            "1. **Natural Language Understanding**: They can comprehend and respond to text inputs in a way that mimics human conversation.\n",
            "\n",
            "2. **Text Generation**: LLMs can generate coherent and contextually relevant text, making them useful for applications like chatbots, content creation, and more.\n",
            "\n",
            "3. **Versatility**: They can perform a variety of language-related tasks, such as translation, summarization, question answering, and more.\n",
            "\n",
            "4. **Scale**: The \"large\" in LLM refers to the size of the model, which typically has billions of parameters, allowing it to capture complex language patterns.\n",
            "\n",
            "Examples of LLMs include OpenAI's GPT-3 and GPT-4, Google's BERT, and others. These models have been widely adopted in various applications across industries. If you have more specific questions about LLMs or their applications, feel free to ask!\n",
            "==================================\u001b[1m Ai Message \u001b[0m==================================\n",
            "\n",
            "Large Language Models (LLMs) have a wide range of use cases across various industries and applications. Here are some of the most common and impactful use cases:\n",
            "\n",
            "1. **Chatbots and Virtual Assistants**: LLMs can power conversational agents that provide customer support, answer queries, and assist users in real-time. They can handle a variety of topics and maintain context over multiple interactions.\n",
            "\n",
            "2. **Content Creation**: LLMs can generate articles, blog posts, marketing copy, and social media content. They can assist writers by providing suggestions, drafting outlines, or even writing entire pieces based on prompts.\n",
            "\n",
            "3. **Translation Services**: LLMs can be used for language translation, providing more nuanced and context-aware translations compared to traditional rule-based systems.\n",
            "\n",
            "4. **Summarization**: They can condense long documents, articles, or reports into concise summaries, making it easier for users to grasp key points quickly.\n",
            "\n",
            "5. **Question Answering**: LLMs can be employed in systems that answer questions based on a given context or knowledge base, making them useful for educational tools, customer support, and information retrieval.\n",
            "\n",
            "6. **Sentiment Analysis**: Businesses can use LLMs to analyze customer feedback, reviews, and social media posts to gauge public sentiment about products or services.\n",
            "\n",
            "7. **Code Generation and Assistance**: LLMs can assist developers by generating code snippets, providing explanations for code, and even debugging, making programming more efficient.\n",
            "\n",
            "8. **Personalization**: LLMs can analyze user behavior and preferences to deliver personalized content, recommendations, and experiences in applications like e-commerce and entertainment.\n",
            "\n",
            "9. **Creative Writing**: They can assist in creative endeavors, such as writing poetry, stories, or scripts, by providing inspiration or generating entire pieces based on prompts.\n",
            "\n",
            "10. **Education and Tutoring**: LLMs can serve as virtual tutors, providing explanations, answering questions, and helping students with their studies in various subjects.\n",
            "\n",
            "11. **Legal and Medical Assistance**: In specialized fields, LLMs can help analyze legal documents, summarize case law, or assist in medical diagnosis by processing and interpreting medical literature.\n",
            "\n",
            "12. **Data Analysis and Insights**: LLMs can analyze large datasets of text to extract insights, trends, and patterns, which can be valuable for businesses and researchers.\n",
            "\n",
            "These use cases demonstrate the versatility of LLMs and their potential to enhance productivity, creativity, and efficiency across various domains. As the technology continues to evolve, new applications and use cases are likely to emerge. If you have a specific area of interest or application in mind, let me know, and I can provide more detailed information!\n"
          ]
        }
      ]
    },
    {
      "cell_type": "code",
      "source": [
        "config = {\"configurable\": {\"thread_id\":\"1\"}}\n",
        "graph_state = graph.get_state(config)\n",
        "graph_state"
      ],
      "metadata": {
        "colab": {
          "base_uri": "https://localhost:8080/"
        },
        "id": "5mY2-pfEuBRi",
        "outputId": "c8d62c0b-3b8b-4252-93e6-d61c1f625ba8"
      },
      "execution_count": 10,
      "outputs": [
        {
          "output_type": "execute_result",
          "data": {
            "text/plain": [
              "StateSnapshot(values={'messages': [HumanMessage(content='Hi! I am Tejaswi', additional_kwargs={}, response_metadata={}, id='c9ddb90b-55e3-4050-bbec-28fd21eaad87'), AIMessage(content='Hi Tejaswi! How can I assist you today?', additional_kwargs={'refusal': None}, response_metadata={'token_usage': {'completion_tokens': 12, 'prompt_tokens': 14, 'total_tokens': 26, 'completion_tokens_details': {'accepted_prediction_tokens': 0, 'audio_tokens': 0, 'reasoning_tokens': 0, 'rejected_prediction_tokens': 0}, 'prompt_tokens_details': {'audio_tokens': 0, 'cached_tokens': 0}}, 'model_name': 'gpt-4o-mini-2024-07-18', 'system_fingerprint': 'fp_34a54ae93c', 'id': 'chatcmpl-BfOMR5uMDySy1u31TpbxjDwRQUTj1', 'service_tier': 'default', 'finish_reason': 'stop', 'logprobs': None}, id='run--bc4e2aed-107a-40aa-bd87-3677a564ed99-0', usage_metadata={'input_tokens': 14, 'output_tokens': 12, 'total_tokens': 26, 'input_token_details': {'audio': 0, 'cache_read': 0}, 'output_token_details': {'audio': 0, 'reasoning': 0}}), HumanMessage(content='What is the LLM?', additional_kwargs={}, response_metadata={}, id='c262b4f9-d224-4126-9661-8165307a97db'), AIMessage(content='LLM stands for \"Large Language Model.\" It refers to a type of artificial intelligence model that is trained on vast amounts of text data to understand and generate human-like language. These models use deep learning techniques, particularly neural networks, to process and generate text based on the patterns they learn during training.\\n\\nSome key features of LLMs include:\\n\\n1. **Natural Language Understanding**: They can comprehend and respond to text inputs in a way that mimics human conversation.\\n\\n2. **Text Generation**: LLMs can generate coherent and contextually relevant text, making them useful for applications like chatbots, content creation, and more.\\n\\n3. **Versatility**: They can perform a variety of language-related tasks, such as translation, summarization, question answering, and more.\\n\\n4. **Scale**: The \"large\" in LLM refers to the size of the model, which typically has billions of parameters, allowing it to capture complex language patterns.\\n\\nExamples of LLMs include OpenAI\\'s GPT-3 and GPT-4, Google\\'s BERT, and others. These models have been widely adopted in various applications across industries. If you have more specific questions about LLMs or their applications, feel free to ask!', additional_kwargs={'refusal': None}, response_metadata={'token_usage': {'completion_tokens': 249, 'prompt_tokens': 40, 'total_tokens': 289, 'completion_tokens_details': {'accepted_prediction_tokens': 0, 'audio_tokens': 0, 'reasoning_tokens': 0, 'rejected_prediction_tokens': 0}, 'prompt_tokens_details': {'audio_tokens': 0, 'cached_tokens': 0}}, 'model_name': 'gpt-4o-mini-2024-07-18', 'system_fingerprint': 'fp_34a54ae93c', 'id': 'chatcmpl-BfOMRNz9dsPhV59ZMQTPKQlGCOaPg', 'service_tier': 'default', 'finish_reason': 'stop', 'logprobs': None}, id='run--4abde102-5f96-434c-878b-c83ab71ad69a-0', usage_metadata={'input_tokens': 40, 'output_tokens': 249, 'total_tokens': 289, 'input_token_details': {'audio': 0, 'cache_read': 0}, 'output_token_details': {'audio': 0, 'reasoning': 0}}), HumanMessage(content='I would like to know more about the use cases of LLM?', additional_kwargs={}, response_metadata={}, id='aa696162-0ee0-4d6b-ae91-a089b8bcad08'), AIMessage(content='Large Language Models (LLMs) have a wide range of use cases across various industries and applications. Here are some of the most common and impactful use cases:\\n\\n1. **Chatbots and Virtual Assistants**: LLMs can power conversational agents that provide customer support, answer queries, and assist users in real-time. They can handle a variety of topics and maintain context over multiple interactions.\\n\\n2. **Content Creation**: LLMs can generate articles, blog posts, marketing copy, and social media content. They can assist writers by providing suggestions, drafting outlines, or even writing entire pieces based on prompts.\\n\\n3. **Translation Services**: LLMs can be used for language translation, providing more nuanced and context-aware translations compared to traditional rule-based systems.\\n\\n4. **Summarization**: They can condense long documents, articles, or reports into concise summaries, making it easier for users to grasp key points quickly.\\n\\n5. **Question Answering**: LLMs can be employed in systems that answer questions based on a given context or knowledge base, making them useful for educational tools, customer support, and information retrieval.\\n\\n6. **Sentiment Analysis**: Businesses can use LLMs to analyze customer feedback, reviews, and social media posts to gauge public sentiment about products or services.\\n\\n7. **Code Generation and Assistance**: LLMs can assist developers by generating code snippets, providing explanations for code, and even debugging, making programming more efficient.\\n\\n8. **Personalization**: LLMs can analyze user behavior and preferences to deliver personalized content, recommendations, and experiences in applications like e-commerce and entertainment.\\n\\n9. **Creative Writing**: They can assist in creative endeavors, such as writing poetry, stories, or scripts, by providing inspiration or generating entire pieces based on prompts.\\n\\n10. **Education and Tutoring**: LLMs can serve as virtual tutors, providing explanations, answering questions, and helping students with their studies in various subjects.\\n\\n11. **Legal and Medical Assistance**: In specialized fields, LLMs can help analyze legal documents, summarize case law, or assist in medical diagnosis by processing and interpreting medical literature.\\n\\n12. **Data Analysis and Insights**: LLMs can analyze large datasets of text to extract insights, trends, and patterns, which can be valuable for businesses and researchers.\\n\\nThese use cases demonstrate the versatility of LLMs and their potential to enhance productivity, creativity, and efficiency across various domains. As the technology continues to evolve, new applications and use cases are likely to emerge. If you have a specific area of interest or application in mind, let me know, and I can provide more detailed information!', additional_kwargs={'refusal': None}, response_metadata={'token_usage': {'completion_tokens': 542, 'prompt_tokens': 311, 'total_tokens': 853, 'completion_tokens_details': {'accepted_prediction_tokens': 0, 'audio_tokens': 0, 'reasoning_tokens': 0, 'rejected_prediction_tokens': 0}, 'prompt_tokens_details': {'audio_tokens': 0, 'cached_tokens': 0}}, 'model_name': 'gpt-4o-mini-2024-07-18', 'system_fingerprint': 'fp_34a54ae93c', 'id': 'chatcmpl-BfOMXkusJtYztWtafMmO6m5MrkkHd', 'service_tier': 'default', 'finish_reason': 'stop', 'logprobs': None}, id='run--f2765572-ba25-4d1c-8d50-2525241313c6-0', usage_metadata={'input_tokens': 311, 'output_tokens': 542, 'total_tokens': 853, 'input_token_details': {'audio': 0, 'cache_read': 0}, 'output_token_details': {'audio': 0, 'reasoning': 0}})]}, next=(), config={'configurable': {'thread_id': '1', 'checkpoint_ns': '', 'checkpoint_id': '1f042bee-4f11-651e-8007-480d65e77c0f'}}, metadata={'source': 'loop', 'writes': {'conversation': {'messages': AIMessage(content='Large Language Models (LLMs) have a wide range of use cases across various industries and applications. Here are some of the most common and impactful use cases:\\n\\n1. **Chatbots and Virtual Assistants**: LLMs can power conversational agents that provide customer support, answer queries, and assist users in real-time. They can handle a variety of topics and maintain context over multiple interactions.\\n\\n2. **Content Creation**: LLMs can generate articles, blog posts, marketing copy, and social media content. They can assist writers by providing suggestions, drafting outlines, or even writing entire pieces based on prompts.\\n\\n3. **Translation Services**: LLMs can be used for language translation, providing more nuanced and context-aware translations compared to traditional rule-based systems.\\n\\n4. **Summarization**: They can condense long documents, articles, or reports into concise summaries, making it easier for users to grasp key points quickly.\\n\\n5. **Question Answering**: LLMs can be employed in systems that answer questions based on a given context or knowledge base, making them useful for educational tools, customer support, and information retrieval.\\n\\n6. **Sentiment Analysis**: Businesses can use LLMs to analyze customer feedback, reviews, and social media posts to gauge public sentiment about products or services.\\n\\n7. **Code Generation and Assistance**: LLMs can assist developers by generating code snippets, providing explanations for code, and even debugging, making programming more efficient.\\n\\n8. **Personalization**: LLMs can analyze user behavior and preferences to deliver personalized content, recommendations, and experiences in applications like e-commerce and entertainment.\\n\\n9. **Creative Writing**: They can assist in creative endeavors, such as writing poetry, stories, or scripts, by providing inspiration or generating entire pieces based on prompts.\\n\\n10. **Education and Tutoring**: LLMs can serve as virtual tutors, providing explanations, answering questions, and helping students with their studies in various subjects.\\n\\n11. **Legal and Medical Assistance**: In specialized fields, LLMs can help analyze legal documents, summarize case law, or assist in medical diagnosis by processing and interpreting medical literature.\\n\\n12. **Data Analysis and Insights**: LLMs can analyze large datasets of text to extract insights, trends, and patterns, which can be valuable for businesses and researchers.\\n\\nThese use cases demonstrate the versatility of LLMs and their potential to enhance productivity, creativity, and efficiency across various domains. As the technology continues to evolve, new applications and use cases are likely to emerge. If you have a specific area of interest or application in mind, let me know, and I can provide more detailed information!', additional_kwargs={'refusal': None}, response_metadata={'token_usage': {'completion_tokens': 542, 'prompt_tokens': 311, 'total_tokens': 853, 'completion_tokens_details': {'accepted_prediction_tokens': 0, 'audio_tokens': 0, 'reasoning_tokens': 0, 'rejected_prediction_tokens': 0}, 'prompt_tokens_details': {'audio_tokens': 0, 'cached_tokens': 0}}, 'model_name': 'gpt-4o-mini-2024-07-18', 'system_fingerprint': 'fp_34a54ae93c', 'id': 'chatcmpl-BfOMXkusJtYztWtafMmO6m5MrkkHd', 'service_tier': 'default', 'finish_reason': 'stop', 'logprobs': None}, id='run--f2765572-ba25-4d1c-8d50-2525241313c6-0', usage_metadata={'input_tokens': 311, 'output_tokens': 542, 'total_tokens': 853, 'input_token_details': {'audio': 0, 'cache_read': 0}, 'output_token_details': {'audio': 0, 'reasoning': 0}})}}, 'step': 7, 'parents': {}, 'thread_id': '1'}, created_at='2025-06-06T10:13:30.070917+00:00', parent_config={'configurable': {'thread_id': '1', 'checkpoint_ns': '', 'checkpoint_id': '1f042bed-d0eb-6db6-8006-5bf16d862f66'}}, tasks=(), interrupts=())"
            ]
          },
          "metadata": {},
          "execution_count": 10
        }
      ]
    },
    {
      "cell_type": "markdown",
      "source": [
        "\n",
        "> Persisting state\n",
        "\n",
        "\n",
        "Using database like Sqlite means state is persisted!\n",
        "\n",
        "For example, we can re-start the notebook kernel and see that we can still load from Sqlite DB on disk."
      ],
      "metadata": {
        "id": "xJyGBrzPvH9c"
      }
    },
    {
      "cell_type": "code",
      "source": [
        "# Create a thread\n",
        "config = {\"configurable\": {\"thread_id\": \"1\"}}\n",
        "graph_state = graph.get_state(config)\n",
        "graph_state"
      ],
      "metadata": {
        "colab": {
          "base_uri": "https://localhost:8080/"
        },
        "id": "qrB6uNBJu9u3",
        "outputId": "9eb7b914-71e1-42aa-b944-c6235fadf6d9"
      },
      "execution_count": 11,
      "outputs": [
        {
          "output_type": "execute_result",
          "data": {
            "text/plain": [
              "StateSnapshot(values={'messages': [HumanMessage(content='Hi! I am Tejaswi', additional_kwargs={}, response_metadata={}, id='c9ddb90b-55e3-4050-bbec-28fd21eaad87'), AIMessage(content='Hi Tejaswi! How can I assist you today?', additional_kwargs={'refusal': None}, response_metadata={'token_usage': {'completion_tokens': 12, 'prompt_tokens': 14, 'total_tokens': 26, 'completion_tokens_details': {'accepted_prediction_tokens': 0, 'audio_tokens': 0, 'reasoning_tokens': 0, 'rejected_prediction_tokens': 0}, 'prompt_tokens_details': {'audio_tokens': 0, 'cached_tokens': 0}}, 'model_name': 'gpt-4o-mini-2024-07-18', 'system_fingerprint': 'fp_34a54ae93c', 'id': 'chatcmpl-BfOMR5uMDySy1u31TpbxjDwRQUTj1', 'service_tier': 'default', 'finish_reason': 'stop', 'logprobs': None}, id='run--bc4e2aed-107a-40aa-bd87-3677a564ed99-0', usage_metadata={'input_tokens': 14, 'output_tokens': 12, 'total_tokens': 26, 'input_token_details': {'audio': 0, 'cache_read': 0}, 'output_token_details': {'audio': 0, 'reasoning': 0}}), HumanMessage(content='What is the LLM?', additional_kwargs={}, response_metadata={}, id='c262b4f9-d224-4126-9661-8165307a97db'), AIMessage(content='LLM stands for \"Large Language Model.\" It refers to a type of artificial intelligence model that is trained on vast amounts of text data to understand and generate human-like language. These models use deep learning techniques, particularly neural networks, to process and generate text based on the patterns they learn during training.\\n\\nSome key features of LLMs include:\\n\\n1. **Natural Language Understanding**: They can comprehend and respond to text inputs in a way that mimics human conversation.\\n\\n2. **Text Generation**: LLMs can generate coherent and contextually relevant text, making them useful for applications like chatbots, content creation, and more.\\n\\n3. **Versatility**: They can perform a variety of language-related tasks, such as translation, summarization, question answering, and more.\\n\\n4. **Scale**: The \"large\" in LLM refers to the size of the model, which typically has billions of parameters, allowing it to capture complex language patterns.\\n\\nExamples of LLMs include OpenAI\\'s GPT-3 and GPT-4, Google\\'s BERT, and others. These models have been widely adopted in various applications across industries. If you have more specific questions about LLMs or their applications, feel free to ask!', additional_kwargs={'refusal': None}, response_metadata={'token_usage': {'completion_tokens': 249, 'prompt_tokens': 40, 'total_tokens': 289, 'completion_tokens_details': {'accepted_prediction_tokens': 0, 'audio_tokens': 0, 'reasoning_tokens': 0, 'rejected_prediction_tokens': 0}, 'prompt_tokens_details': {'audio_tokens': 0, 'cached_tokens': 0}}, 'model_name': 'gpt-4o-mini-2024-07-18', 'system_fingerprint': 'fp_34a54ae93c', 'id': 'chatcmpl-BfOMRNz9dsPhV59ZMQTPKQlGCOaPg', 'service_tier': 'default', 'finish_reason': 'stop', 'logprobs': None}, id='run--4abde102-5f96-434c-878b-c83ab71ad69a-0', usage_metadata={'input_tokens': 40, 'output_tokens': 249, 'total_tokens': 289, 'input_token_details': {'audio': 0, 'cache_read': 0}, 'output_token_details': {'audio': 0, 'reasoning': 0}}), HumanMessage(content='I would like to know more about the use cases of LLM?', additional_kwargs={}, response_metadata={}, id='aa696162-0ee0-4d6b-ae91-a089b8bcad08'), AIMessage(content='Large Language Models (LLMs) have a wide range of use cases across various industries and applications. Here are some of the most common and impactful use cases:\\n\\n1. **Chatbots and Virtual Assistants**: LLMs can power conversational agents that provide customer support, answer queries, and assist users in real-time. They can handle a variety of topics and maintain context over multiple interactions.\\n\\n2. **Content Creation**: LLMs can generate articles, blog posts, marketing copy, and social media content. They can assist writers by providing suggestions, drafting outlines, or even writing entire pieces based on prompts.\\n\\n3. **Translation Services**: LLMs can be used for language translation, providing more nuanced and context-aware translations compared to traditional rule-based systems.\\n\\n4. **Summarization**: They can condense long documents, articles, or reports into concise summaries, making it easier for users to grasp key points quickly.\\n\\n5. **Question Answering**: LLMs can be employed in systems that answer questions based on a given context or knowledge base, making them useful for educational tools, customer support, and information retrieval.\\n\\n6. **Sentiment Analysis**: Businesses can use LLMs to analyze customer feedback, reviews, and social media posts to gauge public sentiment about products or services.\\n\\n7. **Code Generation and Assistance**: LLMs can assist developers by generating code snippets, providing explanations for code, and even debugging, making programming more efficient.\\n\\n8. **Personalization**: LLMs can analyze user behavior and preferences to deliver personalized content, recommendations, and experiences in applications like e-commerce and entertainment.\\n\\n9. **Creative Writing**: They can assist in creative endeavors, such as writing poetry, stories, or scripts, by providing inspiration or generating entire pieces based on prompts.\\n\\n10. **Education and Tutoring**: LLMs can serve as virtual tutors, providing explanations, answering questions, and helping students with their studies in various subjects.\\n\\n11. **Legal and Medical Assistance**: In specialized fields, LLMs can help analyze legal documents, summarize case law, or assist in medical diagnosis by processing and interpreting medical literature.\\n\\n12. **Data Analysis and Insights**: LLMs can analyze large datasets of text to extract insights, trends, and patterns, which can be valuable for businesses and researchers.\\n\\nThese use cases demonstrate the versatility of LLMs and their potential to enhance productivity, creativity, and efficiency across various domains. As the technology continues to evolve, new applications and use cases are likely to emerge. If you have a specific area of interest or application in mind, let me know, and I can provide more detailed information!', additional_kwargs={'refusal': None}, response_metadata={'token_usage': {'completion_tokens': 542, 'prompt_tokens': 311, 'total_tokens': 853, 'completion_tokens_details': {'accepted_prediction_tokens': 0, 'audio_tokens': 0, 'reasoning_tokens': 0, 'rejected_prediction_tokens': 0}, 'prompt_tokens_details': {'audio_tokens': 0, 'cached_tokens': 0}}, 'model_name': 'gpt-4o-mini-2024-07-18', 'system_fingerprint': 'fp_34a54ae93c', 'id': 'chatcmpl-BfOMXkusJtYztWtafMmO6m5MrkkHd', 'service_tier': 'default', 'finish_reason': 'stop', 'logprobs': None}, id='run--f2765572-ba25-4d1c-8d50-2525241313c6-0', usage_metadata={'input_tokens': 311, 'output_tokens': 542, 'total_tokens': 853, 'input_token_details': {'audio': 0, 'cache_read': 0}, 'output_token_details': {'audio': 0, 'reasoning': 0}})]}, next=(), config={'configurable': {'thread_id': '1', 'checkpoint_ns': '', 'checkpoint_id': '1f042bee-4f11-651e-8007-480d65e77c0f'}}, metadata={'source': 'loop', 'writes': {'conversation': {'messages': AIMessage(content='Large Language Models (LLMs) have a wide range of use cases across various industries and applications. Here are some of the most common and impactful use cases:\\n\\n1. **Chatbots and Virtual Assistants**: LLMs can power conversational agents that provide customer support, answer queries, and assist users in real-time. They can handle a variety of topics and maintain context over multiple interactions.\\n\\n2. **Content Creation**: LLMs can generate articles, blog posts, marketing copy, and social media content. They can assist writers by providing suggestions, drafting outlines, or even writing entire pieces based on prompts.\\n\\n3. **Translation Services**: LLMs can be used for language translation, providing more nuanced and context-aware translations compared to traditional rule-based systems.\\n\\n4. **Summarization**: They can condense long documents, articles, or reports into concise summaries, making it easier for users to grasp key points quickly.\\n\\n5. **Question Answering**: LLMs can be employed in systems that answer questions based on a given context or knowledge base, making them useful for educational tools, customer support, and information retrieval.\\n\\n6. **Sentiment Analysis**: Businesses can use LLMs to analyze customer feedback, reviews, and social media posts to gauge public sentiment about products or services.\\n\\n7. **Code Generation and Assistance**: LLMs can assist developers by generating code snippets, providing explanations for code, and even debugging, making programming more efficient.\\n\\n8. **Personalization**: LLMs can analyze user behavior and preferences to deliver personalized content, recommendations, and experiences in applications like e-commerce and entertainment.\\n\\n9. **Creative Writing**: They can assist in creative endeavors, such as writing poetry, stories, or scripts, by providing inspiration or generating entire pieces based on prompts.\\n\\n10. **Education and Tutoring**: LLMs can serve as virtual tutors, providing explanations, answering questions, and helping students with their studies in various subjects.\\n\\n11. **Legal and Medical Assistance**: In specialized fields, LLMs can help analyze legal documents, summarize case law, or assist in medical diagnosis by processing and interpreting medical literature.\\n\\n12. **Data Analysis and Insights**: LLMs can analyze large datasets of text to extract insights, trends, and patterns, which can be valuable for businesses and researchers.\\n\\nThese use cases demonstrate the versatility of LLMs and their potential to enhance productivity, creativity, and efficiency across various domains. As the technology continues to evolve, new applications and use cases are likely to emerge. If you have a specific area of interest or application in mind, let me know, and I can provide more detailed information!', additional_kwargs={'refusal': None}, response_metadata={'token_usage': {'completion_tokens': 542, 'prompt_tokens': 311, 'total_tokens': 853, 'completion_tokens_details': {'accepted_prediction_tokens': 0, 'audio_tokens': 0, 'reasoning_tokens': 0, 'rejected_prediction_tokens': 0}, 'prompt_tokens_details': {'audio_tokens': 0, 'cached_tokens': 0}}, 'model_name': 'gpt-4o-mini-2024-07-18', 'system_fingerprint': 'fp_34a54ae93c', 'id': 'chatcmpl-BfOMXkusJtYztWtafMmO6m5MrkkHd', 'service_tier': 'default', 'finish_reason': 'stop', 'logprobs': None}, id='run--f2765572-ba25-4d1c-8d50-2525241313c6-0', usage_metadata={'input_tokens': 311, 'output_tokens': 542, 'total_tokens': 853, 'input_token_details': {'audio': 0, 'cache_read': 0}, 'output_token_details': {'audio': 0, 'reasoning': 0}})}}, 'step': 7, 'parents': {}, 'thread_id': '1'}, created_at='2025-06-06T10:13:30.070917+00:00', parent_config={'configurable': {'thread_id': '1', 'checkpoint_ns': '', 'checkpoint_id': '1f042bed-d0eb-6db6-8006-5bf16d862f66'}}, tasks=(), interrupts=())"
            ]
          },
          "metadata": {},
          "execution_count": 11
        }
      ]
    }
  ]
}