{
  "nbformat": 4,
  "nbformat_minor": 0,
  "metadata": {
    "colab": {
      "provenance": [],
      "authorship_tag": "ABX9TyMepE6+aUFITtT/YR4NLvBu",
      "include_colab_link": true
    },
    "kernelspec": {
      "name": "python3",
      "display_name": "Python 3"
    },
    "language_info": {
      "name": "python"
    }
  },
  "cells": [
    {
      "cell_type": "markdown",
      "metadata": {
        "id": "view-in-github",
        "colab_type": "text"
      },
      "source": [
        "<a href=\"https://colab.research.google.com/github/tejaswishetty17/Agentic-AI/blob/main/Calling_Agents_5_(Reducers).ipynb\" target=\"_parent\"><img src=\"https://colab.research.google.com/assets/colab-badge.svg\" alt=\"Open In Colab\"/></a>"
      ]
    },
    {
      "cell_type": "markdown",
      "source": [
        "#Reducer\n",
        "\n",
        "A practical challenge when working  with messages is managing long-running conversations.\n",
        "\n",
        "Long-running conversations result in high token usage and latency if we are not careful, because we pass a growing list of messages to the model.\n",
        "\n",
        "we have a few ways to address this."
      ],
      "metadata": {
        "id": "LD2mzeGnse2L"
      }
    },
    {
      "cell_type": "code",
      "execution_count": null,
      "metadata": {
        "id": "qwYnmPxYn08w"
      },
      "outputs": [],
      "source": [
        "pip install -q langchain langchain_openai langchain_community langgraph langchain-core"
      ]
    },
    {
      "cell_type": "code",
      "source": [
        "import os\n",
        "os.environ[\"OPENAI_API_KEY\"] = \"<YOUR_API_KEY>\""
      ],
      "metadata": {
        "id": "vw9l9u1Kn4La"
      },
      "execution_count": 2,
      "outputs": []
    },
    {
      "cell_type": "code",
      "source": [
        "from pprint import pprint\n",
        "from langchain_core.messages import AIMessage, HumanMessage\n",
        "messages = [AIMessage(f\"Do you want to know more about LLM?\", name = \"Agent\")]\n",
        "messages.append(HumanMessage(f\"Yes, I know about LLM.But what are the real life use cases of LLM?\", name= \"User\"))\n",
        "\n",
        "for m in messages:\n",
        "  m.pretty_print()"
      ],
      "metadata": {
        "colab": {
          "base_uri": "https://localhost:8080/"
        },
        "id": "dRBl_49XoBce",
        "outputId": "6edb9fc9-49eb-43b4-b80b-53d2cc11ba02"
      },
      "execution_count": 41,
      "outputs": [
        {
          "output_type": "stream",
          "name": "stdout",
          "text": [
            "==================================\u001b[1m Ai Message \u001b[0m==================================\n",
            "Name: Agent\n",
            "\n",
            "Do you want to know more about LLM?\n",
            "================================\u001b[1m Human Message \u001b[0m=================================\n",
            "Name: User\n",
            "\n",
            "Yes, I know about LLM.But what are the real life use cases of LLM?\n"
          ]
        }
      ]
    },
    {
      "cell_type": "code",
      "source": [
        "from langchain_openai import ChatOpenAI\n",
        "llm = ChatOpenAI(model=\"gpt-4o-mini\", temperature = 0)\n",
        "llm.invoke(messages)"
      ],
      "metadata": {
        "colab": {
          "base_uri": "https://localhost:8080/"
        },
        "id": "1uBirapdq318",
        "outputId": "820043a9-8b0a-4fcb-f27e-2b534006f485"
      },
      "execution_count": 42,
      "outputs": [
        {
          "output_type": "execute_result",
          "data": {
            "text/plain": [
              "AIMessage(content=\"Large Language Models (LLMs) have a wide range of real-life use cases across various industries. Here are some notable examples:\\n\\n1. **Customer Support**: LLMs can power chatbots and virtual assistants to handle customer inquiries, provide support, and resolve issues, improving response times and customer satisfaction.\\n\\n2. **Content Creation**: They can assist in generating articles, blog posts, marketing copy, and social media content, helping writers brainstorm ideas or even produce complete drafts.\\n\\n3. **Language Translation**: LLMs can provide real-time translation services, making communication easier across different languages and cultures.\\n\\n4. **Personal Assistants**: Virtual assistants like Siri, Alexa, and Google Assistant use LLMs to understand and respond to user queries, manage schedules, and control smart home devices.\\n\\n5. **Education and Tutoring**: LLMs can serve as personalized tutors, providing explanations, answering questions, and generating practice problems tailored to individual learning needs.\\n\\n6. **Programming Assistance**: Tools like GitHub Copilot use LLMs to help developers by suggesting code snippets, debugging, and providing documentation.\\n\\n7. **Sentiment Analysis**: Businesses can use LLMs to analyze customer feedback, reviews, and social media posts to gauge public sentiment about products or services.\\n\\n8. **Legal Document Review**: LLMs can assist in reviewing legal documents, identifying relevant clauses, and summarizing lengthy texts, saving time for legal professionals.\\n\\n9. **Healthcare**: In the medical field, LLMs can help in processing patient records, providing information on medical conditions, and assisting in clinical decision-making.\\n\\n10. **Creative Writing**: Authors and screenwriters can use LLMs for brainstorming ideas, generating dialogue, and overcoming writer's block.\\n\\n11. **Research Assistance**: LLMs can help researchers by summarizing academic papers, generating literature reviews, and even suggesting research directions.\\n\\n12. **Gaming**: In video games, LLMs can be used to create dynamic dialogues and narratives, enhancing player engagement and experience.\\n\\nThese use cases demonstrate the versatility of LLMs and their potential to enhance productivity, creativity, and efficiency across various domains.\", additional_kwargs={'refusal': None}, response_metadata={'token_usage': {'completion_tokens': 441, 'prompt_tokens': 44, 'total_tokens': 485, 'completion_tokens_details': {'accepted_prediction_tokens': 0, 'audio_tokens': 0, 'reasoning_tokens': 0, 'rejected_prediction_tokens': 0}, 'prompt_tokens_details': {'audio_tokens': 0, 'cached_tokens': 0}}, 'model_name': 'gpt-4o-mini-2024-07-18', 'system_fingerprint': 'fp_34a54ae93c', 'id': 'chatcmpl-BeyTu002O7Rsa4fZoN0fEvIgadk8M', 'service_tier': 'default', 'finish_reason': 'stop', 'logprobs': None}, id='run--c1f44fc8-6c08-4b8c-af5b-d34a851c3456-0', usage_metadata={'input_tokens': 44, 'output_tokens': 441, 'total_tokens': 485, 'input_token_details': {'audio': 0, 'cache_read': 0}, 'output_token_details': {'audio': 0, 'reasoning': 0}})"
            ]
          },
          "metadata": {},
          "execution_count": 42
        }
      ]
    },
    {
      "cell_type": "code",
      "source": [
        "from IPython.display import Image, display\n",
        "from langgraph.graph import MessagesState\n",
        "from langgraph.graph import StateGraph, START, END\n",
        "\n",
        "#Node\n",
        "def chat_model_node(state:MessagesState)-> MessagesState:\n",
        "  return {\"messages\":llm.invoke(state[\"messages\"])}\n",
        "\n",
        "#Build graph\n",
        "builder = StateGraph(MessagesState)\n",
        "builder.add_node(\"chat_model\", chat_model_node)\n",
        "builder.add_edge(START, \"chat_model\")\n",
        "builder.add_edge(\"chat_model\", END)\n",
        "graph = builder.compile()\n",
        "\n",
        "#View\n",
        "display(Image(graph.get_graph().draw_mermaid_png()))\n"
      ],
      "metadata": {
        "colab": {
          "base_uri": "https://localhost:8080/",
          "height": 251
        },
        "id": "hTD6aDnErKNy",
        "outputId": "f5f68d75-25df-4ddc-a57e-763be8919a92"
      },
      "execution_count": 43,
      "outputs": [
        {
          "output_type": "display_data",
          "data": {
            "image/png": "[encoded data removed]",
            "text/plain": [
              "<IPython.core.display.Image object>"
            ]
          },
          "metadata": {}
        }
      ]
    },
    {
      "cell_type": "code",
      "source": [
        "output = graph.invoke({'messages':messages})\n",
        "for m in output['messages']:\n",
        "  m.pretty_print()"
      ],
      "metadata": {
        "colab": {
          "base_uri": "https://localhost:8080/"
        },
        "id": "AHXXqN5CsKbn",
        "outputId": "55982a90-0530-44a4-d935-bd5c697a9d9b"
      },
      "execution_count": 44,
      "outputs": [
        {
          "output_type": "stream",
          "name": "stdout",
          "text": [
            "==================================\u001b[1m Ai Message \u001b[0m==================================\n",
            "Name: Agent\n",
            "\n",
            "Do you want to know more about LLM?\n",
            "================================\u001b[1m Human Message \u001b[0m=================================\n",
            "Name: User\n",
            "\n",
            "Yes, I know about LLM.But what are the real life use cases of LLM?\n",
            "==================================\u001b[1m Ai Message \u001b[0m==================================\n",
            "\n",
            "Large Language Models (LLMs) have a wide range of real-life use cases across various industries. Here are some notable examples:\n",
            "\n",
            "1. **Customer Support**: LLMs can power chatbots and virtual assistants to handle customer inquiries, provide support, and resolve issues in real-time, improving response times and customer satisfaction.\n",
            "\n",
            "2. **Content Creation**: They can assist in generating articles, blog posts, marketing copy, and social media content, helping writers brainstorm ideas or even produce complete drafts.\n",
            "\n",
            "3. **Language Translation**: LLMs can provide high-quality translations between languages, making communication easier in a globalized world.\n",
            "\n",
            "4. **Personal Assistants**: Virtual assistants like Siri, Alexa, and Google Assistant use LLMs to understand and respond to user queries, manage schedules, and control smart home devices.\n",
            "\n",
            "5. **Education and Tutoring**: LLMs can serve as personalized tutors, providing explanations, answering questions, and generating practice problems tailored to individual learning needs.\n",
            "\n",
            "6. **Programming Assistance**: Tools like GitHub Copilot use LLMs to help developers by suggesting code snippets, debugging, and providing documentation.\n",
            "\n",
            "7. **Sentiment Analysis**: Businesses can use LLMs to analyze customer feedback, reviews, and social media posts to gauge public sentiment about products or services.\n",
            "\n",
            "8. **Legal Document Review**: LLMs can assist in reviewing contracts and legal documents, identifying key clauses, and suggesting edits, thereby streamlining the legal process.\n",
            "\n",
            "9. **Healthcare**: In the medical field, LLMs can help in summarizing patient records, providing information on medical conditions, and even assisting in diagnosis by analyzing symptoms.\n",
            "\n",
            "10. **Creative Writing**: Authors and screenwriters can use LLMs for brainstorming ideas, generating dialogue, or even co-writing stories.\n",
            "\n",
            "11. **Market Research**: LLMs can analyze trends, summarize reports, and extract insights from large datasets, aiding businesses in making informed decisions.\n",
            "\n",
            "12. **Gaming**: In video games, LLMs can be used to create dynamic narratives, generate dialogue for non-playable characters (NPCs), and enhance player interactions.\n",
            "\n",
            "These use cases demonstrate the versatility of LLMs and their potential to enhance productivity, creativity, and efficiency across various domains.\n"
          ]
        }
      ]
    },
    {
      "cell_type": "markdown",
      "source": [
        "1. Message filtering\n",
        "\n",
        "When we have long-running conversations and have X number of messages, and we decide to keep onlt the last 5-10% messages to maintain the context and reduce the number of tokens.\n",
        "\n",
        "eg: I have 100 messages and we want to keep the last 10 messages to maintain the context"
      ],
      "metadata": {
        "id": "sV-oc1lRs8BO"
      }
    },
    {
      "cell_type": "code",
      "source": [
        "from langchain_core.messages import RemoveMessage\n",
        "\n",
        "\n",
        "#Nodes\n",
        "def filter_messages(state:MessagesState) ->MessagesState:\n",
        "  #Delete all but the 2 most recent messages:\n",
        "  delete_messages = [RemoveMessage(id=m.id) for m in state[\"messages\"][:-2]]\n",
        "  return {\"messages\":delete_messages}\n",
        "\n",
        "def chat_model_node(state:MessagesState)->MessagesState:\n",
        "  return {\"messages\": [llm.invoke(state[\"messages\"])]}\n",
        "\n",
        "#Build graph\n",
        "builder = StateGraph(MessagesState)\n",
        "builder.add_node(\"filter\", filter_messages)\n",
        "builder.add_node(\"chat_model\", chat_model_node)\n",
        "builder.add_edge(START, \"filter\")\n",
        "builder.add_edge(\"filter\", \"chat_model\")\n",
        "builder.add_edge(\"chat_model\", END)\n",
        "graph = builder.compile()\n",
        "\n",
        "\n",
        "#view\n",
        "display(Image(graph.get_graph().draw_mermaid_png()))"
      ],
      "metadata": {
        "colab": {
          "base_uri": "https://localhost:8080/",
          "height": 350
        },
        "id": "N16MvtrpscMu",
        "outputId": "529e845b-fb02-4093-c4ed-cc0c0e6f549f"
      },
      "execution_count": 45,
      "outputs": [
        {
          "output_type": "display_data",
          "data": {
            "image/png": "[encoded data removed]",
            "text/plain": [
              "<IPython.core.display.Image object>"
            ]
          },
          "metadata": {}
        }
      ]
    },
    {
      "cell_type": "code",
      "source": [
        "#Message list with a preamble\n",
        "message = [AIMessage(\"Hi.\", name = \"Agent\", id=\"1\")]\n",
        "messages.append(HumanMessage(\"Hi.\", name = \"User\", id = \"2\"))\n",
        "messages.append(AIMessage(\"Do you want to know more about LLM?\", name=\"Agent\", id = \"3\"))\n",
        "messages.append(HumanMessage(\"Yes, I know about LLM.But what are the real life use cases of LLM?\", name=\"User\", id = \"4\"))\n",
        "\n",
        "#Invoke\n",
        "output = graph.invoke({\"messages\":messages})\n",
        "for m in output['messages']:\n",
        "  m.pretty_print()"
      ],
      "metadata": {
        "colab": {
          "base_uri": "https://localhost:8080/"
        },
        "id": "7iYKy3nGvwrz",
        "outputId": "83f62d99-4e3b-4b82-efd3-260440342962"
      },
      "execution_count": 46,
      "outputs": [
        {
          "output_type": "stream",
          "name": "stdout",
          "text": [
            "==================================\u001b[1m Ai Message \u001b[0m==================================\n",
            "Name: Agent\n",
            "\n",
            "Do you want to know more about LLM?\n",
            "================================\u001b[1m Human Message \u001b[0m=================================\n",
            "Name: User\n",
            "\n",
            "Yes, I know about LLM.But what are the real life use cases of LLM?\n",
            "==================================\u001b[1m Ai Message \u001b[0m==================================\n",
            "\n",
            "Large Language Models (LLMs) have a wide range of real-life use cases across various industries. Here are some notable examples:\n",
            "\n",
            "1. **Customer Support**: LLMs can power chatbots and virtual assistants to handle customer inquiries, provide support, and resolve issues, improving response times and customer satisfaction.\n",
            "\n",
            "2. **Content Creation**: They can assist in generating articles, blog posts, marketing copy, and social media content, helping writers brainstorm ideas or even produce complete drafts.\n",
            "\n",
            "3. **Language Translation**: LLMs can provide real-time translation services, making communication easier across different languages and cultures.\n",
            "\n",
            "4. **Personal Assistants**: Virtual assistants like Siri, Alexa, and Google Assistant use LLMs to understand and respond to user queries, manage schedules, and control smart home devices.\n",
            "\n",
            "5. **Education and Tutoring**: LLMs can serve as personalized tutors, providing explanations, answering questions, and generating practice problems for students in various subjects.\n",
            "\n",
            "6. **Programming Assistance**: Tools like GitHub Copilot use LLMs to help developers by suggesting code snippets, completing functions, and even debugging code.\n",
            "\n",
            "7. **Sentiment Analysis**: Businesses can use LLMs to analyze customer feedback, reviews, and social media posts to gauge public sentiment about their products or services.\n",
            "\n",
            "8. **Legal Document Review**: LLMs can assist in reviewing legal documents, summarizing contracts, and identifying key clauses, which can save time for legal professionals.\n",
            "\n",
            "9. **Healthcare**: In the medical field, LLMs can help in summarizing patient records, providing information on medical conditions, and even assisting in diagnostic processes.\n",
            "\n",
            "10. **Creative Writing**: Authors and screenwriters can use LLMs for brainstorming ideas, developing plots, and generating dialogue, enhancing their creative processes.\n",
            "\n",
            "11. **Research Assistance**: LLMs can help researchers by summarizing academic papers, generating literature reviews, and even suggesting research directions.\n",
            "\n",
            "12. **Gaming**: In video games, LLMs can be used to create dynamic dialogues and narratives, enhancing player engagement and experience.\n",
            "\n",
            "These use cases demonstrate the versatility of LLMs and their potential to transform various sectors by automating tasks, enhancing productivity, and improving user experiences.\n"
          ]
        }
      ]
    },
    {
      "cell_type": "markdown",
      "source": [
        "#Filtering Mesages\n",
        "\n",
        "if you don't need or want to modify the graph state, you can just filter the messages you pass to the chat model.\n",
        "\n",
        "for example, just pass in a filtered list: llm.invoke(messages[-1:]) to the model"
      ],
      "metadata": {
        "id": "n6EHupngwr3l"
      }
    },
    {
      "cell_type": "code",
      "source": [
        "#node\n",
        "def chat_model_node(state:MessagesState)->MessagesState:\n",
        "  return {\"messages\": [llm.invoke(state[\"messages\"][-1:])]}\n",
        "\n",
        "#Build graph\n",
        "builder = StateGraph(MessagesState)\n",
        "builder.add_node(\"chat_model\", chat_model_node)\n",
        "builder.add_edge(START, \"chat_model\")\n",
        "builder.add_edge(\"chat_model\", END)\n",
        "graph = builder.compile()\n",
        "\n",
        "\n",
        "#view\n",
        "display(Image(graph.get_graph().draw_mermaid_png()))"
      ],
      "metadata": {
        "colab": {
          "base_uri": "https://localhost:8080/",
          "height": 251
        },
        "id": "DiXmTvWCxKjb",
        "outputId": "64efe0f4-cee1-489c-f501-417e2afc3f63"
      },
      "execution_count": 47,
      "outputs": [
        {
          "output_type": "display_data",
          "data": {
            "image/png": "[encoded data removed]",
            "text/plain": [
              "<IPython.core.display.Image object>"
            ]
          },
          "metadata": {}
        }
      ]
    },
    {
      "cell_type": "markdown",
      "source": [
        "Let's take our existing lif of messages, append the above LLM response, and append a follow-up question."
      ],
      "metadata": {
        "id": "q1Fn0R4JxoIl"
      }
    },
    {
      "cell_type": "code",
      "source": [
        "#Messages\n",
        "messages.append(output[\"messages\"][-1])\n",
        "messages.append(HumanMessage(f\"Tell me more about LLM!\", name=\"User\"))\n"
      ],
      "metadata": {
        "id": "YbwLJUYrwoE9"
      },
      "execution_count": 48,
      "outputs": []
    },
    {
      "cell_type": "code",
      "source": [
        "#Invoke, using message filtering\n",
        "\n",
        "for m in messages:\n",
        "  m.pretty_print()"
      ],
      "metadata": {
        "colab": {
          "base_uri": "https://localhost:8080/"
        },
        "id": "cb_uZSczyQ2p",
        "outputId": "66bef99f-c9f2-411d-c600-6da0349678f3"
      },
      "execution_count": 49,
      "outputs": [
        {
          "output_type": "stream",
          "name": "stdout",
          "text": [
            "==================================\u001b[1m Ai Message \u001b[0m==================================\n",
            "Name: Agent\n",
            "\n",
            "Do you want to know more about LLM?\n",
            "================================\u001b[1m Human Message \u001b[0m=================================\n",
            "Name: User\n",
            "\n",
            "Yes, I know about LLM.But what are the real life use cases of LLM?\n",
            "================================\u001b[1m Human Message \u001b[0m=================================\n",
            "Name: User\n",
            "\n",
            "Hi.\n",
            "==================================\u001b[1m Ai Message \u001b[0m==================================\n",
            "Name: Agent\n",
            "\n",
            "Do you want to know more about LLM?\n",
            "================================\u001b[1m Human Message \u001b[0m=================================\n",
            "Name: User\n",
            "\n",
            "Yes, I know about LLM.But what are the real life use cases of LLM?\n",
            "==================================\u001b[1m Ai Message \u001b[0m==================================\n",
            "\n",
            "Large Language Models (LLMs) have a wide range of real-life use cases across various industries. Here are some notable examples:\n",
            "\n",
            "1. **Customer Support**: LLMs can power chatbots and virtual assistants to handle customer inquiries, provide support, and resolve issues, improving response times and customer satisfaction.\n",
            "\n",
            "2. **Content Creation**: They can assist in generating articles, blog posts, marketing copy, and social media content, helping writers brainstorm ideas or even produce complete drafts.\n",
            "\n",
            "3. **Language Translation**: LLMs can provide real-time translation services, making communication easier across different languages and cultures.\n",
            "\n",
            "4. **Personal Assistants**: Virtual assistants like Siri, Alexa, and Google Assistant use LLMs to understand and respond to user queries, manage schedules, and control smart home devices.\n",
            "\n",
            "5. **Education and Tutoring**: LLMs can serve as personalized tutors, providing explanations, answering questions, and generating practice problems for students in various subjects.\n",
            "\n",
            "6. **Programming Assistance**: Tools like GitHub Copilot use LLMs to help developers by suggesting code snippets, completing functions, and even debugging code.\n",
            "\n",
            "7. **Sentiment Analysis**: Businesses can use LLMs to analyze customer feedback, reviews, and social media posts to gauge public sentiment about their products or services.\n",
            "\n",
            "8. **Legal Document Review**: LLMs can assist in reviewing legal documents, summarizing contracts, and identifying key clauses, which can save time for legal professionals.\n",
            "\n",
            "9. **Healthcare**: In the medical field, LLMs can help in summarizing patient records, providing information on medical conditions, and even assisting in diagnostic processes.\n",
            "\n",
            "10. **Creative Writing**: Authors and screenwriters can use LLMs for brainstorming ideas, developing plots, and generating dialogue, enhancing their creative processes.\n",
            "\n",
            "11. **Research Assistance**: LLMs can help researchers by summarizing academic papers, generating literature reviews, and even suggesting research directions.\n",
            "\n",
            "12. **Gaming**: In video games, LLMs can be used to create dynamic dialogues and narratives, enhancing player engagement and experience.\n",
            "\n",
            "These use cases demonstrate the versatility of LLMs and their potential to transform various sectors by automating tasks, enhancing productivity, and improving user experiences.\n",
            "================================\u001b[1m Human Message \u001b[0m=================================\n",
            "Name: User\n",
            "\n",
            "Tell me more about LLM!\n"
          ]
        }
      ]
    },
    {
      "cell_type": "code",
      "source": [
        "#Invoke, using message filtering\n",
        "output = graph.invoke({\"messages\":messages})\n",
        "for m in output['messages']:\n",
        "  m.pretty_print()"
      ],
      "metadata": {
        "colab": {
          "base_uri": "https://localhost:8080/"
        },
        "id": "mT0DEZnMzVKQ",
        "outputId": "3d4e552c-e3cb-41d0-a967-14e0c651c7d3"
      },
      "execution_count": 50,
      "outputs": [
        {
          "output_type": "stream",
          "name": "stdout",
          "text": [
            "==================================\u001b[1m Ai Message \u001b[0m==================================\n",
            "Name: Agent\n",
            "\n",
            "Do you want to know more about LLM?\n",
            "================================\u001b[1m Human Message \u001b[0m=================================\n",
            "Name: User\n",
            "\n",
            "Yes, I know about LLM.But what are the real life use cases of LLM?\n",
            "================================\u001b[1m Human Message \u001b[0m=================================\n",
            "Name: User\n",
            "\n",
            "Hi.\n",
            "==================================\u001b[1m Ai Message \u001b[0m==================================\n",
            "Name: Agent\n",
            "\n",
            "Do you want to know more about LLM?\n",
            "================================\u001b[1m Human Message \u001b[0m=================================\n",
            "Name: User\n",
            "\n",
            "Yes, I know about LLM.But what are the real life use cases of LLM?\n",
            "==================================\u001b[1m Ai Message \u001b[0m==================================\n",
            "\n",
            "Large Language Models (LLMs) have a wide range of real-life use cases across various industries. Here are some notable examples:\n",
            "\n",
            "1. **Customer Support**: LLMs can power chatbots and virtual assistants to handle customer inquiries, provide support, and resolve issues, improving response times and customer satisfaction.\n",
            "\n",
            "2. **Content Creation**: They can assist in generating articles, blog posts, marketing copy, and social media content, helping writers brainstorm ideas or even produce complete drafts.\n",
            "\n",
            "3. **Language Translation**: LLMs can provide real-time translation services, making communication easier across different languages and cultures.\n",
            "\n",
            "4. **Personal Assistants**: Virtual assistants like Siri, Alexa, and Google Assistant use LLMs to understand and respond to user queries, manage schedules, and control smart home devices.\n",
            "\n",
            "5. **Education and Tutoring**: LLMs can serve as personalized tutors, providing explanations, answering questions, and generating practice problems for students in various subjects.\n",
            "\n",
            "6. **Programming Assistance**: Tools like GitHub Copilot use LLMs to help developers by suggesting code snippets, completing functions, and even debugging code.\n",
            "\n",
            "7. **Sentiment Analysis**: Businesses can use LLMs to analyze customer feedback, reviews, and social media posts to gauge public sentiment about their products or services.\n",
            "\n",
            "8. **Legal Document Review**: LLMs can assist in reviewing legal documents, summarizing contracts, and identifying key clauses, which can save time for legal professionals.\n",
            "\n",
            "9. **Healthcare**: In the medical field, LLMs can help in summarizing patient records, providing information on medical conditions, and even assisting in diagnostic processes.\n",
            "\n",
            "10. **Creative Writing**: Authors and screenwriters can use LLMs for brainstorming ideas, developing plots, and generating dialogue, enhancing their creative processes.\n",
            "\n",
            "11. **Research Assistance**: LLMs can help researchers by summarizing academic papers, generating literature reviews, and even suggesting research directions.\n",
            "\n",
            "12. **Gaming**: In video games, LLMs can be used to create dynamic dialogues and narratives, enhancing player engagement and experience.\n",
            "\n",
            "These use cases demonstrate the versatility of LLMs and their potential to transform various sectors by automating tasks, enhancing productivity, and improving user experiences.\n",
            "================================\u001b[1m Human Message \u001b[0m=================================\n",
            "Name: User\n",
            "\n",
            "Tell me more about LLM!\n",
            "==================================\u001b[1m Ai Message \u001b[0m==================================\n",
            "\n",
            "LLM stands for \"Large Language Model,\" which refers to a type of artificial intelligence model designed to understand, generate, and manipulate human language. These models are built using deep learning techniques, particularly neural networks, and are trained on vast amounts of text data to learn the patterns, structures, and nuances of language.\n",
            "\n",
            "### Key Features of LLMs:\n",
            "\n",
            "1. **Scale**: LLMs are characterized by their large number of parameters, often in the billions or even trillions. This scale allows them to capture complex language patterns and relationships.\n",
            "\n",
            "2. **Training Data**: They are trained on diverse datasets that include books, articles, websites, and other text sources. This extensive training helps them understand context, grammar, facts, and even some level of reasoning.\n",
            "\n",
            "3. **Natural Language Understanding (NLU)**: LLMs can comprehend and interpret human language, making them capable of tasks like sentiment analysis, summarization, and question-answering.\n",
            "\n",
            "4. **Natural Language Generation (NLG)**: They can generate coherent and contextually relevant text, which can be used for applications like chatbots, content creation, and more.\n",
            "\n",
            "5. **Transfer Learning**: Many LLMs use a technique called transfer learning, where they are first pre-trained on a large corpus of text and then fine-tuned on specific tasks or domains to improve performance.\n",
            "\n",
            "### Applications of LLMs:\n",
            "\n",
            "- **Chatbots and Virtual Assistants**: LLMs power conversational agents that can engage in human-like dialogue.\n",
            "- **Content Creation**: They can assist in writing articles, stories, and other forms of content.\n",
            "- **Translation**: LLMs can be used for translating text between languages.\n",
            "- **Code Generation**: Some models are trained to understand and generate programming code.\n",
            "- **Education**: They can provide tutoring and personalized learning experiences.\n",
            "\n",
            "### Challenges and Considerations:\n",
            "\n",
            "- **Bias**: LLMs can inadvertently learn and propagate biases present in their training data.\n",
            "- **Misinformation**: They can generate plausible-sounding but factually incorrect information.\n",
            "- **Resource Intensive**: Training and deploying LLMs require significant computational resources and energy.\n",
            "\n",
            "### Examples of LLMs:\n",
            "\n",
            "- **GPT (Generative Pre-trained Transformer)**: Developed by OpenAI, with various versions like GPT-3 and GPT-4.\n",
            "- **BERT (Bidirectional Encoder Representations from Transformers)**: Developed by Google, primarily for understanding the context of words in search queries.\n",
            "- **T5 (Text-to-Text Transfer Transformer)**: A model that treats all NLP tasks as text-to-text tasks.\n",
            "\n",
            "Overall, LLMs represent a significant advancement in the field of natural language processing and continue to evolve, with ongoing research aimed at improving their capabilities and addressing their limitations.\n"
          ]
        }
      ]
    },
    {
      "cell_type": "markdown",
      "source": [
        "The state has all of the messages."
      ],
      "metadata": {
        "id": "e0rM7CWPziaU"
      }
    }
  ]
}