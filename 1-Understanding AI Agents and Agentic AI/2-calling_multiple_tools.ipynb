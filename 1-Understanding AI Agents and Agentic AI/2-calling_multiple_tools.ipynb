{
  "nbformat": 4,
  "nbformat_minor": 0,
  "metadata": {
    "colab": {
      "provenance": [],
      "authorship_tag": "ABX9TyPPzMNqXp/97zf+BmC7s72n",
      "include_colab_link": true
    },
    "kernelspec": {
      "name": "python3",
      "display_name": "Python 3"
    },
    "language_info": {
      "name": "python"
    }
  },
  "cells": [
    {
      "cell_type": "markdown",
      "metadata": {
        "id": "view-in-github",
        "colab_type": "text"
      },
      "source": [
        "<a href=\"https://colab.research.google.com/github/tejaswishetty17/Agentic-AI/blob/main/Calling_Agents_2(Calling_Multiple_Agents).ipynb\" target=\"_parent\"><img src=\"https://colab.research.google.com/assets/colab-badge.svg\" alt=\"Open In Colab\"/></a>"
      ]
    },
    {
      "cell_type": "markdown",
      "source": [
        "#ReAct Agent\n",
        "\n",
        "*   act (let the model call specific tools)\n",
        "*   observe (pass the tool output back to the model)\n",
        "*   reason (let the model reason about the tool output and to decide what to do next)\n",
        "\n"
      ],
      "metadata": {
        "id": "zmS2t8WJnSgQ"
      }
    },
    {
      "cell_type": "code",
      "execution_count": 1,
      "metadata": {
        "id": "YE7sotKd8pdp",
        "colab": {
          "base_uri": "https://localhost:8080/"
        },
        "outputId": "63974227-e1db-4190-ddc4-fe41ffdf2208"
      },
      "outputs": [
        {
          "output_type": "stream",
          "name": "stdout",
          "text": [
            "\u001b[2K     \u001b[90m━━━━━━━━━━━━━━━━━━━━━━━━━━━━━━━━━━━━━━━━\u001b[0m \u001b[32m43.7/43.7 kB\u001b[0m \u001b[31m1.2 MB/s\u001b[0m eta \u001b[36m0:00:00\u001b[0m\n",
            "\u001b[2K   \u001b[90m━━━━━━━━━━━━━━━━━━━━━━━━━━━━━━━━━━━━━━━━\u001b[0m \u001b[32m63.4/63.4 kB\u001b[0m \u001b[31m3.3 MB/s\u001b[0m eta \u001b[36m0:00:00\u001b[0m\n",
            "\u001b[2K   \u001b[90m━━━━━━━━━━━━━━━━━━━━━━━━━━━━━━━━━━━━━━━━\u001b[0m \u001b[32m2.5/2.5 MB\u001b[0m \u001b[31m24.8 MB/s\u001b[0m eta \u001b[36m0:00:00\u001b[0m\n",
            "\u001b[2K   \u001b[90m━━━━━━━━━━━━━━━━━━━━━━━━━━━━━━━━━━━━━━━━\u001b[0m \u001b[32m154.9/154.9 kB\u001b[0m \u001b[31m8.3 MB/s\u001b[0m eta \u001b[36m0:00:00\u001b[0m\n",
            "\u001b[2K   \u001b[90m━━━━━━━━━━━━━━━━━━━━━━━━━━━━━━━━━━━━━━━━\u001b[0m \u001b[32m438.5/438.5 kB\u001b[0m \u001b[31m20.6 MB/s\u001b[0m eta \u001b[36m0:00:00\u001b[0m\n",
            "\u001b[2K   \u001b[90m━━━━━━━━━━━━━━━━━━━━━━━━━━━━━━━━━━━━━━━━\u001b[0m \u001b[32m44.2/44.2 kB\u001b[0m \u001b[31m1.9 MB/s\u001b[0m eta \u001b[36m0:00:00\u001b[0m\n",
            "\u001b[2K   \u001b[90m━━━━━━━━━━━━━━━━━━━━━━━━━━━━━━━━━━━━━━━━\u001b[0m \u001b[32m50.0/50.0 kB\u001b[0m \u001b[31m2.4 MB/s\u001b[0m eta \u001b[36m0:00:00\u001b[0m\n",
            "\u001b[2K   \u001b[90m━━━━━━━━━━━━━━━━━━━━━━━━━━━━━━━━━━━━━━━━\u001b[0m \u001b[32m44.4/44.4 kB\u001b[0m \u001b[31m2.6 MB/s\u001b[0m eta \u001b[36m0:00:00\u001b[0m\n",
            "\u001b[2K   \u001b[90m━━━━━━━━━━━━━━━━━━━━━━━━━━━━━━━━━━━━━━━━\u001b[0m \u001b[32m50.9/50.9 kB\u001b[0m \u001b[31m2.3 MB/s\u001b[0m eta \u001b[36m0:00:00\u001b[0m\n",
            "\u001b[2K   \u001b[90m━━━━━━━━━━━━━━━━━━━━━━━━━━━━━━━━━━━━━━━━\u001b[0m \u001b[32m216.5/216.5 kB\u001b[0m \u001b[31m2.7 MB/s\u001b[0m eta \u001b[36m0:00:00\u001b[0m\n",
            "\u001b[?25h"
          ]
        }
      ],
      "source": [
        "pip install -q langchain langchain_openai langchain_community langgraph langchain-core"
      ]
    },
    {
      "cell_type": "code",
      "source": [
        "import os\n",
        "os.environ[\"OPENAI_API_KEY\"] = \"<YOUR_API_KEY>\""
      ],
      "metadata": {
        "id": "SN7mXEevIO3R"
      },
      "execution_count": 2,
      "outputs": []
    },
    {
      "cell_type": "code",
      "source": [
        "from langchain_openai import ChatOpenAI\n",
        "llm = ChatOpenAI(model = \"gpt-4o-mini\")"
      ],
      "metadata": {
        "id": "HYWdPbNRIRrj"
      },
      "execution_count": 4,
      "outputs": []
    },
    {
      "cell_type": "code",
      "source": [
        "from langchain.tools import tool\n",
        "\n",
        "@tool  #register as a tool\n",
        "def multiply(a: int, b: int)-> int:\n",
        "  \"\"\"Multiply a and b.\n",
        "  Args:\n",
        "    a: first int\n",
        "    b: second int\n",
        "  \"\"\" #this is important for the llm to judge if it has to do a tool call when the tool is registered.\n",
        "  return a * b\n",
        "\n",
        "@tool\n",
        "def add(a: int, b: int)-> int:\n",
        "  \"\"\"Adds a and b.\n",
        "  Args:\n",
        "    a: first int\n",
        "    b: second int\n",
        "  \"\"\"\n",
        "  return a + b\n",
        "\n",
        "@tool\n",
        "def divide(a: int, b: int)-> int:\n",
        "  \"\"\"Divide a and b.\n",
        "  Args:\n",
        "    a: first int\n",
        "    b: second int\n",
        "  \"\"\"\n",
        "  return a / b\n",
        "\n",
        "\n",
        "llm_with_tools = llm.bind_tools([multiply, add, divide])"
      ],
      "metadata": {
        "id": "jXu9qOk5K1nu"
      },
      "execution_count": 21,
      "outputs": []
    },
    {
      "cell_type": "code",
      "source": [
        "from langchain_core.messages import HumanMessage\n",
        "result = llm_with_tools.invoke([HumanMessage(content=f\"What is 2 multiplied by 3\", name=\"User\")])"
      ],
      "metadata": {
        "id": "PUY06prqKyGp"
      },
      "execution_count": 6,
      "outputs": []
    },
    {
      "cell_type": "code",
      "source": [
        "result.tool_calls"
      ],
      "metadata": {
        "colab": {
          "base_uri": "https://localhost:8080/"
        },
        "id": "GoOtkYguMTn_",
        "outputId": "d97b19b6-f801-4881-e6ea-5fa630e46277"
      },
      "execution_count": null,
      "outputs": [
        {
          "output_type": "execute_result",
          "data": {
            "text/plain": [
              "[{'name': 'multiply',\n",
              "  'args': {'a': 2, 'b': 3},\n",
              "  'id': 'call_flz4XF5KrlDeLLg6VfACXOFe',\n",
              "  'type': 'tool_call'}]"
            ]
          },
          "metadata": {},
          "execution_count": 9
        }
      ]
    },
    {
      "cell_type": "code",
      "source": [
        "from langgraph.graph import MessagesState\n",
        "\n",
        "class MessagesState(MessagesState):\n",
        "  #add any keys needed beyond this messages, which is pre-built\n",
        "  pass"
      ],
      "metadata": {
        "id": "DMn1gO3qEo4s"
      },
      "execution_count": 7,
      "outputs": []
    },
    {
      "cell_type": "code",
      "source": [
        "from IPython.display import Image, display\n",
        "from langgraph.graph import StateGraph, START, END\n",
        "from langgraph.prebuilt import ToolNode, tools_condition\n",
        "\n",
        "#Node\n",
        "def tool_calling_llm(state: MessagesState):\n",
        "  return {\"messages\":[llm_with_tools.invoke(state[\"messages\"])]}\n",
        "\n",
        "#Build graph\n",
        "builder = StateGraph(MessagesState)\n",
        "builder.add_node(\"tool_calling_llm\", tool_calling_llm)\n",
        "builder.add_node(\"tools\", ToolNode([multiply, add, divide]))\n",
        "builder.add_edge(START, \"tool_calling_llm\")\n",
        "builder.add_conditional_edges(\n",
        "    \"tool_calling_llm\",\n",
        "    # if the latest message from tool_calling_llm is a tool call -> tools_condition routes to tools node\n",
        "    # if the latest message from tool_calling_llm is not a tool call -> tools_condition routes to END\n",
        "    tools_condition\n",
        ")\n",
        "builder.add_edge(\"tools\", \"tool_calling_llm\")\n",
        "graph = builder.compile()\n",
        "\n",
        "#View\n",
        "display(Image(graph.get_graph().draw_mermaid_png()))"
      ],
      "metadata": {
        "colab": {
          "base_uri": "https://localhost:8080/",
          "height": 266
        },
        "id": "rH9ixu7sF8PG",
        "outputId": "9e6bda2d-6202-4d40-bca8-78165c40bd52"
      },
      "execution_count": 24,
      "outputs": [
        {
          "output_type": "display_data",
          "data": {
            "image/png": "[encoded data removed]",
            "text/plain": [
              "<IPython.core.display.Image object>"
            ]
          },
          "metadata": {}
        }
      ]
    },
    {
      "cell_type": "markdown",
      "source": [
        "if we pass in a `user question`, the LLM responds without any toold calls."
      ],
      "metadata": {
        "id": "De2jCS-VJfM9"
      }
    },
    {
      "cell_type": "code",
      "source": [
        "messages = graph.invoke({\"messages\":HumanMessage(content=\"What is the use of LLM?\")})\n",
        "\n",
        "for m in messages['messages']:\n",
        "  m.pretty_print()"
      ],
      "metadata": {
        "colab": {
          "base_uri": "https://localhost:8080/"
        },
        "id": "UzF2pbbOIMIk",
        "outputId": "5d3bf831-a0ee-4677-b75d-7eb5d0bf4b32"
      },
      "execution_count": 12,
      "outputs": [
        {
          "output_type": "stream",
          "name": "stdout",
          "text": [
            "================================\u001b[1m Human Message \u001b[0m=================================\n",
            "\n",
            "What is the use of LLM?\n",
            "==================================\u001b[1m Ai Message \u001b[0m==================================\n",
            "\n",
            "Large Language Models (LLMs) are powerful tools used for a variety of applications in natural language processing and artificial intelligence. Here are some common uses of LLMs:\n",
            "\n",
            "1. **Text Generation**: LLMs can generate human-like text, making them useful for content creation, storytelling, and writing assistance.\n",
            "\n",
            "2. **Translation**: They can be employed for translating text between different languages with a good degree of accuracy.\n",
            "\n",
            "3. **Summarization**: LLMs can summarize long texts into concise versions, helping to distill information efficiently.\n",
            "\n",
            "4. **Question Answering**: They can answer questions based on context or specific queries, which is useful for customer support and information retrieval.\n",
            "\n",
            "5. **Conversational Agents**: Used in chatbots and virtual assistants, LLMs can engage users in natural dialogue, providing information or assistance.\n",
            "\n",
            "6. **Sentiment Analysis**: LLMs can analyze text to determine the sentiment expressed, useful for marketing and social media monitoring.\n",
            "\n",
            "7. **Text Classification**: They can classify text into predefined categories, assisting in tasks like spam detection or topic identification.\n",
            "\n",
            "8. **Code Generation and Assistance**: LLMs can help in writing and understanding programming code, simplifying the software development process.\n",
            "\n",
            "9. **Personalization**: They can tailor content and recommendations to individual users based on their preferences and behaviors.\n",
            "\n",
            "10. **Research and Data Analysis**: LLMs can assist researchers in sifting through vast amounts of text to find relevant information quickly.\n",
            "\n",
            "Overall, LLMs enhance the capabilities of applications across various domains, providing more intuitive and efficient ways to interact with language and information.\n"
          ]
        }
      ]
    },
    {
      "cell_type": "markdown",
      "source": [
        "The LLM chooses to use a tool when it determines that the input or task requires the functionality provided by that tool"
      ],
      "metadata": {
        "id": "x9HRNwZuLAIn"
      }
    },
    {
      "cell_type": "code",
      "source": [
        "messages = graph.invoke({\"messages\":HumanMessage(content=\"Multiply 300 and 80. Multiply the output by 10\")})\n",
        "\n",
        "for m in messages['messages']:\n",
        "  m.pretty_print()"
      ],
      "metadata": {
        "colab": {
          "base_uri": "https://localhost:8080/"
        },
        "id": "3bLduvTUK8IF",
        "outputId": "3fd92e39-7e28-43f1-b201-b935a2f66447"
      },
      "execution_count": 22,
      "outputs": [
        {
          "output_type": "stream",
          "name": "stdout",
          "text": [
            "================================\u001b[1m Human Message \u001b[0m=================================\n",
            "\n",
            "Multiply 300 and 80. Multiply the output by 10\n",
            "==================================\u001b[1m Ai Message \u001b[0m==================================\n",
            "Tool Calls:\n",
            "  multiply (call_0ameDN6IQKBp3dvLKWyfYZmd)\n",
            " Call ID: call_0ameDN6IQKBp3dvLKWyfYZmd\n",
            "  Args:\n",
            "    a: 300\n",
            "    b: 80\n",
            "=================================\u001b[1m Tool Message \u001b[0m=================================\n",
            "Name: multiply\n",
            "\n",
            "24000\n",
            "==================================\u001b[1m Ai Message \u001b[0m==================================\n",
            "Tool Calls:\n",
            "  multiply (call_AbzJpLMUNcsy8zpuvdZobmXn)\n",
            " Call ID: call_AbzJpLMUNcsy8zpuvdZobmXn\n",
            "  Args:\n",
            "    a: 24000\n",
            "    b: 10\n",
            "=================================\u001b[1m Tool Message \u001b[0m=================================\n",
            "Name: multiply\n",
            "\n",
            "240000\n",
            "==================================\u001b[1m Ai Message \u001b[0m==================================\n",
            "\n",
            "The result of multiplying 300 and 80 is 24,000. When you multiply that by 10, the final output is 240,000.\n"
          ]
        }
      ]
    },
    {
      "cell_type": "code",
      "source": [
        "messages = graph.invoke({\"messages\":HumanMessage(content=\"first add 10 and 20. Multiply the output by 20. Divide the result by 100\")})\n",
        "\n",
        "for m in messages['messages']:\n",
        "  m.pretty_print()"
      ],
      "metadata": {
        "colab": {
          "base_uri": "https://localhost:8080/"
        },
        "id": "2VOFZSdalcHS",
        "outputId": "b4826994-37ec-4fb6-bdfe-1f46a7dbcc87"
      },
      "execution_count": 25,
      "outputs": [
        {
          "output_type": "stream",
          "name": "stdout",
          "text": [
            "================================\u001b[1m Human Message \u001b[0m=================================\n",
            "\n",
            "first add 10 and 20. Multiply the output by 20. Divide the result by 100\n",
            "==================================\u001b[1m Ai Message \u001b[0m==================================\n",
            "Tool Calls:\n",
            "  add (call_FIpMpgwtVn471duQFLGaZZYM)\n",
            " Call ID: call_FIpMpgwtVn471duQFLGaZZYM\n",
            "  Args:\n",
            "    a: 10\n",
            "    b: 20\n",
            "=================================\u001b[1m Tool Message \u001b[0m=================================\n",
            "Name: add\n",
            "\n",
            "30\n",
            "==================================\u001b[1m Ai Message \u001b[0m==================================\n",
            "Tool Calls:\n",
            "  multiply (call_1k8WFIs9PQcD5dEeZQxyqDws)\n",
            " Call ID: call_1k8WFIs9PQcD5dEeZQxyqDws\n",
            "  Args:\n",
            "    a: 30\n",
            "    b: 20\n",
            "  divide (call_6zTEknVfuOkK7L67enzYcpHY)\n",
            " Call ID: call_6zTEknVfuOkK7L67enzYcpHY\n",
            "  Args:\n",
            "    a: 600\n",
            "    b: 100\n",
            "=================================\u001b[1m Tool Message \u001b[0m=================================\n",
            "Name: multiply\n",
            "\n",
            "600\n",
            "=================================\u001b[1m Tool Message \u001b[0m=================================\n",
            "Name: divide\n",
            "\n",
            "6.0\n",
            "==================================\u001b[1m Ai Message \u001b[0m==================================\n",
            "\n",
            "First, I added 10 and 20 to get 30. Then, I multiplied that result by 20, which gave me 600. Finally, I divided 600 by 100, resulting in 6.0. \n",
            "\n",
            "So, the final results are:\n",
            "- Addition: 30\n",
            "- Multiplication: 600\n",
            "- Division: 6.0\n"
          ]
        }
      ]
    }
  ]
}