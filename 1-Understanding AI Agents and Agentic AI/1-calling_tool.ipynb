{
  "nbformat": 4,
  "nbformat_minor": 0,
  "metadata": {
    "colab": {
      "provenance": [],
      "authorship_tag": "ABX9TyMMq4d2pYg3BvZtc9rmSAAh",
      "include_colab_link": true
    },
    "kernelspec": {
      "name": "python3",
      "display_name": "Python 3"
    },
    "language_info": {
      "name": "python"
    }
  },
  "cells": [
    {
      "cell_type": "markdown",
      "metadata": {
        "id": "view-in-github",
        "colab_type": "text"
      },
      "source": [
        "<a href=\"https://colab.research.google.com/github/tejaswishetty17/Agentic-AI/blob/main/Calling_Agents_1.ipynb\" target=\"_parent\"><img src=\"https://colab.research.google.com/assets/colab-badge.svg\" alt=\"Open In Colab\"/></a>"
      ]
    },
    {
      "cell_type": "code",
      "execution_count": null,
      "metadata": {
        "id": "YE7sotKd8pdp"
      },
      "outputs": [],
      "source": [
        "pip install -q langchain langchain_openai langchain_community langgraph langchain-core"
      ]
    },
    {
      "cell_type": "code",
      "source": [
        "from pprint import pprint\n",
        "from langchain_core.messages import AIMessage, HumanMessage\n",
        "\n",
        "messages = [AIMessage(content=f\"So you said you were researching about Agentic AI?\", name = \"Model\")]\n",
        "messages.append(HumanMessage(content=f\"Yes, that's right.\", name = \"User\"))\n",
        "messages.append(AIMessage(content=f\"Great, What would you like to learn about.\", name=\"Model\"))\n",
        "messages.append(HumanMessage(content=f\"I want to learn about the working of Agentic AI\", name=\"User\"))\n",
        "\n",
        "for m in messages:\n",
        "  m.pretty_print()"
      ],
      "metadata": {
        "colab": {
          "base_uri": "https://localhost:8080/"
        },
        "id": "k2ORsXG8Gmj2",
        "outputId": "897996d5-9b60-46cc-b9bf-849d1072693f"
      },
      "execution_count": 2,
      "outputs": [
        {
          "output_type": "stream",
          "name": "stdout",
          "text": [
            "==================================\u001b[1m Ai Message \u001b[0m==================================\n",
            "Name: Model\n",
            "\n",
            "So you said you were researching about Agentic AI?\n",
            "================================\u001b[1m Human Message \u001b[0m=================================\n",
            "Name: User\n",
            "\n",
            "Yes, that's right.\n",
            "==================================\u001b[1m Ai Message \u001b[0m==================================\n",
            "Name: Model\n",
            "\n",
            "Great, What would you like to learn about.\n",
            "================================\u001b[1m Human Message \u001b[0m=================================\n",
            "Name: User\n",
            "\n",
            "I want to learn about the working of Agentic AI\n"
          ]
        }
      ]
    },
    {
      "cell_type": "code",
      "source": [
        "import os\n",
        "os.environ[\"OPENAI_API_KEY\"] = \"<YOUR API KEY>\""
      ],
      "metadata": {
        "id": "SN7mXEevIO3R"
      },
      "execution_count": 3,
      "outputs": []
    },
    {
      "cell_type": "code",
      "source": [
        "from langchain_openai import ChatOpenAI\n",
        "llm = ChatOpenAI(model = \"gpt-4o-mini\")\n",
        "result = llm.invoke(messages)"
      ],
      "metadata": {
        "id": "HYWdPbNRIRrj"
      },
      "execution_count": 4,
      "outputs": []
    },
    {
      "cell_type": "code",
      "source": [
        "result.content"
      ],
      "metadata": {
        "colab": {
          "base_uri": "https://localhost:8080/",
          "height": 109
        },
        "id": "QI3XYQ_5KSCe",
        "outputId": "dd86bc4f-2cf0-4378-a209-5a1734c42f76"
      },
      "execution_count": 5,
      "outputs": [
        {
          "output_type": "execute_result",
          "data": {
            "text/plain": [
              "'Agentic AI, often referred to as \"autonomous AI,\" is designed to perform tasks and make decisions without human intervention. Here are some key aspects of how Agentic AI works:\\n\\n1. **Autonomy**: Agentic AI systems are capable of making decisions on their own based on the data they have access to. They can analyze situations, weigh options, and choose actions without needing to consult a human operator.\\n\\n2. **Learning and Adaptation**: These systems often use machine learning algorithms to improve their performance over time. They learn from past experiences, adapt to new information, and refine their strategies based on outcomes.\\n\\n3. **Goal-Driven Behavior**: Agentic AI is typically programmed with specific goals or objectives. It prioritizes actions that best align with achieving these goals. This can involve optimizing for efficiency, effectiveness, or other criteria defined by the developers.\\n\\n4. **Sensor Fusion**: Many Agentic AI systems use sensor data to understand their environment. They combine information from various sensors (like cameras, LIDAR, or microphones) to build a comprehensive picture of the world, which helps in making informed decisions.\\n\\n5. **Planning and Reasoning**: Advanced Agentic AI systems can engage in complex planning and reasoning tasks. They can simulate different scenarios to predict outcomes before taking action, which enhances their decision-making capabilities.\\n\\n6. **Interaction with Environment**: Agentic AI interacts with its environment through various means, such as robotic arms, drones, or software systems. This interaction allows them to perform physical tasks, gather information, or carry out procedures.\\n\\n7. **Ethics and Safety**: Due to their autonomous nature, ethical considerations, safety protocols, and regulatory compliance are crucial areas of focus in the development of Agentic AI. Ensuring that these systems operate safely and do not cause harm is a significant challenge.\\n\\n8. **Applications**: Agentic AI is used in various fields, such as autonomous vehicles, robotics, finance (for trading), healthcare (for diagnostics), and smart manufacturing, among others.\\n\\n9. **Continuous Feedback Loop**: These systems often operate within a feedback loop where they continuously receive data from their actions and learn from the outcomes. This allows them to improve their decision-making over time.\\n\\nUnderstanding these aspects can give you a clearer picture of how Agentic AI functions and its potential applications and implications. If you have any specific questions or areas of interest, feel free to ask!'"
            ],
            "application/vnd.google.colaboratory.intrinsic+json": {
              "type": "string"
            }
          },
          "metadata": {},
          "execution_count": 5
        }
      ]
    },
    {
      "cell_type": "code",
      "source": [
        "result.response_metadata"
      ],
      "metadata": {
        "colab": {
          "base_uri": "https://localhost:8080/"
        },
        "id": "-R84cA_GKrfX",
        "outputId": "5f6a0d13-fe2c-4360-8a77-bdfeeac41b3e"
      },
      "execution_count": 6,
      "outputs": [
        {
          "output_type": "execute_result",
          "data": {
            "text/plain": [
              "{'token_usage': {'completion_tokens': 490,\n",
              "  'prompt_tokens': 64,\n",
              "  'total_tokens': 554,\n",
              "  'completion_tokens_details': {'accepted_prediction_tokens': 0,\n",
              "   'audio_tokens': 0,\n",
              "   'reasoning_tokens': 0,\n",
              "   'rejected_prediction_tokens': 0},\n",
              "  'prompt_tokens_details': {'audio_tokens': 0, 'cached_tokens': 0}},\n",
              " 'model_name': 'gpt-4o-mini-2024-07-18',\n",
              " 'system_fingerprint': 'fp_62a23a81ef',\n",
              " 'id': 'chatcmpl-BdaMg89WZM9r0DPZ6jNuwSdeTrpyO',\n",
              " 'service_tier': 'default',\n",
              " 'finish_reason': 'stop',\n",
              " 'logprobs': None}"
            ]
          },
          "metadata": {},
          "execution_count": 6
        }
      ]
    },
    {
      "cell_type": "markdown",
      "source": [
        "#createing a tool using langchain.tools"
      ],
      "metadata": {
        "id": "beIROBBlK34m"
      }
    },
    {
      "cell_type": "code",
      "source": [
        "from langchain.tools import tool\n",
        "\n",
        "@tool  #register as a tool\n",
        "def multiply(a: int, b: int)-> int:\n",
        "  \"\"\"Multiply a and b.\n",
        "  Args:\n",
        "    a: first int\n",
        "    b: second int\n",
        "  \"\"\" #this is important for the llm to judge if it has to do a tool call when the tool is registered.\n",
        "  return a * b\n",
        "\n",
        "llm_with_tools = llm.bind_tools([multiply])"
      ],
      "metadata": {
        "id": "jXu9qOk5K1nu"
      },
      "execution_count": 37,
      "outputs": []
    },
    {
      "cell_type": "markdown",
      "source": [
        "If we pass an input - e.g. \"What is 2 multiplied by 3\" - we see a tool call returned.\n",
        "\n",
        "The tool call has specific arguments that match the input schema of our function along with the name of the function to call.\n",
        "\n",
        "{'arguments':'{\"a\":2, \"b\":3}', 'name':'multiply'}"
      ],
      "metadata": {
        "id": "BOOXcsKnLmVS"
      }
    },
    {
      "cell_type": "code",
      "source": [
        "result = llm_with_tools.invoke([HumanMessage(content=f\"What is 2 multiplied by 3\", name=\"User\")])"
      ],
      "metadata": {
        "id": "PUY06prqKyGp"
      },
      "execution_count": 8,
      "outputs": []
    },
    {
      "cell_type": "code",
      "source": [
        "result.tool_calls"
      ],
      "metadata": {
        "colab": {
          "base_uri": "https://localhost:8080/"
        },
        "id": "GoOtkYguMTn_",
        "outputId": "d97b19b6-f801-4881-e6ea-5fa630e46277"
      },
      "execution_count": 9,
      "outputs": [
        {
          "output_type": "execute_result",
          "data": {
            "text/plain": [
              "[{'name': 'multiply',\n",
              "  'args': {'a': 2, 'b': 3},\n",
              "  'id': 'call_flz4XF5KrlDeLLg6VfACXOFe',\n",
              "  'type': 'tool_call'}]"
            ]
          },
          "metadata": {},
          "execution_count": 9
        }
      ]
    },
    {
      "cell_type": "markdown",
      "source": [
        "#Using Message as State\n",
        "\n",
        "with these foundations in place, we can now use `messages` in our graph state.\n",
        "Let's define our state, `MessageState`, as a `TypeDict` with a single key: `messages`.\n",
        "\n",
        "`messages` is simply a list of messages, as we defined above(eg. `HumanMessage`, etc).\n"
      ],
      "metadata": {
        "id": "qbiB8J_RMkTi"
      }
    },
    {
      "cell_type": "code",
      "source": [
        "from typing_extensions import TypedDict\n",
        "from langchain_core.messages import AnyMessage\n",
        "\n",
        "class MessageState(TypedDict):\n",
        "  messages: list[AnyMessage]"
      ],
      "metadata": {
        "id": "8WxIS_M9M8E7"
      },
      "execution_count": 11,
      "outputs": []
    },
    {
      "cell_type": "markdown",
      "source": [
        "Since having a list of messages in graph state is so common, LangGraph has a pre-build `MessagesState`!\n",
        "\n",
        "`MessagesState` is defined:\n",
        "\n",
        "\n",
        "*   with a pre-build single `messages` key\n",
        "*   This is a list of `AnyMessage` objects\n",
        "*   It uses the `add_messages` reducer\n",
        "\n",
        "We'll usually use `MessageState` becasue it is less verbose than defining a custom `TypeDict`, as shown above.\n",
        "\n",
        "\n"
      ],
      "metadata": {
        "id": "8RohHgn6E4pb"
      }
    },
    {
      "cell_type": "code",
      "source": [
        "from langgraph.graph import MessagesState\n",
        "\n",
        "class MessagesState(MessagesState):\n",
        "  #add any keys needed beyond this messages, which is pre-built\n",
        "  pass"
      ],
      "metadata": {
        "id": "DMn1gO3qEo4s"
      },
      "execution_count": 29,
      "outputs": []
    },
    {
      "cell_type": "markdown",
      "source": [
        "#Our Graph\n",
        "\n",
        "now, lets use `MessageState` with a graph"
      ],
      "metadata": {
        "id": "Zu6GGxtIF9os"
      }
    },
    {
      "cell_type": "code",
      "source": [
        "from IPython.display import Image, display\n",
        "from langgraph.graph import StateGraph, START, END\n",
        "from langgraph.prebuilt import ToolNode, tools_condition\n",
        "\n",
        "#Node\n",
        "def tool_calling_llm(state: MessagesState):\n",
        "  return {\"messages\":[llm_with_tools.invoke(state[\"messages\"])]}\n",
        "\n",
        "#Build graph\n",
        "builder = StateGraph(MessagesState)\n",
        "builder.add_node(\"tool_calling_llm\", tool_calling_llm)\n",
        "builder.add_node(\"tools\", ToolNode([multiply]))\n",
        "builder.add_edge(START, \"tool_calling_llm\")\n",
        "builder.add_conditional_edges(\n",
        "    \"tool_calling_llm\",\n",
        "    # if the latest message from tool_calling_llm is a tool call -> tools_condition routes to tools node\n",
        "    # if the latest message from tool_calling_llm is not a tool call -> tools_condition routes to END\n",
        "    tools_condition\n",
        ")\n",
        "builder.add_edge(\"tools\", END)\n",
        "graph = builder.compile()\n",
        "\n",
        "#View\n",
        "display(Image(graph.get_graph().draw_mermaid_png()))"
      ],
      "metadata": {
        "colab": {
          "base_uri": "https://localhost:8080/",
          "height": 350
        },
        "id": "rH9ixu7sF8PG",
        "outputId": "24ba48e8-a626-4259-9bd1-d61576b2ad73"
      },
      "execution_count": 34,
      "outputs": [
        {
          "output_type": "display_data",
          "data": {
            "image/png": "[encoded data removed]",
            "text/plain": [
              "<IPython.core.display.Image object>"
            ]
          },
          "metadata": {}
        }
      ]
    },
    {
      "cell_type": "markdown",
      "source": [
        "if we pass in a `user question`, the LLM responds without any toold calls."
      ],
      "metadata": {
        "id": "De2jCS-VJfM9"
      }
    },
    {
      "cell_type": "code",
      "source": [
        "messages = graph.invoke({\"messages\":HumanMessage(content=\"What is the use of LLM?\")})\n",
        "\n",
        "for m in messages['messages']:\n",
        "  m.pretty_print()"
      ],
      "metadata": {
        "colab": {
          "base_uri": "https://localhost:8080/"
        },
        "id": "UzF2pbbOIMIk",
        "outputId": "92895e99-cfcf-4da1-b4c4-8816e5d2f899"
      },
      "execution_count": 35,
      "outputs": [
        {
          "output_type": "stream",
          "name": "stdout",
          "text": [
            "================================\u001b[1m Human Message \u001b[0m=================================\n",
            "\n",
            "What is the use of LLM?\n",
            "==================================\u001b[1m Ai Message \u001b[0m==================================\n",
            "\n",
            "Large Language Models (LLMs) have a variety of uses across different fields and applications. Here are some of the primary uses:\n",
            "\n",
            "1. **Text Generation**: LLMs can generate human-like text, making them useful for creative writing, content creation, and storytelling.\n",
            "\n",
            "2. **Natural Language Understanding**: They can understand and interpret human language, which is essential for applications like chatbots, virtual assistants, and customer support systems.\n",
            "\n",
            "3. **Translation**: LLMs can translate text between languages, helping in breaking language barriers and enhancing communication.\n",
            "\n",
            "4. **Summarization**: They can summarize long texts into concise versions, aiding in quick information retrieval and understanding.\n",
            "\n",
            "5. **Question Answering**: LLMs can respond to queries by providing relevant information, making them useful in research, education, and information retrieval.\n",
            "\n",
            "6. **Sentiment Analysis**: They can analyze the sentiment behind text, which is valuable for businesses to gauge customer feedback and opinions.\n",
            "\n",
            "7. **Code Generation and Assistance**: In software development, LLMs can assist in writing code, debugging, and providing documentation.\n",
            "\n",
            "8. **Personalization**: They can help create personalized experiences in apps and websites by analyzing user behavior and preferences.\n",
            "\n",
            "9. **Training and Education**: LLMs can provide tutoring or language learning assistance by offering explanations and examples.\n",
            "\n",
            "10. **Content Moderation**: They can assist in detecting and managing inappropriate content on platforms.\n",
            "\n",
            "Overall, LLMs have a broad range of applications that enhance efficiency, creativity, and communication across various domains.\n"
          ]
        }
      ]
    },
    {
      "cell_type": "markdown",
      "source": [
        "The LLM chooses to use a tool when it determines that the input or task requires the functionality provided by that tool"
      ],
      "metadata": {
        "id": "x9HRNwZuLAIn"
      }
    },
    {
      "cell_type": "code",
      "source": [
        "messages = graph.invoke({\"messages\":HumanMessage(content=\"Multiply 300 and 80\")})\n",
        "\n",
        "for m in messages['messages']:\n",
        "  m.pretty_print()"
      ],
      "metadata": {
        "colab": {
          "base_uri": "https://localhost:8080/"
        },
        "id": "3bLduvTUK8IF",
        "outputId": "4c6a3baf-258f-4897-fd66-0ae8d91732c7"
      },
      "execution_count": 36,
      "outputs": [
        {
          "output_type": "stream",
          "name": "stdout",
          "text": [
            "================================\u001b[1m Human Message \u001b[0m=================================\n",
            "\n",
            "Multiply 300 and 80\n",
            "==================================\u001b[1m Ai Message \u001b[0m==================================\n",
            "Tool Calls:\n",
            "  multiply (call_r6M2S2k5PkytKtam7k9CiRWM)\n",
            " Call ID: call_r6M2S2k5PkytKtam7k9CiRWM\n",
            "  Args:\n",
            "    a: 300\n",
            "    b: 80\n",
            "=================================\u001b[1m Tool Message \u001b[0m=================================\n",
            "Name: multiply\n",
            "\n",
            "24000\n"
          ]
        }
      ]
    }
  ]
}