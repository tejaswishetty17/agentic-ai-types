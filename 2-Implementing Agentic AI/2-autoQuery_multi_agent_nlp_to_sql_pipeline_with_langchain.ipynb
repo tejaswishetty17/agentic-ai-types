{
  "nbformat": 4,
  "nbformat_minor": 0,
  "metadata": {
    "colab": {
      "provenance": [],
      "authorship_tag": "ABX9TyNXRXYU7qzZIQY6l5MFzzvd",
      "include_colab_link": true
    },
    "kernelspec": {
      "name": "python3",
      "display_name": "Python 3"
    },
    "language_info": {
      "name": "python"
    }
  },
  "cells": [
    {
      "cell_type": "markdown",
      "metadata": {
        "id": "view-in-github",
        "colab_type": "text"
      },
      "source": [
        "<a href=\"https://colab.research.google.com/github/tejaswishetty17/Agentic-AI/blob/main/AutoQuery_Multi_Agent_NLP_to_SQL_Pipeline_with_LangChain.ipynb\" target=\"_parent\"><img src=\"https://colab.research.google.com/assets/colab-badge.svg\" alt=\"Open In Colab\"/></a>"
      ]
    },
    {
      "cell_type": "markdown",
      "source": [
        "**🧠 Project Overview: Multi-Agent Natural Language to SQL Generator**\n",
        "\n",
        "This notebook demonstrates a `multi-agent system` designed to convert natural language queries into executable SQL commands using LangChain and LangGraph. The goal is to enable non-technical users to interact with a database simply by asking questions in plain English.\n",
        "\n",
        "Key components of this study:\n",
        "\n",
        "✅ `SQLite Setup:` A mock shop.db is created with users and orders tables, simulating a basic e-commerce schema.\n",
        "\n",
        "🔧 `Schema Inspection & SQL Execution Tools:` Tools are defined to introspect the database schema and execute SQL queries dynamically.\n",
        "\n",
        "🧩 `Multi-Agent Workflow:` Multiple specialized agents are orchestrated to:\n",
        "\n",
        "- Understand user intent (natural language query)\n",
        "\n",
        "- Generate appropriate SQL queries\n",
        "\n",
        "- Validate and execute the queries\n",
        "\n",
        "🤖 `Agent Collaboration via LangGraph:` The agents communicate through a defined graph to ensure query accuracy and proper error handling.\n",
        "\n",
        "📘 `Follow the full implementation and query generation process here:`\n",
        "https://smith.langchain.com/public/e80d9cf5-a08d-453c-b8cc-45db94b06287/r\n",
        "\n",
        "This notebook is intended as a learning resource for those exploring how Large Language Models (LLMs) can be used to automate database querying through agentic AI."
      ],
      "metadata": {
        "id": "EiG9PqBjlGhW"
      }
    },
    {
      "cell_type": "code",
      "execution_count": 1,
      "metadata": {
        "colab": {
          "base_uri": "https://localhost:8080/"
        },
        "id": "UFIs9dc3hqVD",
        "outputId": "ea54db07-1192-4f09-ca47-9b0e00a4bd95"
      },
      "outputs": [
        {
          "output_type": "stream",
          "name": "stdout",
          "text": [
            "\u001b[2K     \u001b[90m━━━━━━━━━━━━━━━━━━━━━━━━━━━━━━━━━━━━━━━━\u001b[0m \u001b[32m44.3/44.3 kB\u001b[0m \u001b[31m3.7 MB/s\u001b[0m eta \u001b[36m0:00:00\u001b[0m\n",
            "\u001b[2K     \u001b[90m━━━━━━━━━━━━━━━━━━━━━━━━━━━━━━━━━━━━━━━━\u001b[0m \u001b[32m43.7/43.7 kB\u001b[0m \u001b[31m4.3 MB/s\u001b[0m eta \u001b[36m0:00:00\u001b[0m\n",
            "\u001b[2K   \u001b[90m━━━━━━━━━━━━━━━━━━━━━━━━━━━━━━━━━━━━━━━━\u001b[0m \u001b[32m65.4/65.4 kB\u001b[0m \u001b[31m6.9 MB/s\u001b[0m eta \u001b[36m0:00:00\u001b[0m\n",
            "\u001b[2K   \u001b[90m━━━━━━━━━━━━━━━━━━━━━━━━━━━━━━━━━━━━━━━━\u001b[0m \u001b[32m152.4/152.4 kB\u001b[0m \u001b[31m12.9 MB/s\u001b[0m eta \u001b[36m0:00:00\u001b[0m\n",
            "\u001b[2K   \u001b[90m━━━━━━━━━━━━━━━━━━━━━━━━━━━━━━━━━━━━━━━━\u001b[0m \u001b[32m9.9/9.9 MB\u001b[0m \u001b[31m110.9 MB/s\u001b[0m eta \u001b[36m0:00:00\u001b[0m\n",
            "\u001b[2K   \u001b[90m━━━━━━━━━━━━━━━━━━━━━━━━━━━━━━━━━━━━━━━━\u001b[0m \u001b[32m43.8/43.8 kB\u001b[0m \u001b[31m3.9 MB/s\u001b[0m eta \u001b[36m0:00:00\u001b[0m\n",
            "\u001b[2K   \u001b[90m━━━━━━━━━━━━━━━━━━━━━━━━━━━━━━━━━━━━━━━━\u001b[0m \u001b[32m50.0/50.0 kB\u001b[0m \u001b[31m5.1 MB/s\u001b[0m eta \u001b[36m0:00:00\u001b[0m\n",
            "\u001b[2K   \u001b[90m━━━━━━━━━━━━━━━━━━━━━━━━━━━━━━━━━━━━━━━━\u001b[0m \u001b[32m6.9/6.9 MB\u001b[0m \u001b[31m111.0 MB/s\u001b[0m eta \u001b[36m0:00:00\u001b[0m\n",
            "\u001b[2K   \u001b[90m━━━━━━━━━━━━━━━━━━━━━━━━━━━━━━━━━━━━━━━━\u001b[0m \u001b[32m79.1/79.1 kB\u001b[0m \u001b[31m7.7 MB/s\u001b[0m eta \u001b[36m0:00:00\u001b[0m\n",
            "\u001b[2K   \u001b[90m━━━━━━━━━━━━━━━━━━━━━━━━━━━━━━━━━━━━━━━━\u001b[0m \u001b[32m216.5/216.5 kB\u001b[0m \u001b[31m20.3 MB/s\u001b[0m eta \u001b[36m0:00:00\u001b[0m\n",
            "\u001b[?25h"
          ]
        }
      ],
      "source": [
        "pip install -q langchain_openai langgraph langchain streamlit"
      ]
    },
    {
      "cell_type": "code",
      "source": [
        "import sqlite3\n",
        "\n",
        "conn = sqlite3.connect(\"shop.db\", check_same_thread=False)"
      ],
      "metadata": {
        "id": "DhCWPhudm5bE"
      },
      "execution_count": 2,
      "outputs": []
    },
    {
      "cell_type": "code",
      "source": [
        "# Create users table\n",
        "conn.execute('''\n",
        "CREATE TABLE IF NOT EXISTS users (\n",
        "    id INTEGER PRIMARY KEY,\n",
        "    name TEXT,\n",
        "    email TEXT,\n",
        "    signup_date DATE\n",
        ")\n",
        "''')\n",
        "\n",
        "# Create orders table\n",
        "conn.execute('''\n",
        "CREATE TABLE IF NOT EXISTS orders (\n",
        "    id INTEGER PRIMARY KEY,\n",
        "    user_id INTEGER,\n",
        "    amount REAL,\n",
        "    status TEXT,\n",
        "    order_date DATE,\n",
        "    FOREIGN KEY(user_id) REFERENCES users(id)\n",
        ")\n",
        "''')\n",
        "\n",
        "# Insert users\n",
        "conn.execute(\"INSERT INTO users VALUES (1, 'Alice', 'alice@example.com', '2024-01-10')\")\n",
        "conn.execute(\"INSERT INTO users VALUES (2, 'Bob', 'bob@example.com', '2024-03-15')\")\n",
        "conn.execute(\"INSERT INTO users VALUES (3, 'Charlie', 'charlie@example.com', '2024-03-22')\")\n",
        "conn.execute(\"INSERT INTO users VALUES (4, 'Diana', 'diana@example.com', '2024-04-05')\")\n",
        "conn.execute(\"INSERT INTO users VALUES (5, 'Eve', 'eve@example.com', '2024-04-25')\")\n",
        "conn.execute(\"INSERT INTO users VALUES (6, 'Frank', 'frank@example.com', '2024-05-15')\")\n",
        "conn.execute(\"INSERT INTO users VALUES (7, 'Grace', 'grace@example.com', '2024-05-18')\")\n",
        "conn.execute(\"INSERT INTO users VALUES (8, 'Henry', 'henry@example.com', '2024-05-20')\")\n",
        "conn.execute(\"INSERT INTO users VALUES (9, 'Ivy', 'ivy@example.com', '2024-06-01')\")\n",
        "conn.execute(\"INSERT INTO users VALUES (10, 'Jack', 'jack@example.com', '2024-06-05')\")\n",
        "conn.execute(\"INSERT INTO users VALUES (11, 'Kiran', 'kiran@example.com', '2024-06-03')\")\n",
        "conn.execute(\"INSERT INTO users VALUES (12, 'Lata', 'lata@example.com', '2024-06-04')\")\n",
        "conn.execute(\"INSERT INTO users VALUES (13, 'Manoj', 'manoj@example.com', '2024-06-06')\")\n",
        "\n",
        "conn.execute(\"INSERT INTO users VALUES (14, 'Nina', 'nina@example.com', '2024-06-10')\")\n",
        "conn.execute(\"INSERT INTO users VALUES (15, 'Omar', 'omar@example.com', '2024-01-05')\")\n",
        "conn.execute(\"INSERT INTO users VALUES (16, 'Priya', 'priya@example.com', '2024-06-12')\")\n",
        "\n",
        "\n",
        "# Insert orders\n",
        "conn.execute(\"INSERT INTO orders VALUES (1, 1, 250.00, 'completed', '2024-03-10')\")\n",
        "conn.execute(\"INSERT INTO orders VALUES (2, 2, 100.00, 'pending', '2024-03-16')\")\n",
        "conn.execute(\"INSERT INTO orders VALUES (3, 3, 320.00, 'completed', '2024-03-24')\")\n",
        "conn.execute(\"INSERT INTO orders VALUES (4, 4, 180.00, 'completed', '2024-05-01')\")\n",
        "conn.execute(\"INSERT INTO orders VALUES (5, 5, 210.00, 'completed', '2024-05-02')\")\n",
        "conn.execute(\"INSERT INTO orders VALUES (6, 1, 180.00, 'completed', '2024-03-18')\")\n",
        "conn.execute(\"INSERT INTO orders VALUES (7, 2, 120.00, 'completed', '2024-03-20')\")\n",
        "conn.execute(\"INSERT INTO orders VALUES (8, 1, 300.00, 'completed', '2024-04-01')\")\n",
        "conn.execute(\"INSERT INTO orders VALUES (9, 3, 80.00, 'cancelled', '2024-04-10')\")\n",
        "conn.execute(\"INSERT INTO orders VALUES (10, 4, 250.00, 'pending', '2024-05-05')\")\n",
        "conn.execute(\"INSERT INTO orders VALUES (11, 6, 400.00, 'completed', '2024-05-20')\")\n",
        "conn.execute(\"INSERT INTO orders VALUES (12, 7, 320.00, 'completed', '2024-05-22')\")\n",
        "conn.execute(\"INSERT INTO orders VALUES (13, 8, 150.00, 'pending', '2024-05-25')\")\n",
        "conn.execute(\"INSERT INTO orders VALUES (14, 9, 220.00, 'completed', '2024-06-02')\")\n",
        "conn.execute(\"INSERT INTO orders VALUES (15, 10, 500.00, 'completed', '2024-06-06')\")\n",
        "\n",
        "conn.execute(\"INSERT INTO orders VALUES (16, 1, 270.00, 'completed', '2024-06-10')\")\n",
        "conn.execute(\"INSERT INTO orders VALUES (17, 15, 320.00, 'completed', '2024-06-14')\")\n",
        "conn.execute(\"INSERT INTO orders VALUES (18, 3, 250.00, 'completed', '2024-06-01')\")\n",
        "conn.execute(\"INSERT INTO orders VALUES (19, 10, 200.00, 'cancelled', '2024-06-10')\")\n",
        "conn.execute(\"INSERT INTO orders VALUES (20, 6, 180.00, 'completed', '2024-06-15')\")\n",
        "conn.execute(\"INSERT INTO orders VALUES (21, 11, 310.00, 'pending', '2024-06-16')\")"
      ],
      "metadata": {
        "colab": {
          "base_uri": "https://localhost:8080/"
        },
        "id": "kT_K8YOinEBs",
        "outputId": "c8e85b28-6063-4d12-b1ba-14fa455a9276"
      },
      "execution_count": 3,
      "outputs": [
        {
          "output_type": "execute_result",
          "data": {
            "text/plain": [
              "<sqlite3.Cursor at 0x79d6a4bdec40>"
            ]
          },
          "metadata": {},
          "execution_count": 3
        }
      ]
    },
    {
      "cell_type": "code",
      "source": [
        "conn.commit()"
      ],
      "metadata": {
        "id": "yazN5cRWnJqd"
      },
      "execution_count": 4,
      "outputs": []
    },
    {
      "cell_type": "code",
      "source": [
        "#Get the schema informations\n",
        "for table in [\"users\", \"orders\"]:\n",
        "  # PRAGMA command is specific to SQLite, and it returns metadata about the table's columns—such as the column name, data type, whether it can be NULL, default values, and if it's part of the primary key.\n",
        "  rows = conn.execute(f\"PRAGMA table_info({table})\").fetchall()\n",
        "  print(rows)"
      ],
      "metadata": {
        "colab": {
          "base_uri": "https://localhost:8080/"
        },
        "id": "g1oPsPNdomzY",
        "outputId": "4828a324-cbd0-4870-c138-5f2b6916a9ab"
      },
      "execution_count": 5,
      "outputs": [
        {
          "output_type": "stream",
          "name": "stdout",
          "text": [
            "[(0, 'id', 'INTEGER', 0, None, 1), (1, 'name', 'TEXT', 0, None, 0), (2, 'email', 'TEXT', 0, None, 0), (3, 'signup_date', 'DATE', 0, None, 0)]\n",
            "[(0, 'id', 'INTEGER', 0, None, 1), (1, 'user_id', 'INTEGER', 0, None, 0), (2, 'amount', 'REAL', 0, None, 0), (3, 'status', 'TEXT', 0, None, 0), (4, 'order_date', 'DATE', 0, None, 0)]\n"
          ]
        }
      ]
    },
    {
      "cell_type": "code",
      "source": [
        "for r in rows:\n",
        "  cols = \",\".join([f\"{r[1]} {r[2]}\"])\n",
        "  print(cols)"
      ],
      "metadata": {
        "colab": {
          "base_uri": "https://localhost:8080/"
        },
        "id": "Ti-F-LHipfEI",
        "outputId": "ea08b44b-4904-41e5-b30c-9b91ebf8f486"
      },
      "execution_count": 6,
      "outputs": [
        {
          "output_type": "stream",
          "name": "stdout",
          "text": [
            "id INTEGER\n",
            "user_id INTEGER\n",
            "amount REAL\n",
            "status TEXT\n",
            "order_date DATE\n"
          ]
        }
      ]
    },
    {
      "cell_type": "code",
      "source": [
        "from langchain.agents import tool\n",
        "\n",
        "@tool\n",
        "def get_schema() -> str:\n",
        "  \"\"\"Return table schema from the SQLite database\"\"\"\n",
        "  schema = \"\"\n",
        "  for table in [\"users\", \"orders\"]:\n",
        "    rows = conn.execute(f\"PRAGMA table_info({table})\").fetchall()\n",
        "    cols = \",\".join([f\"{r[1]} {r[2]}\" for r in rows])\n",
        "    schema += f\"{table}({cols})\\n\"\n",
        "  return schema.strip()\n",
        "\n",
        "@tool\n",
        "def execute_sql(query: str)-> str:\n",
        "  \"\"\"Execute SQL query on the database and return the result\"\"\"\n",
        "  try:\n",
        "    result = conn.execute(query).fetchall()\n",
        "    return str(result)\n",
        "  except Exception as e:\n",
        "    return f\"Error: {str(e)}\""
      ],
      "metadata": {
        "id": "2q1M9812nMsr"
      },
      "execution_count": 7,
      "outputs": []
    },
    {
      "cell_type": "code",
      "source": [
        "from langgraph.graph import StateGraph, START, END\n",
        "from langgraph.graph.message import AnyMessage, add_messages\n",
        "from langgraph.prebuilt import ToolNode, create_react_agent\n",
        "from langchain_openai import ChatOpenAI\n",
        "from typing import Annotated, TypedDict\n",
        "from langgraph.prebuilt import tools_condition\n",
        "from langchain.schema import AIMessage, SystemMessage, HumanMessage\n",
        "import os\n",
        "\n",
        "#Add your OPENAI KEY\n",
        "os.environ[\"OPENAI_API_KEY\"] = \"\"\n",
        "#get the Tavily api key from https://app.tavily.com/home\n",
        "os.environ[\"TAVILY_API_KEY\"] = \"\"\n",
        "os.environ[\"LANGCHAIN_TRACING_V2\"]=\"true\"\n",
        "os.environ[\"LANGCHAIN_ENDPOINT\"]=\"https://api.smith.langchain.com\"\n",
        "#Add your LANGCHAIN KEY\n",
        "os.environ[\"LANGCHAIN_API_KEY\"]=\"\"\n",
        "os.environ[\"LANGCHAIN_PROJECT\"]=\"RAG_ADVANCED\"\n",
        "\n",
        "from langsmith import utils\n",
        "utils.tracing_is_enabled()"
      ],
      "metadata": {
        "colab": {
          "base_uri": "https://localhost:8080/"
        },
        "id": "PZtHCG4Hp7mN",
        "outputId": "5b53f64c-7657-4aea-cbcd-d6f2221ef286"
      },
      "execution_count": 8,
      "outputs": [
        {
          "output_type": "execute_result",
          "data": {
            "text/plain": [
              "True"
            ]
          },
          "metadata": {},
          "execution_count": 8
        }
      ]
    },
    {
      "cell_type": "code",
      "source": [
        "llm = ChatOpenAI(model = \"gpt-4o-mini\", temperature=0)"
      ],
      "metadata": {
        "id": "vORWgcF1yG0e"
      },
      "execution_count": 9,
      "outputs": []
    },
    {
      "cell_type": "code",
      "source": [
        "#Analyst agent\n",
        "\n",
        "analyst_llm = llm.bind_tools([get_schema])\n",
        "\n",
        "\n",
        "analyst_system_message = [SystemMessage(content = \"\"\"\n",
        "You are a data analyst tasked with exploring the structure of the database.\n",
        "\n",
        "Step 1: Use available tools to inspect the database schema and understand the relationships between tables, key columns, and data types.\n",
        "\n",
        "Step 2: Based on your understanding, generate a list of **at least 10 insightful and relevant questions** in a single response. These questions should aim to uncover key business insights such as user behavior, growth trends, product performance, revenue breakdowns, and operational patterns.\n",
        "\n",
        "Your questions will be passed to a data expert for querying, so make sure they are specific, high-impact, and cover multiple dimensions of analysis.\n",
        "\"\"\")]\n",
        "\n",
        "\n",
        "class AnalystState(TypedDict):\n",
        "  messages:Annotated[list[AnyMessage], add_messages]\n",
        "\n",
        "def analyst(state:AnalystState) -> AnalystState:\n",
        "  response = analyst_llm.invoke(analyst_system_message + state[\"messages\"])\n",
        "  return {\"messages\":[response]}\n",
        "\n",
        "analyst_graph = StateGraph(AnalystState)\n",
        "analyst_graph.add_node(\"analyst\", analyst)\n",
        "analyst_graph.add_node(\"tools\", ToolNode([get_schema]))\n",
        "\n",
        "\n",
        "analyst_graph.add_edge(START, \"analyst\")\n",
        "analyst_graph.add_conditional_edges(\"analyst\", tools_condition)\n",
        "analyst_graph.add_edge(\"tools\", \"analyst\")\n",
        "\n",
        "analyst_app = analyst_graph.compile()"
      ],
      "metadata": {
        "id": "OLiWlWsnyZ9o"
      },
      "execution_count": 10,
      "outputs": []
    },
    {
      "cell_type": "code",
      "source": [
        "from IPython.display import Image, display\n",
        "display(Image(analyst_app.get_graph().draw_mermaid_png()))"
      ],
      "metadata": {
        "colab": {
          "base_uri": "https://localhost:8080/",
          "height": 266
        },
        "id": "wvOG9oZz0-1X",
        "outputId": "c6464b27-e913-4cd9-9a08-f9aa47a3cd7b"
      },
      "execution_count": 11,
      "outputs": [
        {
          "output_type": "display_data",
          "data": {
            "image/png": "[encoded data removed]",
            "text/plain": [
              "<IPython.core.display.Image object>"
            ]
          },
          "metadata": {}
        }
      ]
    },
    {
      "cell_type": "code",
      "source": [
        "#Check the analyst agent\n",
        "result = analyst_app.invoke({\"messages\":[HumanMessage(\"\")]})\n",
        "print(result[\"messages\"][-1].content)"
      ],
      "metadata": {
        "colab": {
          "base_uri": "https://localhost:8080/"
        },
        "id": "NZwvlkZT1UrE",
        "outputId": "b13b5cd5-2e71-4279-9041-8309a728c271"
      },
      "execution_count": 12,
      "outputs": [
        {
          "output_type": "stream",
          "name": "stdout",
          "text": [
            "Based on the database schema, here are the tables and their relationships:\n",
            "\n",
            "1. **Users Table**:\n",
            "   - **Columns**: \n",
            "     - `id`: INTEGER (Primary Key)\n",
            "     - `name`: TEXT\n",
            "     - `email`: TEXT\n",
            "     - `signup_date`: DATE\n",
            "\n",
            "2. **Orders Table**:\n",
            "   - **Columns**: \n",
            "     - `id`: INTEGER (Primary Key)\n",
            "     - `user_id`: INTEGER (Foreign Key referencing Users)\n",
            "     - `amount`: REAL\n",
            "     - `status`: TEXT\n",
            "     - `order_date`: DATE\n",
            "\n",
            "### Insightful Questions\n",
            "\n",
            "1. What is the average order amount per user, and how does it vary by user signup date?\n",
            "2. How many users have made at least one order, and what percentage does this represent of the total user base?\n",
            "3. What is the trend in the number of new users signing up over the past year?\n",
            "4. What is the distribution of order statuses (e.g., completed, pending, canceled) across all orders?\n",
            "5. Which month has the highest total order amount, and what factors might have contributed to this peak?\n",
            "6. How does the average order amount differ between new users (signed up in the last 30 days) and long-term users?\n",
            "7. What is the retention rate of users who made their first purchase within the first month of signing up?\n",
            "8. How many orders are placed by users who signed up in a specific month, and what is the total revenue generated from those orders?\n",
            "9. What is the average time taken from user signup to their first order, and how does this vary by user demographics (if available)?\n",
            "10. Are there any noticeable patterns in order amounts based on the day of the week or time of day when orders are placed? \n",
            "\n",
            "These questions aim to uncover insights related to user behavior, growth trends, product performance, and operational patterns.\n"
          ]
        }
      ]
    },
    {
      "cell_type": "code",
      "source": [
        "#Expert agent\n",
        "\n",
        "expert_llm = llm.bind_tools([execute_sql])\n",
        "\n",
        "expert_system_message = [SystemMessage(content = \"\"\"You are a data expert. Your task is to use tools to answer the analyst's questions with accurate and relevant data by directly querying the database.\n",
        "Do not summarize or interpret the results—just focus on retrieving the correct data. A reviewer will handle the interpretation later.\"\"\")]\n",
        "\n",
        "class ExpertState(TypedDict):\n",
        "  messages:Annotated[list[AnyMessage], add_messages]\n",
        "\n",
        "def expert(state:ExpertState) -> ExpertState:\n",
        "  response = expert_llm.invoke(expert_system_message + state[\"messages\"])\n",
        "  return {\"messages\":[response]}\n",
        "\n",
        "expert_graph = StateGraph(ExpertState)\n",
        "expert_graph.add_node(\"expert\", expert)\n",
        "expert_graph.add_node(\"tools\", ToolNode([execute_sql]))\n",
        "\n",
        "\n",
        "expert_graph.add_edge(START, \"expert\")\n",
        "expert_graph.add_conditional_edges(\"expert\", tools_condition)\n",
        "expert_graph.add_edge(\"tools\", \"expert\")\n",
        "\n",
        "expert_app = expert_graph.compile()"
      ],
      "metadata": {
        "id": "olm2h2Zu1wbj"
      },
      "execution_count": 13,
      "outputs": []
    },
    {
      "cell_type": "code",
      "source": [
        "from IPython.display import Image, display\n",
        "display(Image(expert_app.get_graph().draw_mermaid_png()))"
      ],
      "metadata": {
        "colab": {
          "base_uri": "https://localhost:8080/",
          "height": 266
        },
        "id": "XdwC1Ivw4cG-",
        "outputId": "819d06e0-3e34-4763-8947-4b0ceaf89d90"
      },
      "execution_count": 14,
      "outputs": [
        {
          "output_type": "display_data",
          "data": {
            "image/png": "[encoded data removed]",
            "text/plain": [
              "<IPython.core.display.Image object>"
            ]
          },
          "metadata": {}
        }
      ]
    },
    {
      "cell_type": "code",
      "source": [
        "#Check expert agent\n",
        "expert_result = expert_app.invoke({\"messages\":[result[\"messages\"][-1].content]})\n",
        "print(expert_result[\"messages\"][-1].content)"
      ],
      "metadata": {
        "colab": {
          "base_uri": "https://localhost:8080/"
        },
        "id": "M_BgDTnO49wS",
        "outputId": "4792c65c-65db-44fd-9127-c42ebded1e1f"
      },
      "execution_count": 15,
      "outputs": [
        {
          "output_type": "stream",
          "name": "stdout",
          "text": [
            "Here are the results for the insightful questions:\n",
            "\n",
            "1. Average order amount per user by signup date:\n",
            "   - (320.0, '2024-01-05')\n",
            "   - (250.0, '2024-01-10')\n",
            "   - (110.0, '2024-03-15')\n",
            "   - (216.67, '2024-03-22')\n",
            "   - (215.0, '2024-04-05')\n",
            "   - (210.0, '2024-04-25')\n",
            "   - (290.0, '2024-05-15')\n",
            "   - (320.0, '2024-05-18')\n",
            "   - (150.0, '2024-05-20')\n",
            "   - (220.0, '2024-06-01')\n",
            "   - (310.0, '2024-06-03')\n",
            "   - (350.0, '2024-06-05')\n",
            "\n",
            "2. Users who have made at least one order: 12 (75.0% of total users).\n",
            "\n",
            "3. No data returned for the trend in new users signing up over the past year.\n",
            "\n",
            "4. Distribution of order statuses:\n",
            "   - Cancelled: 2\n",
            "   - Completed: 15\n",
            "   - Pending: 4\n",
            "\n",
            "5. Month with the highest total order amount: June 2024, with a total of 2250.0.\n",
            "\n",
            "6. Average order amount:\n",
            "   - New users (last 30 days): 243.33\n",
            "   - Long-term users: None.\n",
            "\n",
            "7. Retention rate of users who made their first purchase within the first month of signing up: 12.\n",
            "\n",
            "8. Orders placed by users who signed up in June 2024: 4 orders, generating a total revenue of 1230.0.\n",
            "\n",
            "9. Average time taken from user signup to first order: 35.67 days.\n",
            "\n",
            "10. Average order amounts based on the day of the week:\n",
            "    - Sunday: 270.0\n",
            "    - Monday: 270.0\n",
            "    - Wednesday: 175.0\n",
            "    - Thursday: 355.0\n",
            "    - Friday: 320.0\n",
            "    - Saturday: 170.0\n",
            "\n",
            "11. Average order amounts based on the hour of the day:\n",
            "    - 00: 243.33.\n"
          ]
        }
      ]
    },
    {
      "cell_type": "code",
      "source": [
        "pip install -q fpdf"
      ],
      "metadata": {
        "colab": {
          "base_uri": "https://localhost:8080/"
        },
        "id": "EYwUR_SB5U7T",
        "outputId": "c9f7173a-d40a-4bb2-d7e0-e85b0a48cb85"
      },
      "execution_count": 16,
      "outputs": [
        {
          "output_type": "stream",
          "name": "stdout",
          "text": [
            "  Preparing metadata (setup.py) ... \u001b[?25l\u001b[?25hdone\n",
            "  Building wheel for fpdf (setup.py) ... \u001b[?25l\u001b[?25hdone\n"
          ]
        }
      ]
    },
    {
      "cell_type": "code",
      "source": [
        "from langchain.tools import tool\n",
        "\n",
        "@tool\n",
        "def generate_pdf_report(text: str, filename: str = \"my_report.pdf\") -> str:\n",
        "    \"\"\"\n",
        "    Converts the provided text summary into a downloadable PDF report.\n",
        "    Returns the file path.\n",
        "    \"\"\"\n",
        "    from fpdf import FPDF\n",
        "    import os\n",
        "\n",
        "    try:\n",
        "        pdf = FPDF()\n",
        "        pdf.add_page()\n",
        "        pdf.set_auto_page_break(auto=True, margin=15)\n",
        "        pdf.set_font(\"Arial\", size=12)\n",
        "\n",
        "        for line in text.split(\"\\n\"):\n",
        "            pdf.multi_cell(0, 10, line)\n",
        "\n",
        "        # Save the file\n",
        "        file_path = f\"/content/sample_data/{filename}\"\n",
        "        pdf.output(file_path)\n",
        "        return file_path\n",
        "    except Exception as e:\n",
        "        return f\"PDF generation failed: {str(e)}\"\n"
      ],
      "metadata": {
        "id": "J9iSGypA57TJ"
      },
      "execution_count": 48,
      "outputs": []
    },
    {
      "cell_type": "code",
      "source": [
        "#reviewer agent\n",
        "\n",
        "reviewer_llm = llm.bind_tools([generate_pdf_report])\n",
        "\n",
        "reviewer_system_message = [SystemMessage(content=\"\"\"\n",
        "You are a senior insights reviewer tasked with delivering a concise and strategic summary of a database analysis.\n",
        "\n",
        "Produce a clear, high-impact report in **exactly eight lines**, formatted for inclusion in a professional PDF document intended for business leaders and stakeholders.\n",
        "\n",
        "Your summary should distill the analysis into meaningful takeaways, focusing on:\n",
        "- User base size, growth dynamics, and retention behavior\n",
        "- Order volume, revenue patterns, and seasonal or category-level trends\n",
        "- High-performing segments (users, regions, behaviors)\n",
        "- Unusual patterns, inefficiencies, or data anomalies worth noting\n",
        "\n",
        "Do not copy tables or lists. Instead, synthesize the insights to tell a compelling data story that informs decision-making.\n",
        "\n",
        "Conclude with **two actionable, evidence-based recommendations** grounded in the observed trends. Use clear, polished language suitable for both technical and non-technical audiences.\n",
        "\"\"\")]\n",
        "\n",
        "\n",
        "class ReviewerState(TypedDict):\n",
        "  messages: Annotated[list[AnyMessage], add_messages]\n",
        "\n",
        "def reviewer(state: ReviewerState) -> ReviewerState:\n",
        "  response = reviewer_llm.invoke(reviewer_system_message + state[\"messages\"])\n",
        "  return {\"messages\": [response]}\n",
        "\n",
        "\n",
        "reviewer_graph = StateGraph(ReviewerState)\n",
        "reviewer_graph.add_node(\"reviewer\", reviewer)\n",
        "reviewer_graph.add_node(\"tools\", ToolNode([generate_pdf_report]))\n",
        "\n",
        "reviewer_graph.add_edge(START, \"reviewer\")\n",
        "reviewer_graph.add_conditional_edges(\"reviewer\", tools_condition)\n",
        "reviewer_graph.add_edge(\"tools\",\"reviewer\")\n",
        "\n",
        "reviewer_app = reviewer_graph.compile()"
      ],
      "metadata": {
        "id": "U8tPnmn47mgD"
      },
      "execution_count": 72,
      "outputs": []
    },
    {
      "cell_type": "code",
      "source": [
        "from IPython.display import Image, display\n",
        "display(Image(reviewer_app.get_graph().draw_mermaid_png()))"
      ],
      "metadata": {
        "colab": {
          "base_uri": "https://localhost:8080/",
          "height": 266
        },
        "id": "aGvtNQsS9p0l",
        "outputId": "5c43792e-c0e3-4124-fcd9-3efde1c5ddaf"
      },
      "execution_count": 73,
      "outputs": [
        {
          "output_type": "display_data",
          "data": {
            "image/png": "[encoded data removed]",
            "text/plain": [
              "<IPython.core.display.Image object>"
            ]
          },
          "metadata": {}
        }
      ]
    },
    {
      "cell_type": "code",
      "source": [
        "#define the Superviser\n",
        "\n",
        "from pydantic import BaseModel, Field\n",
        "from typing import Literal\n",
        "\n",
        "class AgentSelector(BaseModel):\n",
        "  \"\"\"Route to the available agent if needed, else route to END\"\"\"\n",
        "  next_node: Literal[\"analyst\", \"expert\", \"reviewer\", \"END\"] = Field(\n",
        "      description = \"Route to the available agent if needed, else route to END\"\n",
        "  )\n",
        "\n",
        "\n",
        "agent_selector_llm =  llm.with_structured_output(AgentSelector)\n",
        "\n",
        "supervisor_system_message = [SystemMessage(content=\"\"\"\n",
        "You are a supervisor agent responsible for orchestrating the workflow between three roles: [analyst, expert, and reviewer].\n",
        "\n",
        "1. The **analyst** explores the database schema and asks insightful, relevant questions.\n",
        "2. The **expert** uses SQL tools to answer the analyst’s questions by querying the database.\n",
        "3. The **reviewer** summarizes the expert’s answers into a clear, concise, and professional report.\n",
        "\n",
        "Instructions:\n",
        "- At each step, set the 'next_node' to one of: 'analyst', 'expert', 'reviewer', or 'END'.\n",
        "- Begin by routing to the analyst to initiate exploration.\n",
        "- After enough questions are raised, route to the expert to generate answers.\n",
        "- Then, route to the reviewer to create a summary of the findings.\n",
        "- Finally, route to 'END' when all three roles have completed their tasks.\n",
        "\n",
        "Important:\n",
        "- You must route to each of the nodes **at least once**.\n",
        "- Do **not** perform the tasks yourself. Your sole responsibility is to **coordinate** and **delegate** the next step to the appropriate agent.\n",
        "\"\"\")]"
      ],
      "metadata": {
        "id": "qZ8vQj0l963U"
      },
      "execution_count": 74,
      "outputs": []
    },
    {
      "cell_type": "code",
      "source": [
        "class SupervisorState(TypedDict):\n",
        "  messages:Annotated[list[AnyMessage], add_messages]\n",
        "  next_node: Literal[\"analyst\", \"expert\", \"reviewer\", \"END\"]\n",
        "\n",
        "def supervisor(state:SupervisorState)-> SupervisorState:\n",
        "  response = agent_selector_llm.invoke(supervisor_system_message + state[\"messages\"])\n",
        "  return {\"messages\":[AIMessage(content=f\"Routing to: {response.next_node}\")],\n",
        "          \"next_node\":response.next_node\n",
        "          }\n",
        "\n",
        "\n",
        "def route_from_supervisor(state: SupervisorState)-> Literal[\"analyst\", \"expert\", \"reviewer\", \"__end__\"]:\n",
        "  \"\"\"\n",
        "  Route based on supervisor decision.\n",
        "  It reads the next_node key from the supervisor state.\n",
        "  \"\"\"\n",
        "\n",
        "  next_node = state.get(\"next_node\")\n",
        "  if next_node == \"END\":\n",
        "    return \"__end__\"\n",
        "  else:\n",
        "    return next_node"
      ],
      "metadata": {
        "id": "AYF0dmjn_sMC"
      },
      "execution_count": 75,
      "outputs": []
    },
    {
      "cell_type": "code",
      "source": [
        "graph = StateGraph(SupervisorState)\n",
        "graph.add_node(\"supervisor\", supervisor)\n",
        "graph.add_node(\"analyst\", analyst_app)\n",
        "graph.add_node(\"expert\", expert_app)\n",
        "graph.add_node(\"reviewer\", reviewer_app)\n",
        "\n",
        "graph.add_edge(START, \"supervisor\")\n",
        "graph.add_conditional_edges(\"supervisor\", route_from_supervisor)\n",
        "graph.add_edge(\"analyst\", \"supervisor\")\n",
        "graph.add_edge(\"expert\", \"supervisor\")\n",
        "graph.add_edge(\"reviewer\", \"supervisor\")\n",
        "\n",
        "final_app = graph.compile()"
      ],
      "metadata": {
        "id": "KqDYkY5wbT6V"
      },
      "execution_count": 83,
      "outputs": []
    },
    {
      "cell_type": "code",
      "source": [
        "from IPython.display import Image, display\n",
        "display(Image(final_app.get_graph().draw_mermaid_png()))"
      ],
      "metadata": {
        "colab": {
          "base_uri": "https://localhost:8080/",
          "height": 266
        },
        "id": "jtzlWLpqc6CC",
        "outputId": "d1aa4709-20e8-4f1b-82c5-58985c50c4e1"
      },
      "execution_count": 87,
      "outputs": [
        {
          "output_type": "display_data",
          "data": {
            "image/png": "[encoded data removed]",
            "text/plain": [
              "<IPython.core.display.Image object>"
            ]
          },
          "metadata": {}
        }
      ]
    },
    {
      "cell_type": "code",
      "source": [
        "from langchain_core.messages import HumanMessage\n",
        "\n",
        "inputs = {\n",
        "    \"messages\":[\n",
        "        HumanMessage(content=\"Generate a summary report based on table in my database.\")\n",
        "    ]\n",
        "}\n",
        "\n",
        "for output in final_app.stream(inputs):\n",
        "  for key, value in output.items():\n",
        "    print(\"=\" * 50)\n",
        "    print(f\"📍 Node: {key}\")\n",
        "    print(\"-\" * 50)\n",
        "    for msg in value[\"messages\"]:\n",
        "      print(f\"{msg.type.upper()}:{msg.content}\\n\")\n",
        "    print(\"=\" * 50)"
      ],
      "metadata": {
        "colab": {
          "base_uri": "https://localhost:8080/"
        },
        "id": "z4vYV4OYdNiy",
        "outputId": "c78a70f1-cc70-4bb2-91ed-29d13d841b88"
      },
      "execution_count": 78,
      "outputs": [
        {
          "output_type": "stream",
          "name": "stdout",
          "text": [
            "==================================================\n",
            "📍 Node: supervisor\n",
            "--------------------------------------------------\n",
            "AI:Routing to: analyst\n",
            "\n",
            "==================================================\n",
            "==================================================\n",
            "📍 Node: analyst\n",
            "--------------------------------------------------\n",
            "HUMAN:Generate a summary report based on table in my database.\n",
            "\n",
            "AI:Routing to: analyst\n",
            "\n",
            "AI:\n",
            "\n",
            "TOOL:users(id INTEGER,name TEXT,email TEXT,signup_date DATE)\n",
            "orders(id INTEGER,user_id INTEGER,amount REAL,status TEXT,order_date DATE)\n",
            "\n",
            "AI:Based on the database schema, which includes two tables: `users` and `orders`, here are the insights and relevant questions that can be explored:\n",
            "\n",
            "### Database Schema Summary\n",
            "1. **Users Table**:\n",
            "   - **Columns**: \n",
            "     - `id`: Unique identifier for each user (INTEGER)\n",
            "     - `name`: Name of the user (TEXT)\n",
            "     - `email`: Email address of the user (TEXT)\n",
            "     - `signup_date`: Date when the user signed up (DATE)\n",
            "\n",
            "2. **Orders Table**:\n",
            "   - **Columns**: \n",
            "     - `id`: Unique identifier for each order (INTEGER)\n",
            "     - `user_id`: Identifier linking to the user who made the order (INTEGER)\n",
            "     - `amount`: Total amount of the order (REAL)\n",
            "     - `status`: Current status of the order (TEXT)\n",
            "     - `order_date`: Date when the order was placed (DATE)\n",
            "\n",
            "### Insightful Questions\n",
            "1. What is the total revenue generated from orders in the last year?\n",
            "2. How many new users signed up each month over the past year?\n",
            "3. What is the average order value for users who signed up in the last six months?\n",
            "4. What percentage of orders are completed versus canceled or returned?\n",
            "5. Which month had the highest number of orders placed, and what was the total revenue for that month?\n",
            "6. How does user retention vary over time for users who signed up in different quarters?\n",
            "7. What is the average time taken from signup to the first order for new users?\n",
            "8. Are there any correlations between user signup dates and order amounts?\n",
            "9. What is the distribution of order statuses (e.g., completed, pending, canceled) over the last quarter?\n",
            "10. Which users have placed the highest number of orders, and what is their total spending?\n",
            "\n",
            "These questions aim to uncover key business insights related to user behavior, growth trends, product performance, revenue breakdowns, and operational patterns.\n",
            "\n",
            "==================================================\n",
            "==================================================\n",
            "📍 Node: supervisor\n",
            "--------------------------------------------------\n",
            "AI:Routing to: expert\n",
            "\n",
            "==================================================\n",
            "==================================================\n",
            "📍 Node: expert\n",
            "--------------------------------------------------\n",
            "HUMAN:Generate a summary report based on table in my database.\n",
            "\n",
            "AI:Routing to: analyst\n",
            "\n",
            "AI:\n",
            "\n",
            "TOOL:users(id INTEGER,name TEXT,email TEXT,signup_date DATE)\n",
            "orders(id INTEGER,user_id INTEGER,amount REAL,status TEXT,order_date DATE)\n",
            "\n",
            "AI:Based on the database schema, which includes two tables: `users` and `orders`, here are the insights and relevant questions that can be explored:\n",
            "\n",
            "### Database Schema Summary\n",
            "1. **Users Table**:\n",
            "   - **Columns**: \n",
            "     - `id`: Unique identifier for each user (INTEGER)\n",
            "     - `name`: Name of the user (TEXT)\n",
            "     - `email`: Email address of the user (TEXT)\n",
            "     - `signup_date`: Date when the user signed up (DATE)\n",
            "\n",
            "2. **Orders Table**:\n",
            "   - **Columns**: \n",
            "     - `id`: Unique identifier for each order (INTEGER)\n",
            "     - `user_id`: Identifier linking to the user who made the order (INTEGER)\n",
            "     - `amount`: Total amount of the order (REAL)\n",
            "     - `status`: Current status of the order (TEXT)\n",
            "     - `order_date`: Date when the order was placed (DATE)\n",
            "\n",
            "### Insightful Questions\n",
            "1. What is the total revenue generated from orders in the last year?\n",
            "2. How many new users signed up each month over the past year?\n",
            "3. What is the average order value for users who signed up in the last six months?\n",
            "4. What percentage of orders are completed versus canceled or returned?\n",
            "5. Which month had the highest number of orders placed, and what was the total revenue for that month?\n",
            "6. How does user retention vary over time for users who signed up in different quarters?\n",
            "7. What is the average time taken from signup to the first order for new users?\n",
            "8. Are there any correlations between user signup dates and order amounts?\n",
            "9. What is the distribution of order statuses (e.g., completed, pending, canceled) over the last quarter?\n",
            "10. Which users have placed the highest number of orders, and what is their total spending?\n",
            "\n",
            "These questions aim to uncover key business insights related to user behavior, growth trends, product performance, revenue breakdowns, and operational patterns.\n",
            "\n",
            "AI:Routing to: expert\n",
            "\n",
            "AI:\n",
            "\n",
            "TOOL:[(None,)]\n",
            "\n",
            "TOOL:[]\n",
            "\n",
            "TOOL:[(None,)]\n",
            "\n",
            "TOOL:[('cancelled', 2), ('completed', 15), ('pending', 4)]\n",
            "\n",
            "TOOL:[('2024-06', 8, 2250.0)]\n",
            "\n",
            "TOOL:[('2024-01', 2), ('2024-03', 2), ('2024-04', 2), ('2024-05', 3), ('2024-06', 3)]\n",
            "\n",
            "TOOL:[(23.833333333333332,)]\n",
            "\n",
            "TOOL:[('2024-01', 1320.0), ('2024-03', 870.0), ('2024-04', 640.0), ('2024-05', 1050.0), ('2024-06', 1230.0)]\n",
            "\n",
            "TOOL:[]\n",
            "\n",
            "TOOL:[(1, 'Alice', 4, 1000.0), (3, 'Charlie', 3, 650.0), (2, 'Bob', 2, 220.0), (4, 'Diana', 2, 430.0), (6, 'Frank', 2, 580.0), (10, 'Jack', 2, 700.0), (5, 'Eve', 1, 210.0), (7, 'Grace', 1, 320.0), (8, 'Henry', 1, 150.0), (9, 'Ivy', 1, 220.0)]\n",
            "\n",
            "AI:Here are the results from the queries executed on the database:\n",
            "\n",
            "1. **Total Revenue Generated from Orders in the Last Year**:\n",
            "   - Total Revenue: **None**\n",
            "\n",
            "2. **New Users Signed Up Each Month Over the Past Year**:\n",
            "   - No new users signed up in the last year.\n",
            "\n",
            "3. **Average Order Value for Users Who Signed Up in the Last Six Months**:\n",
            "   - Average Order Value: **None**\n",
            "\n",
            "4. **Order Status Distribution**:\n",
            "   - Cancelled: 2\n",
            "   - Completed: 15\n",
            "   - Pending: 4\n",
            "\n",
            "5. **Month with the Highest Number of Orders and Total Revenue for That Month**:\n",
            "   - Month: **June 2024**\n",
            "   - Order Count: 8\n",
            "   - Total Revenue: 2250.0\n",
            "\n",
            "6. **User Retention Over Time for Users Who Signed Up in Different Quarters**:\n",
            "   - January 2024: 2\n",
            "   - March 2024: 2\n",
            "   - April 2024: 2\n",
            "   - May 2024: 3\n",
            "   - June 2024: 3\n",
            "\n",
            "7. **Average Time Taken from Signup to First Order for New Users**:\n",
            "   - Average Days to First Order: **23.83 days**\n",
            "\n",
            "8. **Correlation Between User Signup Dates and Order Amounts**:\n",
            "   - January 2024: 1320.0\n",
            "   - March 2024: 870.0\n",
            "   - April 2024: 640.0\n",
            "   - May 2024: 1050.0\n",
            "   - June 2024: 1230.0\n",
            "\n",
            "9. **Order Status Distribution Over the Last Quarter**:\n",
            "   - No data available.\n",
            "\n",
            "10. **Top Users by Number of Orders and Total Spending**:\n",
            "    - User: Alice, Orders: 4, Total Spending: 1000.0\n",
            "    - User: Charlie, Orders: 3, Total Spending: 650.0\n",
            "    - User: Bob, Orders: 2, Total Spending: 220.0\n",
            "    - User: Diana, Orders: 2, Total Spending: 430.0\n",
            "    - User: Frank, Orders: 2, Total Spending: 580.0\n",
            "    - User: Jack, Orders: 2, Total Spending: 700.0\n",
            "    - User: Eve, Orders: 1, Total Spending: 210.0\n",
            "    - User: Grace, Orders: 1, Total Spending: 320.0\n",
            "    - User: Henry, Orders: 1, Total Spending: 150.0\n",
            "    - User: Ivy, Orders: 1, Total Spending: 220.0\n",
            "\n",
            "Please let me know if you need further analysis or additional queries.\n",
            "\n",
            "==================================================\n",
            "==================================================\n",
            "📍 Node: supervisor\n",
            "--------------------------------------------------\n",
            "AI:Routing to: reviewer\n",
            "\n",
            "==================================================\n",
            "==================================================\n",
            "📍 Node: reviewer\n",
            "--------------------------------------------------\n",
            "HUMAN:Generate a summary report based on table in my database.\n",
            "\n",
            "AI:Routing to: analyst\n",
            "\n",
            "AI:\n",
            "\n",
            "TOOL:users(id INTEGER,name TEXT,email TEXT,signup_date DATE)\n",
            "orders(id INTEGER,user_id INTEGER,amount REAL,status TEXT,order_date DATE)\n",
            "\n",
            "AI:Based on the database schema, which includes two tables: `users` and `orders`, here are the insights and relevant questions that can be explored:\n",
            "\n",
            "### Database Schema Summary\n",
            "1. **Users Table**:\n",
            "   - **Columns**: \n",
            "     - `id`: Unique identifier for each user (INTEGER)\n",
            "     - `name`: Name of the user (TEXT)\n",
            "     - `email`: Email address of the user (TEXT)\n",
            "     - `signup_date`: Date when the user signed up (DATE)\n",
            "\n",
            "2. **Orders Table**:\n",
            "   - **Columns**: \n",
            "     - `id`: Unique identifier for each order (INTEGER)\n",
            "     - `user_id`: Identifier linking to the user who made the order (INTEGER)\n",
            "     - `amount`: Total amount of the order (REAL)\n",
            "     - `status`: Current status of the order (TEXT)\n",
            "     - `order_date`: Date when the order was placed (DATE)\n",
            "\n",
            "### Insightful Questions\n",
            "1. What is the total revenue generated from orders in the last year?\n",
            "2. How many new users signed up each month over the past year?\n",
            "3. What is the average order value for users who signed up in the last six months?\n",
            "4. What percentage of orders are completed versus canceled or returned?\n",
            "5. Which month had the highest number of orders placed, and what was the total revenue for that month?\n",
            "6. How does user retention vary over time for users who signed up in different quarters?\n",
            "7. What is the average time taken from signup to the first order for new users?\n",
            "8. Are there any correlations between user signup dates and order amounts?\n",
            "9. What is the distribution of order statuses (e.g., completed, pending, canceled) over the last quarter?\n",
            "10. Which users have placed the highest number of orders, and what is their total spending?\n",
            "\n",
            "These questions aim to uncover key business insights related to user behavior, growth trends, product performance, revenue breakdowns, and operational patterns.\n",
            "\n",
            "AI:Routing to: expert\n",
            "\n",
            "AI:\n",
            "\n",
            "TOOL:[(None,)]\n",
            "\n",
            "TOOL:[]\n",
            "\n",
            "TOOL:[(None,)]\n",
            "\n",
            "TOOL:[('cancelled', 2), ('completed', 15), ('pending', 4)]\n",
            "\n",
            "TOOL:[('2024-06', 8, 2250.0)]\n",
            "\n",
            "TOOL:[('2024-01', 2), ('2024-03', 2), ('2024-04', 2), ('2024-05', 3), ('2024-06', 3)]\n",
            "\n",
            "TOOL:[(23.833333333333332,)]\n",
            "\n",
            "TOOL:[('2024-01', 1320.0), ('2024-03', 870.0), ('2024-04', 640.0), ('2024-05', 1050.0), ('2024-06', 1230.0)]\n",
            "\n",
            "TOOL:[]\n",
            "\n",
            "TOOL:[(1, 'Alice', 4, 1000.0), (3, 'Charlie', 3, 650.0), (2, 'Bob', 2, 220.0), (4, 'Diana', 2, 430.0), (6, 'Frank', 2, 580.0), (10, 'Jack', 2, 700.0), (5, 'Eve', 1, 210.0), (7, 'Grace', 1, 320.0), (8, 'Henry', 1, 150.0), (9, 'Ivy', 1, 220.0)]\n",
            "\n",
            "AI:Here are the results from the queries executed on the database:\n",
            "\n",
            "1. **Total Revenue Generated from Orders in the Last Year**:\n",
            "   - Total Revenue: **None**\n",
            "\n",
            "2. **New Users Signed Up Each Month Over the Past Year**:\n",
            "   - No new users signed up in the last year.\n",
            "\n",
            "3. **Average Order Value for Users Who Signed Up in the Last Six Months**:\n",
            "   - Average Order Value: **None**\n",
            "\n",
            "4. **Order Status Distribution**:\n",
            "   - Cancelled: 2\n",
            "   - Completed: 15\n",
            "   - Pending: 4\n",
            "\n",
            "5. **Month with the Highest Number of Orders and Total Revenue for That Month**:\n",
            "   - Month: **June 2024**\n",
            "   - Order Count: 8\n",
            "   - Total Revenue: 2250.0\n",
            "\n",
            "6. **User Retention Over Time for Users Who Signed Up in Different Quarters**:\n",
            "   - January 2024: 2\n",
            "   - March 2024: 2\n",
            "   - April 2024: 2\n",
            "   - May 2024: 3\n",
            "   - June 2024: 3\n",
            "\n",
            "7. **Average Time Taken from Signup to First Order for New Users**:\n",
            "   - Average Days to First Order: **23.83 days**\n",
            "\n",
            "8. **Correlation Between User Signup Dates and Order Amounts**:\n",
            "   - January 2024: 1320.0\n",
            "   - March 2024: 870.0\n",
            "   - April 2024: 640.0\n",
            "   - May 2024: 1050.0\n",
            "   - June 2024: 1230.0\n",
            "\n",
            "9. **Order Status Distribution Over the Last Quarter**:\n",
            "   - No data available.\n",
            "\n",
            "10. **Top Users by Number of Orders and Total Spending**:\n",
            "    - User: Alice, Orders: 4, Total Spending: 1000.0\n",
            "    - User: Charlie, Orders: 3, Total Spending: 650.0\n",
            "    - User: Bob, Orders: 2, Total Spending: 220.0\n",
            "    - User: Diana, Orders: 2, Total Spending: 430.0\n",
            "    - User: Frank, Orders: 2, Total Spending: 580.0\n",
            "    - User: Jack, Orders: 2, Total Spending: 700.0\n",
            "    - User: Eve, Orders: 1, Total Spending: 210.0\n",
            "    - User: Grace, Orders: 1, Total Spending: 320.0\n",
            "    - User: Henry, Orders: 1, Total Spending: 150.0\n",
            "    - User: Ivy, Orders: 1, Total Spending: 220.0\n",
            "\n",
            "Please let me know if you need further analysis or additional queries.\n",
            "\n",
            "AI:Routing to: reviewer\n",
            "\n",
            "AI:\n",
            "\n",
            "TOOL:/content/sample_data/database_analysis_report.pdf\n",
            "\n",
            "AI:The summary report has been successfully generated. You can download it using the link below:\n",
            "\n",
            "[Download Database Analysis Report](sandbox:/content/sample_data/database_analysis_report.pdf) \n",
            "\n",
            "If you need any further assistance or additional reports, feel free to ask!\n",
            "\n",
            "==================================================\n",
            "==================================================\n",
            "📍 Node: supervisor\n",
            "--------------------------------------------------\n",
            "AI:Routing to: END\n",
            "\n",
            "==================================================\n"
          ]
        }
      ]
    }
  ]
}