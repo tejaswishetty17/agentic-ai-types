{
  "nbformat": 4,
  "nbformat_minor": 0,
  "metadata": {
    "colab": {
      "provenance": [],
      "authorship_tag": "ABX9TyPi6CAxWCmYjwToY1zqPwJN",
      "include_colab_link": true
    },
    "kernelspec": {
      "name": "python3",
      "display_name": "Python 3"
    },
    "language_info": {
      "name": "python"
    }
  },
  "cells": [
    {
      "cell_type": "markdown",
      "metadata": {
        "id": "view-in-github",
        "colab_type": "text"
      },
      "source": [
        "<a href=\"https://colab.research.google.com/github/tejaswishetty17/Agentic-AI/blob/main/Natural_Language_to_SQL_Query.ipynb\" target=\"_parent\"><img src=\"https://colab.research.google.com/assets/colab-badge.svg\" alt=\"Open In Colab\"/></a>"
      ]
    },
    {
      "cell_type": "markdown",
      "source": [
        "🧠 **Natural Language to SQL Query using Agentic AI**\n",
        "\n",
        "\n",
        "In this notebook, we explore a basic agentic workflow where a language model understands a natural language question and autonomously generates the corresponding SQL query to fetch the desired answer from a database.\n",
        "\n",
        "Instead of manually writing SQL for every question, we use an Agent powered by LangChain to:\n",
        "\n",
        "Parse the intent from the natural language question\n",
        "\n",
        "Formulate the appropriate SQL query\n",
        "\n",
        "Execute the query on a sample database\n",
        "\n",
        "Return the correct result to the user\n",
        "\n",
        "This approach demonstrates how Large Language Models (LLMs) can be used not just for generation, but also as reasoning agents in practical data applications.\n",
        "\n",
        "\n",
        "\n",
        ">📘 This notebook serves as a learning resource for anyone interested in the intersection of LLMs, databases, and automation—especially for building intelligent data assistants or low-code query tools.\n",
        "\n",
        "\n",
        "user gives the query -> LLM -> get the schema (tool) -> LLM generates SQL query -> execute sql(tool) -> LLM presents the final output."
      ],
      "metadata": {
        "id": "W4kpU9y8JAnA"
      }
    },
    {
      "cell_type": "code",
      "execution_count": null,
      "metadata": {
        "id": "TM1b0MYND0qW",
        "colab": {
          "base_uri": "https://localhost:8080/"
        },
        "outputId": "cd865784-922c-4aec-f893-8cb030e57887"
      },
      "outputs": [
        {
          "output_type": "stream",
          "name": "stdout",
          "text": [
            "\u001b[?25l     \u001b[90m━━━━━━━━━━━━━━━━━━━━━━━━━━━━━━━━━━━━━━━━\u001b[0m \u001b[32m0.0/43.7 kB\u001b[0m \u001b[31m?\u001b[0m eta \u001b[36m-:--:--\u001b[0m\r\u001b[2K     \u001b[90m━━━━━━━━━━━━━━━━━━━━━━━━━━━━━━━━━━━━━━━━\u001b[0m \u001b[32m43.7/43.7 kB\u001b[0m \u001b[31m2.9 MB/s\u001b[0m eta \u001b[36m0:00:00\u001b[0m\n",
            "\u001b[?25h\u001b[?25l   \u001b[90m━━━━━━━━━━━━━━━━━━━━━━━━━━━━━━━━━━━━━━━━\u001b[0m \u001b[32m0.0/65.4 kB\u001b[0m \u001b[31m?\u001b[0m eta \u001b[36m-:--:--\u001b[0m\r\u001b[2K   \u001b[90m━━━━━━━━━━━━━━━━━━━━━━━━━━━━━━━━━━━━━━━━\u001b[0m \u001b[32m65.4/65.4 kB\u001b[0m \u001b[31m5.2 MB/s\u001b[0m eta \u001b[36m0:00:00\u001b[0m\n",
            "\u001b[?25h\u001b[?25l   \u001b[90m━━━━━━━━━━━━━━━━━━━━━━━━━━━━━━━━━━━━━━━━\u001b[0m \u001b[32m0.0/152.4 kB\u001b[0m \u001b[31m?\u001b[0m eta \u001b[36m-:--:--\u001b[0m\r\u001b[2K   \u001b[90m━━━━━━━━━━━━━━━━━━━━━━━━━━━━━━━━━━━━━━━━\u001b[0m \u001b[32m152.4/152.4 kB\u001b[0m \u001b[31m9.9 MB/s\u001b[0m eta \u001b[36m0:00:00\u001b[0m\n",
            "\u001b[2K   \u001b[90m━━━━━━━━━━━━━━━━━━━━━━━━━━━━━━━━━━━━━━━━\u001b[0m \u001b[32m438.1/438.1 kB\u001b[0m \u001b[31m25.8 MB/s\u001b[0m eta \u001b[36m0:00:00\u001b[0m\n",
            "\u001b[2K   \u001b[90m━━━━━━━━━━━━━━━━━━━━━━━━━━━━━━━━━━━━━━━━\u001b[0m \u001b[32m44.2/44.2 kB\u001b[0m \u001b[31m2.7 MB/s\u001b[0m eta \u001b[36m0:00:00\u001b[0m\n",
            "\u001b[2K   \u001b[90m━━━━━━━━━━━━━━━━━━━━━━━━━━━━━━━━━━━━━━━━\u001b[0m \u001b[32m50.0/50.0 kB\u001b[0m \u001b[31m3.4 MB/s\u001b[0m eta \u001b[36m0:00:00\u001b[0m\n",
            "\u001b[2K   \u001b[90m━━━━━━━━━━━━━━━━━━━━━━━━━━━━━━━━━━━━━━━━\u001b[0m \u001b[32m363.0/363.0 kB\u001b[0m \u001b[31m25.4 MB/s\u001b[0m eta \u001b[36m0:00:00\u001b[0m\n",
            "\u001b[2K   \u001b[90m━━━━━━━━━━━━━━━━━━━━━━━━━━━━━━━━━━━━━━━━\u001b[0m \u001b[32m216.5/216.5 kB\u001b[0m \u001b[31m15.4 MB/s\u001b[0m eta \u001b[36m0:00:00\u001b[0m\n",
            "\u001b[?25h"
          ]
        }
      ],
      "source": [
        "pip install -q langchain_openai langgraph langchain"
      ]
    },
    {
      "cell_type": "code",
      "source": [
        "import sqlite3\n",
        "\n",
        "conn = sqlite3.connect(\"shop.db\", check_same_thread = False)"
      ],
      "metadata": {
        "id": "j8KY-Vw3IBfS"
      },
      "execution_count": null,
      "outputs": []
    },
    {
      "cell_type": "code",
      "source": [
        "# Create users table\n",
        "conn.execute('''\n",
        "CREATE TABLE IF NOT EXISTS users (\n",
        "    id INTEGER PRIMARY KEY,\n",
        "    name TEXT,\n",
        "    email TEXT,\n",
        "    signup_date DATE\n",
        ")\n",
        "''')\n",
        "\n",
        "# Create orders table\n",
        "conn.execute('''\n",
        "CREATE TABLE IF NOT EXISTS orders (\n",
        "    id INTEGER PRIMARY KEY,\n",
        "    user_id INTEGER,\n",
        "    amount REAL,\n",
        "    status TEXT,\n",
        "    order_date DATE,\n",
        "    FOREIGN KEY(user_id) REFERENCES users(id)\n",
        ")\n",
        "''')\n",
        "\n",
        "# Insert users\n",
        "conn.execute(\"INSERT INTO users VALUES (1, 'Alice', 'alice@example.com', '2024-01-10')\")\n",
        "conn.execute(\"INSERT INTO users VALUES (2, 'Bob', 'bob@example.com', '2024-03-15')\")\n",
        "conn.execute(\"INSERT INTO users VALUES (3, 'Charlie', 'charlie@example.com', '2024-03-22')\")\n",
        "conn.execute(\"INSERT INTO users VALUES (4, 'Diana', 'diana@example.com', '2024-04-05')\")\n",
        "conn.execute(\"INSERT INTO users VALUES (5, 'Eve', 'eve@example.com', '2024-04-25')\")\n",
        "conn.execute(\"INSERT INTO users VALUES (6, 'Frank', 'frank@example.com', '2024-05-15')\")\n",
        "conn.execute(\"INSERT INTO users VALUES (7, 'Grace', 'grace@example.com', '2024-05-18')\")\n",
        "conn.execute(\"INSERT INTO users VALUES (8, 'Henry', 'henry@example.com', '2024-05-20')\")\n",
        "conn.execute(\"INSERT INTO users VALUES (9, 'Ivy', 'ivy@example.com', '2024-06-01')\")\n",
        "conn.execute(\"INSERT INTO users VALUES (10, 'Jack', 'jack@example.com', '2024-06-05')\")\n",
        "conn.execute(\"INSERT INTO users VALUES (11, 'Kiran', 'kiran@example.com', '2024-06-03')\")\n",
        "conn.execute(\"INSERT INTO users VALUES (12, 'Lata', 'lata@example.com', '2024-06-04')\")\n",
        "conn.execute(\"INSERT INTO users VALUES (13, 'Manoj', 'manoj@example.com', '2024-06-06')\")\n",
        "\n",
        "# Insert orders\n",
        "conn.execute(\"INSERT INTO orders VALUES (1, 1, 250.00, 'completed', '2024-03-10')\")\n",
        "conn.execute(\"INSERT INTO orders VALUES (2, 2, 100.00, 'pending', '2024-03-16')\")\n",
        "conn.execute(\"INSERT INTO orders VALUES (3, 3, 320.00, 'completed', '2024-03-24')\")\n",
        "conn.execute(\"INSERT INTO orders VALUES (4, 4, 180.00, 'completed', '2024-05-01')\")\n",
        "conn.execute(\"INSERT INTO orders VALUES (5, 5, 210.00, 'completed', '2024-05-02')\")\n",
        "conn.execute(\"INSERT INTO orders VALUES (6, 1, 180.00, 'completed', '2024-03-18')\")\n",
        "conn.execute(\"INSERT INTO orders VALUES (7, 2, 120.00, 'completed', '2024-03-20')\")\n",
        "conn.execute(\"INSERT INTO orders VALUES (8, 1, 300.00, 'completed', '2024-04-01')\")\n",
        "conn.execute(\"INSERT INTO orders VALUES (9, 3, 80.00, 'cancelled', '2024-04-10')\")\n",
        "conn.execute(\"INSERT INTO orders VALUES (10, 4, 250.00, 'pending', '2024-05-05')\")\n",
        "conn.execute(\"INSERT INTO orders VALUES (11, 6, 400.00, 'completed', '2024-05-20')\")\n",
        "conn.execute(\"INSERT INTO orders VALUES (12, 7, 320.00, 'completed', '2024-05-22')\")\n",
        "conn.execute(\"INSERT INTO orders VALUES (13, 8, 150.00, 'pending', '2024-05-25')\")\n",
        "conn.execute(\"INSERT INTO orders VALUES (14, 9, 220.00, 'completed', '2024-06-02')\")\n",
        "conn.execute(\"INSERT INTO orders VALUES (15, 10, 500.00, 'completed', '2024-06-06')\")"
      ],
      "metadata": {
        "colab": {
          "base_uri": "https://localhost:8080/"
        },
        "id": "J3cBQZTnIlRd",
        "outputId": "b1781d2d-86c6-4e13-aba6-548b191d36b4"
      },
      "execution_count": null,
      "outputs": [
        {
          "output_type": "execute_result",
          "data": {
            "text/plain": [
              "<sqlite3.Cursor at 0x792ed522b0c0>"
            ]
          },
          "metadata": {},
          "execution_count": 3
        }
      ]
    },
    {
      "cell_type": "code",
      "source": [
        "conn.commit()"
      ],
      "metadata": {
        "id": "j236OA8eIyxR"
      },
      "execution_count": null,
      "outputs": []
    },
    {
      "cell_type": "code",
      "source": [
        "rows = conn.execute(f\"PRAGMA table_info(orders)\").fetchall()\n",
        "cols = \"\".join([f\"{i[0], i[1]}\" for i in rows])\n",
        "cols"
      ],
      "metadata": {
        "colab": {
          "base_uri": "https://localhost:8080/",
          "height": 36
        },
        "id": "yiROAeQSKrOt",
        "outputId": "d4886c2b-e817-4471-bc5c-a47e8b9c85b2"
      },
      "execution_count": null,
      "outputs": [
        {
          "output_type": "execute_result",
          "data": {
            "text/plain": [
              "\"(0, 'id')(1, 'user_id')(2, 'amount')(3, 'status')(4, 'order_date')\""
            ],
            "application/vnd.google.colaboratory.intrinsic+json": {
              "type": "string"
            }
          },
          "metadata": {},
          "execution_count": 5
        }
      ]
    },
    {
      "cell_type": "code",
      "source": [
        "from langchain.agents import tool\n",
        "\n",
        "@tool\n",
        "def get_schema() -> str:\n",
        "  \"\"\"Return table schemas from the SQLite database\"\"\"\n",
        "  schema = \"\"\n",
        "  for table in [\"users\",\"orders\"]:\n",
        "    rows = conn.execute(f\"PRAGMA table_info({table})\").fetchall()\n",
        "    cols = \",\".join([f\"{r[1]} {r[2]}\" for r in rows])\n",
        "    schema = schema + f\"{table}({cols})\\n\"\n",
        "  return schema.strip()\n",
        "\n",
        "@tool\n",
        "def execute_sql(query:str)->str:\n",
        "  \"\"\"Execute SQL query on the database and return the result\"\"\"\n",
        "  try:\n",
        "    result = conn.execute(query).fetchall()\n",
        "    return str(result)\n",
        "  except Exception as e:\n",
        "    return f\"Error: {str(e)}\"\n"
      ],
      "metadata": {
        "id": "Xmz6CJ7PI9tx"
      },
      "execution_count": null,
      "outputs": []
    },
    {
      "cell_type": "code",
      "source": [
        "from langgraph.graph import StateGraph, END\n",
        "from langgraph.graph.message import AnyMessage, add_messages\n",
        "from langgraph.prebuilt import ToolNode, create_react_agent\n",
        "from langchain_openai import ChatOpenAI\n",
        "from typing import Annotated, TypedDict\n",
        "from langgraph.prebuilt import tools_condition\n",
        "from langchain.schema import AIMessage\n",
        "import os\n",
        "\n",
        "#Add your OPEN AI KEY\n",
        "os.environ[\"OPENAI_API_KEY\"] = \"\"\n",
        "llm = ChatOpenAI(model = \"gpt-4o-mini\", temperature=0)\n",
        "\n",
        "import os\n",
        "os.environ[\"LANGCHAIN_TRACING_V2\"]=\"true\"\n",
        "os.environ[\"LANGCHAIN_ENDPOINT\"]=\"https://api.smith.langchain.com\"\n",
        "#Add your LANGCHAIN KEY\n",
        "os.environ[\"LANGCHAIN_API_KEY\"]=\"\"\n",
        "os.environ[\"LANGCHAIN_PROJECT\"]=\"RAG_ADVANCED\"\n",
        "\n",
        "from langsmith import utils\n",
        "utils.tracing_is_enabled()"
      ],
      "metadata": {
        "id": "BPdDXD39KiRL",
        "colab": {
          "base_uri": "https://localhost:8080/"
        },
        "outputId": "09002942-b720-48a0-ea7e-ddfb1b8637ea"
      },
      "execution_count": null,
      "outputs": [
        {
          "output_type": "execute_result",
          "data": {
            "text/plain": [
              "True"
            ]
          },
          "metadata": {},
          "execution_count": 7
        }
      ]
    },
    {
      "cell_type": "code",
      "source": [
        "#Bind the tools to LLM\n",
        "tools = [get_schema, execute_sql]\n",
        "llm_with_tools = llm.bind_tools(tools)\n",
        "\n",
        "\n",
        "class AgentState(TypedDict):\n",
        "  messages: Annotated[list[AnyMessage], add_messages]\n",
        "\n",
        "#node\n",
        "def agent(state: AgentState)->AgentState:\n",
        "  return {\"messages\": [llm_with_tools.invoke(state[\"messages\"])]}"
      ],
      "metadata": {
        "id": "UWCYZTcdTjrQ"
      },
      "execution_count": null,
      "outputs": []
    },
    {
      "cell_type": "code",
      "source": [
        "builder = StateGraph(AgentState)\n",
        "builder.add_node(\"agent\", agent)\n",
        "builder.add_node(\"tools\", ToolNode(tools))\n",
        "\n",
        "builder.set_entry_point(\"agent\")\n",
        "builder.add_conditional_edges(\"agent\", tools_condition)\n",
        "builder.add_edge(\"tools\", \"agent\")\n",
        "\n",
        "app = builder.compile()"
      ],
      "metadata": {
        "id": "MIx4WKgrX7Fd"
      },
      "execution_count": null,
      "outputs": []
    },
    {
      "cell_type": "code",
      "source": [
        "from IPython.display import Image, display\n",
        "\n",
        "display(Image(app.get_graph().draw_mermaid_png()))"
      ],
      "metadata": {
        "colab": {
          "base_uri": "https://localhost:8080/",
          "height": 266
        },
        "id": "9Jq3eiakY1St",
        "outputId": "b29deb40-74bd-4d00-f68d-e395c8e699ba"
      },
      "execution_count": null,
      "outputs": [
        {
          "output_type": "display_data",
          "data": {
            "image/png": "[encoded data removed]",
            "text/plain": [
              "<IPython.core.display.Image object>"
            ]
          },
          "metadata": {}
        }
      ]
    },
    {
      "cell_type": "code",
      "source": [
        "input = {\"messages\": [{\"role\":\"user\", \"content\":\"how many users didnt make any purchase, list down the user ids\"}]}\n",
        "result = app.invoke(input)\n",
        "\n",
        "print(result['messages'])"
      ],
      "metadata": {
        "colab": {
          "base_uri": "https://localhost:8080/"
        },
        "id": "kWlFdmCmY_OU",
        "outputId": "97a4b6c5-e1f4-4f3f-88a1-e9a6cc148270"
      },
      "execution_count": null,
      "outputs": [
        {
          "output_type": "stream",
          "name": "stdout",
          "text": [
            "[HumanMessage(content='how many users didnt make any purchase, list down the user ids', additional_kwargs={}, response_metadata={}, id='d161760e-3a85-43b7-a5dd-36b3ec2a3ca3'), AIMessage(content='', additional_kwargs={'tool_calls': [{'id': 'call_2fIDNmfs6Kn8E9qjT1s4bsSS', 'function': {'arguments': '{}', 'name': 'get_schema'}, 'type': 'function'}, {'id': 'call_WoXwYuN1bKlVaOa5RcqvaI2K', 'function': {'arguments': '{\"query\": \"SELECT user_id FROM users WHERE user_id NOT IN (SELECT DISTINCT user_id FROM purchases);\"}', 'name': 'execute_sql'}, 'type': 'function'}], 'refusal': None}, response_metadata={'token_usage': {'completion_tokens': 58, 'prompt_tokens': 77, 'total_tokens': 135, 'completion_tokens_details': {'accepted_prediction_tokens': 0, 'audio_tokens': 0, 'reasoning_tokens': 0, 'rejected_prediction_tokens': 0}, 'prompt_tokens_details': {'audio_tokens': 0, 'cached_tokens': 0}}, 'model_name': 'gpt-4o-mini-2024-07-18', 'system_fingerprint': 'fp_34a54ae93c', 'id': 'chatcmpl-BixqB7AxbFnpvgxnVPzHem4fBY8F7', 'service_tier': 'default', 'finish_reason': 'tool_calls', 'logprobs': None}, id='run--6ed3cdc2-4625-40b1-89d2-ffef3596ca8a-0', tool_calls=[{'name': 'get_schema', 'args': {}, 'id': 'call_2fIDNmfs6Kn8E9qjT1s4bsSS', 'type': 'tool_call'}, {'name': 'execute_sql', 'args': {'query': 'SELECT user_id FROM users WHERE user_id NOT IN (SELECT DISTINCT user_id FROM purchases);'}, 'id': 'call_WoXwYuN1bKlVaOa5RcqvaI2K', 'type': 'tool_call'}], usage_metadata={'input_tokens': 77, 'output_tokens': 58, 'total_tokens': 135, 'input_token_details': {'audio': 0, 'cache_read': 0}, 'output_token_details': {'audio': 0, 'reasoning': 0}}), ToolMessage(content='users(id INTEGER,name TEXT,email TEXT,signup_date DATE)\\norders(id INTEGER,user_id INTEGER,amount REAL,status TEXT,order_date DATE)', name='get_schema', id='811f328d-5e30-43f8-89c0-39133c53a815', tool_call_id='call_2fIDNmfs6Kn8E9qjT1s4bsSS'), ToolMessage(content='Error: no such table: purchases', name='execute_sql', id='0a0eac86-521c-4ec3-b1aa-ce474ebaf0af', tool_call_id='call_WoXwYuN1bKlVaOa5RcqvaI2K'), AIMessage(content='', additional_kwargs={'tool_calls': [{'id': 'call_BQdWWP5dn8Y8SIVAJ4JTtLP8', 'function': {'arguments': '{\"query\":\"SELECT user_id FROM users WHERE user_id NOT IN (SELECT DISTINCT user_id FROM orders);\"}', 'name': 'execute_sql'}, 'type': 'function'}], 'refusal': None}, response_metadata={'token_usage': {'completion_tokens': 31, 'prompt_tokens': 184, 'total_tokens': 215, 'completion_tokens_details': {'accepted_prediction_tokens': 0, 'audio_tokens': 0, 'reasoning_tokens': 0, 'rejected_prediction_tokens': 0}, 'prompt_tokens_details': {'audio_tokens': 0, 'cached_tokens': 0}}, 'model_name': 'gpt-4o-mini-2024-07-18', 'system_fingerprint': 'fp_34a54ae93c', 'id': 'chatcmpl-BixqDmF8TpmzsyQeNPLs1XZIrKaiH', 'service_tier': 'default', 'finish_reason': 'tool_calls', 'logprobs': None}, id='run--4e826c65-551d-41ff-a23c-eb32149e0b88-0', tool_calls=[{'name': 'execute_sql', 'args': {'query': 'SELECT user_id FROM users WHERE user_id NOT IN (SELECT DISTINCT user_id FROM orders);'}, 'id': 'call_BQdWWP5dn8Y8SIVAJ4JTtLP8', 'type': 'tool_call'}], usage_metadata={'input_tokens': 184, 'output_tokens': 31, 'total_tokens': 215, 'input_token_details': {'audio': 0, 'cache_read': 0}, 'output_token_details': {'audio': 0, 'reasoning': 0}}), ToolMessage(content='Error: no such column: user_id', name='execute_sql', id='7ac3f0d3-0545-4b80-a501-212a91ba8b4d', tool_call_id='call_BQdWWP5dn8Y8SIVAJ4JTtLP8'), AIMessage(content='', additional_kwargs={'tool_calls': [{'id': 'call_Kog3j015sgYlWpiXaWwXK5eB', 'function': {'arguments': '{\"query\":\"SELECT id FROM users WHERE id NOT IN (SELECT DISTINCT user_id FROM orders);\"}', 'name': 'execute_sql'}, 'type': 'function'}], 'refusal': None}, response_metadata={'token_usage': {'completion_tokens': 29, 'prompt_tokens': 231, 'total_tokens': 260, 'completion_tokens_details': {'accepted_prediction_tokens': 0, 'audio_tokens': 0, 'reasoning_tokens': 0, 'rejected_prediction_tokens': 0}, 'prompt_tokens_details': {'audio_tokens': 0, 'cached_tokens': 0}}, 'model_name': 'gpt-4o-mini-2024-07-18', 'system_fingerprint': 'fp_34a54ae93c', 'id': 'chatcmpl-BixqEQpXC772P2UY4s42L6dP44vxP', 'service_tier': 'default', 'finish_reason': 'tool_calls', 'logprobs': None}, id='run--99805ea3-139d-4f48-83e4-072499ec034f-0', tool_calls=[{'name': 'execute_sql', 'args': {'query': 'SELECT id FROM users WHERE id NOT IN (SELECT DISTINCT user_id FROM orders);'}, 'id': 'call_Kog3j015sgYlWpiXaWwXK5eB', 'type': 'tool_call'}], usage_metadata={'input_tokens': 231, 'output_tokens': 29, 'total_tokens': 260, 'input_token_details': {'audio': 0, 'cache_read': 0}, 'output_token_details': {'audio': 0, 'reasoning': 0}}), ToolMessage(content='[(11,), (12,), (13,)]', name='execute_sql', id='d6d02dc3-80a4-40cc-b8e8-3c14f1a97def', tool_call_id='call_Kog3j015sgYlWpiXaWwXK5eB'), AIMessage(content=\"There are 3 users who didn't make any purchases. Their user IDs are:\\n\\n- 11\\n- 12\\n- 13\", additional_kwargs={'refusal': None}, response_metadata={'token_usage': {'completion_tokens': 28, 'prompt_tokens': 278, 'total_tokens': 306, 'completion_tokens_details': {'accepted_prediction_tokens': 0, 'audio_tokens': 0, 'reasoning_tokens': 0, 'rejected_prediction_tokens': 0}, 'prompt_tokens_details': {'audio_tokens': 0, 'cached_tokens': 0}}, 'model_name': 'gpt-4o-mini-2024-07-18', 'system_fingerprint': 'fp_34a54ae93c', 'id': 'chatcmpl-BixqF2HjE9oaBEP0pMO6ikDneqVIH', 'service_tier': 'default', 'finish_reason': 'stop', 'logprobs': None}, id='run--b7686551-2d34-4a5d-9765-7590a5bd99f1-0', usage_metadata={'input_tokens': 278, 'output_tokens': 28, 'total_tokens': 306, 'input_token_details': {'audio': 0, 'cache_read': 0}, 'output_token_details': {'audio': 0, 'reasoning': 0}})]\n"
          ]
        }
      ]
    },
    {
      "cell_type": "code",
      "source": [
        "print(result['messages'][-1].content)"
      ],
      "metadata": {
        "colab": {
          "base_uri": "https://localhost:8080/"
        },
        "id": "Ttl833AtZ3Q8",
        "outputId": "0e2c0faf-97a8-48cb-bc5e-e9bb17c3c0d4"
      },
      "execution_count": null,
      "outputs": [
        {
          "output_type": "stream",
          "name": "stdout",
          "text": [
            "There are 3 users who didn't make any purchases. Their user IDs are:\n",
            "\n",
            "- 11\n",
            "- 12\n",
            "- 13\n"
          ]
        }
      ]
    },
    {
      "cell_type": "code",
      "source": [
        "input = {\"messages\": [{\"role\":\"user\", \"content\":\"whats the average amount of sales value for each user\"}]}\n",
        "\n",
        "\n",
        "for output in app.stream(input):\n",
        "  for key, value in output.items():\n",
        "    print(f\"\\n Node '{key}':\")\n",
        "    print(value[\"messages\"])\n",
        "    print(\"\\n\\n\",value['messages'][-1].content)"
      ],
      "metadata": {
        "colab": {
          "base_uri": "https://localhost:8080/"
        },
        "id": "snXz8JOMbbL6",
        "outputId": "457d326e-d810-4194-c077-91c0c8f6198c"
      },
      "execution_count": null,
      "outputs": [
        {
          "output_type": "stream",
          "name": "stdout",
          "text": [
            "\n",
            " Node 'agent':\n",
            "[AIMessage(content='', additional_kwargs={'tool_calls': [{'id': 'call_aq1oFWn39FoRj8HK61z2AtNO', 'function': {'arguments': '{\"query\":\"SELECT user_id, AVG(sales_value) AS average_sales_value FROM sales GROUP BY user_id;\"}', 'name': 'execute_sql'}, 'type': 'function'}], 'refusal': None}, response_metadata={'token_usage': {'completion_tokens': 33, 'prompt_tokens': 75, 'total_tokens': 108, 'completion_tokens_details': {'accepted_prediction_tokens': 0, 'audio_tokens': 0, 'reasoning_tokens': 0, 'rejected_prediction_tokens': 0}, 'prompt_tokens_details': {'audio_tokens': 0, 'cached_tokens': 0}}, 'model_name': 'gpt-4o-mini-2024-07-18', 'system_fingerprint': 'fp_34a54ae93c', 'id': 'chatcmpl-BixuYWMOM8BDkK4pHdKdIM7cCzcU8', 'service_tier': 'default', 'finish_reason': 'tool_calls', 'logprobs': None}, id='run--7fab2ee3-3c4e-4948-bd45-a3431c1fc872-0', tool_calls=[{'name': 'execute_sql', 'args': {'query': 'SELECT user_id, AVG(sales_value) AS average_sales_value FROM sales GROUP BY user_id;'}, 'id': 'call_aq1oFWn39FoRj8HK61z2AtNO', 'type': 'tool_call'}], usage_metadata={'input_tokens': 75, 'output_tokens': 33, 'total_tokens': 108, 'input_token_details': {'audio': 0, 'cache_read': 0}, 'output_token_details': {'audio': 0, 'reasoning': 0}})]\n",
            "\n",
            "\n",
            " \n",
            "\n",
            " Node 'tools':\n",
            "[ToolMessage(content='Error: no such table: sales', name='execute_sql', id='36f88903-944b-4348-9178-4178bd7162d5', tool_call_id='call_aq1oFWn39FoRj8HK61z2AtNO')]\n",
            "\n",
            "\n",
            " Error: no such table: sales\n",
            "\n",
            " Node 'agent':\n",
            "[AIMessage(content='', additional_kwargs={'tool_calls': [{'id': 'call_N4iU6KS4KdHMMMtyW6zxi9IR', 'function': {'arguments': '{}', 'name': 'get_schema'}, 'type': 'function'}], 'refusal': None}, response_metadata={'token_usage': {'completion_tokens': 10, 'prompt_tokens': 123, 'total_tokens': 133, 'completion_tokens_details': {'accepted_prediction_tokens': 0, 'audio_tokens': 0, 'reasoning_tokens': 0, 'rejected_prediction_tokens': 0}, 'prompt_tokens_details': {'audio_tokens': 0, 'cached_tokens': 0}}, 'model_name': 'gpt-4o-mini-2024-07-18', 'system_fingerprint': 'fp_34a54ae93c', 'id': 'chatcmpl-BixuZrNLT6uE1fDk86yce375q6Qyg', 'service_tier': 'default', 'finish_reason': 'tool_calls', 'logprobs': None}, id='run--ef9c42d4-be40-435f-a909-81e1d65b3a48-0', tool_calls=[{'name': 'get_schema', 'args': {}, 'id': 'call_N4iU6KS4KdHMMMtyW6zxi9IR', 'type': 'tool_call'}], usage_metadata={'input_tokens': 123, 'output_tokens': 10, 'total_tokens': 133, 'input_token_details': {'audio': 0, 'cache_read': 0}, 'output_token_details': {'audio': 0, 'reasoning': 0}})]\n",
            "\n",
            "\n",
            " \n",
            "\n",
            " Node 'tools':\n",
            "[ToolMessage(content='users(id INTEGER,name TEXT,email TEXT,signup_date DATE)\\norders(id INTEGER,user_id INTEGER,amount REAL,status TEXT,order_date DATE)', name='get_schema', id='203e3fe3-eb53-4ae5-af87-a4423c8b0a69', tool_call_id='call_N4iU6KS4KdHMMMtyW6zxi9IR')]\n",
            "\n",
            "\n",
            " users(id INTEGER,name TEXT,email TEXT,signup_date DATE)\n",
            "orders(id INTEGER,user_id INTEGER,amount REAL,status TEXT,order_date DATE)\n",
            "\n",
            " Node 'agent':\n",
            "[AIMessage(content='', additional_kwargs={'tool_calls': [{'id': 'call_IRR9XehyFLKFIiOCte4KaE04', 'function': {'arguments': '{\"query\":\"SELECT user_id, AVG(amount) AS average_sales_value FROM orders GROUP BY user_id;\"}', 'name': 'execute_sql'}, 'type': 'function'}], 'refusal': None}, response_metadata={'token_usage': {'completion_tokens': 31, 'prompt_tokens': 169, 'total_tokens': 200, 'completion_tokens_details': {'accepted_prediction_tokens': 0, 'audio_tokens': 0, 'reasoning_tokens': 0, 'rejected_prediction_tokens': 0}, 'prompt_tokens_details': {'audio_tokens': 0, 'cached_tokens': 0}}, 'model_name': 'gpt-4o-mini-2024-07-18', 'system_fingerprint': 'fp_34a54ae93c', 'id': 'chatcmpl-Bixua53rYUizf2W2jC7RJSjdywT3l', 'service_tier': 'default', 'finish_reason': 'tool_calls', 'logprobs': None}, id='run--f2c9d066-6d88-42cd-a8a1-b4f50c4e9d80-0', tool_calls=[{'name': 'execute_sql', 'args': {'query': 'SELECT user_id, AVG(amount) AS average_sales_value FROM orders GROUP BY user_id;'}, 'id': 'call_IRR9XehyFLKFIiOCte4KaE04', 'type': 'tool_call'}], usage_metadata={'input_tokens': 169, 'output_tokens': 31, 'total_tokens': 200, 'input_token_details': {'audio': 0, 'cache_read': 0}, 'output_token_details': {'audio': 0, 'reasoning': 0}})]\n",
            "\n",
            "\n",
            " \n",
            "\n",
            " Node 'tools':\n",
            "[ToolMessage(content='[(1, 243.33333333333334), (2, 110.0), (3, 200.0), (4, 215.0), (5, 210.0), (6, 400.0), (7, 320.0), (8, 150.0), (9, 220.0), (10, 500.0)]', name='execute_sql', id='64d0d558-4e4e-487b-a94f-f4df0970a85a', tool_call_id='call_IRR9XehyFLKFIiOCte4KaE04')]\n",
            "\n",
            "\n",
            " [(1, 243.33333333333334), (2, 110.0), (3, 200.0), (4, 215.0), (5, 210.0), (6, 400.0), (7, 320.0), (8, 150.0), (9, 220.0), (10, 500.0)]\n",
            "\n",
            " Node 'agent':\n",
            "[AIMessage(content='The average amount of sales value for each user is as follows:\\n\\n- User 1: $243.33\\n- User 2: $110.00\\n- User 3: $200.00\\n- User 4: $215.00\\n- User 5: $210.00\\n- User 6: $400.00\\n- User 7: $320.00\\n- User 8: $150.00\\n- User 9: $220.00\\n- User 10: $500.00', additional_kwargs={'refusal': None}, response_metadata={'token_usage': {'completion_tokens': 113, 'prompt_tokens': 292, 'total_tokens': 405, 'completion_tokens_details': {'accepted_prediction_tokens': 0, 'audio_tokens': 0, 'reasoning_tokens': 0, 'rejected_prediction_tokens': 0}, 'prompt_tokens_details': {'audio_tokens': 0, 'cached_tokens': 0}}, 'model_name': 'gpt-4o-mini-2024-07-18', 'system_fingerprint': 'fp_34a54ae93c', 'id': 'chatcmpl-Bixub4LakAvAyPlNJE2Mprm3WLBxv', 'service_tier': 'default', 'finish_reason': 'stop', 'logprobs': None}, id='run--8b57226e-544d-49a6-9e88-47ee4fddb99f-0', usage_metadata={'input_tokens': 292, 'output_tokens': 113, 'total_tokens': 405, 'input_token_details': {'audio': 0, 'cache_read': 0}, 'output_token_details': {'audio': 0, 'reasoning': 0}})]\n",
            "\n",
            "\n",
            " The average amount of sales value for each user is as follows:\n",
            "\n",
            "- User 1: $243.33\n",
            "- User 2: $110.00\n",
            "- User 3: $200.00\n",
            "- User 4: $215.00\n",
            "- User 5: $210.00\n",
            "- User 6: $400.00\n",
            "- User 7: $320.00\n",
            "- User 8: $150.00\n",
            "- User 9: $220.00\n",
            "- User 10: $500.00\n"
          ]
        }
      ]
    }
  ]
}