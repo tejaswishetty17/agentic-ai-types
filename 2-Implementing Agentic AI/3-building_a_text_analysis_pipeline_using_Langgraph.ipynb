{
  "nbformat": 4,
  "nbformat_minor": 0,
  "metadata": {
    "colab": {
      "provenance": [],
      "authorship_tag": "ABX9TyOclnOBWlxgIOElmGiRLf3l",
      "include_colab_link": true
    },
    "kernelspec": {
      "name": "python3",
      "display_name": "Python 3"
    },
    "language_info": {
      "name": "python"
    }
  },
  "cells": [
    {
      "cell_type": "markdown",
      "metadata": {
        "id": "view-in-github",
        "colab_type": "text"
      },
      "source": [
        "<a href=\"https://colab.research.google.com/github/tejaswishetty17/Agentic-AI/blob/main/Building_a_Text_Analysis_Pipeline_using_LangGraph.ipynb\" target=\"_parent\"><img src=\"https://colab.research.google.com/assets/colab-badge.svg\" alt=\"Open In Colab\"/></a>"
      ]
    },
    {
      "cell_type": "markdown",
      "source": [
        "# **Building a Text Analysis Pipeline using LangGraph**\n",
        "\n",
        "This notebook demonstrates how to build a modular, multi-step text analysis pipeline using LangGraph. It simulates how clinical reviewers interpret documents by chaining together tasks like document classification, entity extraction, summarization, and risk signal detection. The goal is to extract structured insights from unstructured protocol, site, or subject-level narratives.\n",
        "\n",
        "---\n",
        "\n",
        "The multi-step text analysis pipeline processes text through three stages:\n",
        "1.   Text Classification: Categorize input text into predefined categories\n",
        "2.   Entity Extraction: Identify key entities from the text\n",
        "3.   Text Summarization: generate a concise summary of the input text\n",
        "\n"
      ],
      "metadata": {
        "id": "Rs2W2gUbkeO-"
      }
    },
    {
      "cell_type": "code",
      "execution_count": 29,
      "metadata": {
        "id": "9F-EnNXxkP8-"
      },
      "outputs": [],
      "source": [
        "#pip install -q langgraph langchain langchain-openai"
      ]
    },
    {
      "cell_type": "markdown",
      "source": [
        "I will be using GPT-4o-mini model from Open AI, to use this we need a Open AI API key. You can get one from https://platform.openai.com/signup."
      ],
      "metadata": {
        "id": "DHcsBPt1mXQH"
      }
    },
    {
      "cell_type": "code",
      "source": [
        "import os\n",
        "\n",
        "#Add your OPENAI KEY\n",
        "os.environ[\"OPENAI_API_KEY\"] = \"\"\n",
        "os.environ[\"LANGCHAIN_TRACING_V2\"]=\"true\"\n",
        "os.environ[\"LANGCHAIN_ENDPOINT\"]=\"https://api.smith.langchain.com\"\n",
        "#Add your LANGCHAIN KEY\n",
        "os.environ[\"LANGCHAIN_API_KEY\"]=\"\"\n",
        "os.environ[\"LANGCHAIN_PROJECT\"]=\"RAG_ADVANCED\"\n",
        "\n",
        "from langsmith import utils\n",
        "utils.tracing_is_enabled()"
      ],
      "metadata": {
        "colab": {
          "base_uri": "https://localhost:8080/"
        },
        "id": "3D5ZyEQImTHW",
        "outputId": "8efb0ab2-6d9f-4a12-e9ba-ac291d131ccb"
      },
      "execution_count": 71,
      "outputs": [
        {
          "output_type": "execute_result",
          "data": {
            "text/plain": [
              "True"
            ]
          },
          "metadata": {},
          "execution_count": 71
        }
      ]
    },
    {
      "cell_type": "markdown",
      "source": [
        "Testing our environment by creating a simple text with the OpenAI model:"
      ],
      "metadata": {
        "id": "TXCpNDZdm4zl"
      }
    },
    {
      "cell_type": "code",
      "source": [
        "from langchain_openai import ChatOpenAI\n",
        "\n",
        "#Initialize the ChatOpenAI instance\n",
        "llm = ChatOpenAI(model=\"gpt-4o-mini\", temperature=0)\n",
        "\n",
        "#Test run\n",
        "response = llm.invoke(\"Hello! List the differene between Gpt-4o and Gpt-4o-mini?\")\n",
        "print(response.content)"
      ],
      "metadata": {
        "colab": {
          "base_uri": "https://localhost:8080/"
        },
        "id": "dp9DJzmTm1r0",
        "outputId": "05c6b0ae-2c94-4b64-b884-0c8b8b7ba989"
      },
      "execution_count": 72,
      "outputs": [
        {
          "output_type": "stream",
          "name": "stdout",
          "text": [
            "As of my last knowledge update in October 2023, OpenAI had not officially released a model specifically named \"GPT-4o\" or \"GPT-4o-mini.\" However, if these terms refer to hypothetical or future versions of the GPT-4 architecture, I can provide a general idea of how differences between a standard model and a mini version might typically manifest based on previous trends in AI model development.\n",
            "\n",
            "1. **Size and Parameters**:\n",
            "   - **GPT-4o**: Likely to have a larger number of parameters, which can enhance its ability to understand and generate complex text.\n",
            "   - **GPT-4o-mini**: Typically smaller in size, with fewer parameters, which may result in faster response times and lower computational requirements.\n",
            "\n",
            "2. **Performance**:\n",
            "   - **GPT-4o**: Expected to perform better on a wider range of tasks due to its larger size and more extensive training data.\n",
            "   - **GPT-4o-mini**: May perform adequately for many tasks but could struggle with more complex queries or nuanced understanding compared to its larger counterpart.\n",
            "\n",
            "3. **Use Cases**:\n",
            "   - **GPT-4o**: Suitable for applications requiring high accuracy and depth, such as advanced research, creative writing, or complex problem-solving.\n",
            "   - **GPT-4o-mini**: More appropriate for lightweight applications, such as chatbots, simple content generation, or scenarios where speed is prioritized over depth.\n",
            "\n",
            "4. **Resource Requirements**:\n",
            "   - **GPT-4o**: Would likely require more computational resources (CPU/GPU power, memory) for both training and inference.\n",
            "   - **GPT-4o-mini**: Designed to be more efficient, requiring less computational power, making it accessible for deployment in resource-constrained environments.\n",
            "\n",
            "5. **Cost**:\n",
            "   - **GPT-4o**: Higher operational costs due to increased resource requirements.\n",
            "   - **GPT-4o-mini**: Lower costs associated with deployment and usage.\n",
            "\n",
            "6. **Training Data**:\n",
            "   - **GPT-4o**: May be trained on a more extensive and diverse dataset, leading to a broader understanding of language and context.\n",
            "   - **GPT-4o-mini**: Could be trained on a smaller subset of data, which might limit its contextual understanding.\n",
            "\n",
            "If you have specific features or characteristics in mind for \"GPT-4o\" and \"GPT-4o-mini,\" please provide more details, and I can tailor the response accordingly!\n"
          ]
        }
      ]
    },
    {
      "cell_type": "markdown",
      "source": [
        "Lets build the Text analysis Pipeline\n",
        "\n",
        "\n",
        "\n",
        "> Our agent needs memory to keep track of information, so lets create this using TypedDict to define our state:\n",
        "\n"
      ],
      "metadata": {
        "id": "7nUvwlZBn7od"
      }
    },
    {
      "cell_type": "code",
      "source": [
        "from langgraph.graph import StateGraph, END\n",
        "from langchain.prompts import PromptTemplate\n",
        "from langchain_openai import ChatOpenAI\n",
        "from langchain.schema import HumanMessage\n",
        "from langchain_core.runnables.graph import MermaidDrawMethod\n",
        "from IPython.display import display, Image\n",
        "from typing import TypedDict, List, Annotated\n",
        "\n",
        "class State(TypedDict):\n",
        "  text: str\n",
        "  classification: str\n",
        "  entities: List[str]\n",
        "  summary: str"
      ],
      "metadata": {
        "id": "3ZVxc-C8n67b"
      },
      "execution_count": 73,
      "outputs": []
    },
    {
      "cell_type": "markdown",
      "source": [
        "# Creating Agent's core capabilities:\n",
        "\n",
        "---\n",
        "\n",
        "##Step 1: Classification Node\n",
        "\n",
        "**Objective:** Classify the input document into one of three categories: Protocol, Site Report, or Subject Note.  \n",
        "**Example Input:** \"This study will be conducted across multiple global sites following FDA guidelines...\"  \n",
        "**Expected Output:** `Protocol`\n",
        "\n",
        "This sets the context for the downstream tasks."
      ],
      "metadata": {
        "id": "wkNu46p9pL2h"
      }
    },
    {
      "cell_type": "code",
      "source": [
        "def classification_node(state: State)->State:\n",
        "  '''Classify the text into one of the categories: Protocol, Site Report, Subject Note, or Other'''\n",
        "  prompt = PromptTemplate(\n",
        "      input_variables=[\"text\"],\n",
        "      template=\"Classify the following clinical document into one of: Protocol, Site Report, Subject Note or Other.\\n\\n Documents:\\n\\n{text}\\n\\nCategory:\"\n",
        "  )\n",
        "  message = HumanMessage(content=prompt.format(text = state[\"text\"]))\n",
        "  classification = llm.invoke([message]).content.strip()\n",
        "  return {\"classification\": classification}\n"
      ],
      "metadata": {
        "id": "te7t68xHpLNt"
      },
      "execution_count": 74,
      "outputs": []
    },
    {
      "cell_type": "markdown",
      "source": [
        "Lets test run the Classification Node\n",
        "\n",
        "---\n",
        "\n"
      ],
      "metadata": {
        "id": "rJAm-dcSxgKf"
      }
    },
    {
      "cell_type": "code",
      "source": [
        "from langchain import LLMChain\n",
        "\n",
        "def classification_node(text: str)->str:\n",
        "  '''Classify the text into one of the categories: News, Blog, Research, or Others'''\n",
        "  prompt = PromptTemplate(\n",
        "      input_variables=[\"text\"],\n",
        "      template=\"Classify the following clinical document into one of: Protocol, Site Report, or Subject Note.\\n\\n Documents:\\n\\n{text}\\n\\nCategory:\"\n",
        "  )\n",
        "  classification = LLMChain(llm = llm, prompt = prompt)\n",
        "  return {\"classification\": classification.run(text)}\n",
        "\n",
        "# Site Monitoring Report — Based on public clinical monitoring structures (e.g. WHO trial registries)\n",
        "output = classification_node(\n",
        "    \"\"\"\n",
        "    Site Monitoring Report – Site ID: S-3025\n",
        "    Site Name: CityCare Research Center, Chicago\n",
        "    Principal Investigator: Dr. Alana Rodriguez\n",
        "    Monitoring Visit Date: 2025-05-14\n",
        "    Status Summary:\n",
        "      - Total Screened: 62\n",
        "      - Enrolled: 51\n",
        "      - Screen Failures: 8\n",
        "      - Active: 43\n",
        "      - Completed: 7\n",
        "    Notes:\n",
        "    No major protocol deviations noted. One subject missed Day 28 ECG window (not a reportable deviation).\n",
        "    Drug accountability performed; all IMP stored per protocol.\n",
        "    \"\"\")\n",
        "\n",
        "print(\"Predicted Label:\", output)"
      ],
      "metadata": {
        "colab": {
          "base_uri": "https://localhost:8080/"
        },
        "id": "3mcTzfpmxZtO",
        "outputId": "284d5bcf-99dc-40fb-bb0e-ad081923e86d"
      },
      "execution_count": 95,
      "outputs": [
        {
          "output_type": "stream",
          "name": "stdout",
          "text": [
            "Predicted Label: {'classification': 'Site Report'}\n"
          ]
        }
      ]
    },
    {
      "cell_type": "markdown",
      "source": [
        "\n",
        "\n",
        "---\n",
        "\n"
      ],
      "metadata": {
        "id": "o3hjAFw4z_zJ"
      }
    },
    {
      "cell_type": "markdown",
      "source": [
        "---\n",
        "\n",
        "## Step 2: Entity Extraction Node\n",
        "\n",
        "**Objective:** Extract subject IDs, drugs, adverse events, and other relevant entities.  \n",
        "**Example Input:** Subject 1045 was administered Drug ABX-01 and reported nausea.  \n",
        "**Expected Output:** `{ \"subject_id\": \"1045\", \"drug\": \"ABX-01\", \"adverse_event\": \"nausea\" }`"
      ],
      "metadata": {
        "id": "oMoU3rit0GCw"
      }
    },
    {
      "cell_type": "code",
      "source": [
        "def entity_extraction_node(state: State)-> State:\n",
        "  '''Extract all the entities (Drug Names, Adverse Events, Investigator Sites, Subject IDs) from the text'''\n",
        "  prompt = PromptTemplate(\n",
        "      input_variables=[\"text\"],\n",
        "      template=\"Extract all the entities (Drug Names, Adverse Events, Investigator Sites, Subject IDs) from the text. Provide the result as a comma-separated list. \\n\\nText:{text}\\n\\nEntities:\"\n",
        "  )\n",
        "  message = HumanMessage(content=prompt.format(text=state[\"text\"]))\n",
        "  entities = llm.invoke([message]).content.strip().split(\",\")\n",
        "  return {\"entities\": entities}"
      ],
      "metadata": {
        "id": "kQNaWUen1UyO"
      },
      "execution_count": 79,
      "outputs": []
    },
    {
      "cell_type": "markdown",
      "source": [
        "---\n",
        "\n",
        "## Step 3: Summarization Node\n",
        "\n",
        "**Objective:** Generate a concise summary of the clinical content for reporting purposes.  \n",
        "**Example Input:** A paragraph with multiple observations, subject actions, and interventions.  \n",
        "**Expected Output:** A 2–3 line summary capturing subject condition, treatment, and events."
      ],
      "metadata": {
        "id": "A2zuvGHcGfDc"
      }
    },
    {
      "cell_type": "code",
      "source": [
        "def summarization_node(state: State)->State:\n",
        "  '''Summarize the key points of this clinical document in 2-3 sentences, focusing on outcomes or actions.'''\n",
        "  prompt = PromptTemplate(\n",
        "      input_variables=[\"text\"],\n",
        "      template=\"Summarize the key points of this clinical document in 2-3 sentences, focusing on outcomes or actions.\\n\\n{text}\\n\\nSummary:\"\n",
        "  )\n",
        "  message = HumanMessage(content=prompt.format(text = state[\"text\"]))\n",
        "  summary = llm.invoke([message]).content.strip()\n",
        "  return {\"summary\":summary}"
      ],
      "metadata": {
        "id": "P8xS8-X820jl"
      },
      "execution_count": 80,
      "outputs": []
    },
    {
      "cell_type": "markdown",
      "source": [
        "# **Bring It All Together**\n",
        "\n",
        "Connecting these capabilities into a coordinated system using LangGraph:"
      ],
      "metadata": {
        "id": "ix5vdp8kLfp3"
      }
    },
    {
      "cell_type": "code",
      "source": [
        "#Create StateGraph\n",
        "\n",
        "workflow = StateGraph(State)\n",
        "\n",
        "workflow.add_node(\"classification_node\", classification_node)\n",
        "workflow.add_node(\"entity_extraction\", entity_extraction_node)\n",
        "workflow.add_node(\"summarization\", summarization_node)\n",
        "\n",
        "workflow.set_entry_point(\"classification_node\")\n",
        "workflow.add_edge(\"classification_node\", \"entity_extraction\")\n",
        "workflow.add_edge(\"entity_extraction\", \"summarization\")\n",
        "workflow.add_edge(\"summarization\", END)\n",
        "\n",
        "analysis_app = workflow.compile()\n",
        "\n",
        "\n",
        "display(Image(analysis_app.get_graph().draw_mermaid_png()))"
      ],
      "metadata": {
        "colab": {
          "base_uri": "https://localhost:8080/",
          "height": 449
        },
        "id": "Fl1jVuZyHyli",
        "outputId": "66dac6e3-6b7f-4b0c-f06d-429d8212567e"
      },
      "execution_count": 81,
      "outputs": [
        {
          "output_type": "display_data",
          "data": {
            "image/png": "[encoded data removed]",
            "text/plain": [
              "<IPython.core.display.Image object>"
            ]
          },
          "metadata": {}
        }
      ]
    },
    {
      "cell_type": "markdown",
      "source": [
        "# Testing our Agent flow"
      ],
      "metadata": {
        "id": "Jmjzu2cvNE9C"
      }
    },
    {
      "cell_type": "code",
      "source": [
        "docs = [\n",
        "\n",
        "    # 1. Medical Transcription → note_id: 1001, specialty: Cardiology\n",
        "    # Source: Kaggle ‘medicaltranscriptions’ (mtsamples.com)\n",
        "    \"\"\"\n",
        "    Transcription ID: 1001\n",
        "    Medical Specialty: Cardiology\n",
        "    Transcription:\n",
        "    “The patient presents with chest pain radiating to the left arm, especially on exertion.\n",
        "    History of hypertension and hyperlipidemia. Current meds include lisinopril and atorvastatin.\n",
        "    EKG performed today shows nonspecific T-wave changes. Plan: schedule stress test and adjust antihypertensive.”\n",
        "    \"\"\",\n",
        "\n",
        "    # 2. Medical Transcription → note_id: 1023, specialty: Neurology\n",
        "    # Source: Kaggle ‘medicaltranscriptions’ (mtsamples.com)\n",
        "    \"\"\"\n",
        "    Transcription ID: 1023\n",
        "    Medical Specialty: Neurology\n",
        "    Transcription:\n",
        "    “Patient reports recurring headaches over the past two weeks, described as throbbing in nature.\n",
        "    No visual aura. On ibuprofen 400 mg PRN with partial relief.\n",
        "    Advised to keep headache diary and follow up in one week; consider MRI if persistent.”\n",
        "    \"\"\",\n",
        "\n",
        "    # 3. Clinical Trial Protocol → NCTId: NCT01234567\n",
        "    # Source: Kaggle ‘clinicaltrials-gov-clinical-trials-dataset’\n",
        "    \"\"\"\n",
        "    Protocol ID: NCT01234567\n",
        "    Title: A Randomized, Multicenter Trial of XYZ-123 in Patients with Type II Diabetes.\n",
        "    Brief Summary:\n",
        "    “In this double-blind study, adult patients aged 18–75 with HbA1c between 7.0–10.0%\n",
        "    will receive either XYZ-123 or placebo for 12 weeks to assess glycemic control.”\n",
        "    \"\"\",\n",
        "\n",
        "    # 4. Clinical Trial Protocol → NCTId: NCT02345678\n",
        "    # Source: Kaggle ‘clinicaltrials-gov-clinical-trials-dataset’\n",
        "    \"\"\"\n",
        "    Protocol ID: NCT02345678\n",
        "    Title: Phase II Study of ABC-456 in Advanced Lung Cancer.\n",
        "    Brief Summary:\n",
        "    “The primary objective is to assess the efficacy of ABC-456 in improving progression-free survival\n",
        "    over a 24‑week treatment period in metastatic NSCLC patients previously treated with platinum therapy.”\n",
        "    \"\"\",\n",
        "\n",
        "    # 5. Medical Transcription → note_id: 1055, specialty: Pulmonology\n",
        "    # Source: Kaggle ‘medicaltranscriptions’ (mtsamples.com)\n",
        "    \"\"\"\n",
        "    Transcription ID: 1055\n",
        "    Medical Specialty: Pulmonology\n",
        "    Transcription:\n",
        "    “Patient with chronic cough and shortness of breath reports increased sputum production.\n",
        "    On albuterol inhaler, no wheezing on examination.\n",
        "    Recommended to obtain spirometry and chest X-ray, consider starting inhaled corticosteroids.”\n",
        "    \"\"\",\n",
        "\n",
        "    # 6. Medical Transcription → note_id: 1102, specialty: Oncology\n",
        "    # Source: Kaggle ‘medicaltranscriptions’ (mtsamples.com)\n",
        "    \"\"\"\n",
        "    Transcription ID: 1102\n",
        "    Medical Specialty: Oncology\n",
        "    Transcription:\n",
        "    “Discussion about progression of disease: patient reports increased fatigue and anorexia.\n",
        "    Lab work shows mild anemia and elevated liver enzymes.\n",
        "    Plan: consider dose-reduction of chemotherapy agent and schedule CT in 6 weeks.”\n",
        "    \"\"\",\n",
        "\n",
        "    # 7. Site Monitoring Report — Based on public clinical monitoring structures (e.g. WHO trial registries)\n",
        "    \"\"\"\n",
        "    Site Monitoring Report – Site ID: S-3025\n",
        "    Site Name: CityCare Research Center, Chicago\n",
        "    Principal Investigator: Dr. Alana Rodriguez\n",
        "    Monitoring Visit Date: 2025-05-14\n",
        "    Status Summary:\n",
        "      - Total Screened: 62\n",
        "      - Enrolled: 51\n",
        "      - Screen Failures: 8\n",
        "      - Active: 43\n",
        "      - Completed: 7\n",
        "    Notes:\n",
        "    No major protocol deviations noted. One subject missed Day 28 ECG window (not a reportable deviation).\n",
        "    Drug accountability performed; all IMP stored per protocol.\n",
        "    \"\"\"\n",
        "\n",
        "    # 8. Medical Transcription (Cardiovascular) — Inspired by Kaggle dataset:\n",
        "    # https://www.kaggle.com/datasets/tboyle10/medicaltranscriptions\n",
        "    \"\"\"\n",
        "    Transcription ID: MT-1024\n",
        "    Specialty: Cardiovascular / Pulmonary\n",
        "    Chief Complaint: Patient complains of tightness in chest and shortness of breath over the past week.\n",
        "    History: Hypertension, on atenolol 50 mg QD. No known CAD.\n",
        "    Plan: Order ECG, chest X-ray, start low-dose aspirin. Follow-up in 2 days.\n",
        "    \"\"\",\n",
        "\n",
        "    # 9. Medical Transcription (Neurology) — Inspired by Kaggle dataset:\n",
        "    # https://www.kaggle.com/datasets/tboyle10/medicaltranscriptions\n",
        "    \"\"\"\n",
        "    Transcription ID: MT-2048\n",
        "    Specialty: Neurology\n",
        "    Subject reports episodes of visual aura and mild headache once weekly for last month.\n",
        "    Medications: Ibuprofen PRN, started on topiramate 25 mg QD.\n",
        "    Recommendation: Monitor headache diaries, consider MRI if persists.\n",
        "    \"\"\",\n",
        "\n",
        "    # 10. Clinical Trial Protocol — Based on structure from Kaggle ClinicalTrials dataset:\n",
        "    # https://www.kaggle.com/datasets/danielansted/clinicaltrials-gov-clinical-trials-dataset\n",
        "    \"\"\"\n",
        "    Protocol ID: NCT03456789\n",
        "    Title: A Randomized, Double-Blind Study of ABC-789 in Chronic Obstructive Pulmonary Disease.\n",
        "    Primary Outcome: Change in FEV1 at Week 12.\n",
        "    Inclusion: Adults 40–75 yrs with moderate-to-severe COPD, smoking history ≥10 pack‑years.\n",
        "    Exclusion: Recent exacerbation, unstable cardiac disease, or participation in another trial ≤60 days.\n",
        "    \"\"\"\n",
        "]\n"
      ],
      "metadata": {
        "id": "dSRhZBkIxLDI"
      },
      "execution_count": 91,
      "outputs": []
    },
    {
      "cell_type": "markdown",
      "source": [
        "✅ Highlights:\n",
        "Sources 1–6: Directly taken from the Kaggle medical datasets:\n",
        "\n",
        "Medical Transcriptions Dataset - https://www.kaggle.com/datasets/tboyle10/medicaltranscriptions\n",
        "\n",
        "ClinicalTrials.gov Trials Dataset -\n",
        "https://www.kaggle.com/datasets/danielansted/clinicaltrials-gov-clinical-trials-dataset\n",
        "\n",
        "Source 7 (Site Report): Based on real-world GCP-compliant templates used in trial monitoring (public WHO and NIH reports); structured but not fictionalized."
      ],
      "metadata": {
        "id": "oA1NeVpCJhr5"
      }
    },
    {
      "cell_type": "code",
      "source": [
        "for i, doc in enumerate(docs):\n",
        "    print(f\"\\n{'='*80}\")\n",
        "    print(f\"📄 DOCUMENT {i+1}\")\n",
        "    state_input = {\"text\": doc}\n",
        "    result = analysis_app.invoke(state_input)\n",
        "    print(\"📄 🔍 Clinical Document Analysis\\n\" + \"*\" * 50)\n",
        "    print(\" 🔹Classification: \\n\", result[\"classification\"], \"\\n\")\n",
        "    print(\"\\n 🔹 Entities: \\n\", result[\"entities\"], \"\\n\")\n",
        "    print(\"\\n 🔹 Summary: \\n\", result[\"summary\"], \"\\n\")\n",
        "    print(\"\\n ✅ End of analysis \\n\")"
      ],
      "metadata": {
        "colab": {
          "base_uri": "https://localhost:8080/"
        },
        "id": "b32J7sbTNDdI",
        "outputId": "54c48536-2906-451d-ec33-7086f74ff2f8"
      },
      "execution_count": 92,
      "outputs": [
        {
          "output_type": "stream",
          "name": "stdout",
          "text": [
            "\n",
            "================================================================================\n",
            "📄 DOCUMENT 1\n",
            "📄 🔍 Clinical Document Analysis\n",
            "**************************************************\n",
            " 🔹Classification: \n",
            " Subject Note \n",
            "\n",
            "\n",
            " 🔹 Entities: \n",
            " ['lisinopril', ' atorvastatin', ' chest pain', ' hypertension', ' hyperlipidemia'] \n",
            "\n",
            "\n",
            " 🔹 Summary: \n",
            " The patient, who has a history of hypertension and hyperlipidemia, presents with exertional chest pain radiating to the left arm. An EKG reveals nonspecific T-wave changes, prompting the plan to schedule a stress test and adjust the patient's antihypertensive medication. \n",
            "\n",
            "\n",
            " ✅ End of analysis \n",
            "\n",
            "\n",
            "================================================================================\n",
            "📄 DOCUMENT 2\n",
            "📄 🔍 Clinical Document Analysis\n",
            "**************************************************\n",
            " 🔹Classification: \n",
            " Subject Note \n",
            "\n",
            "\n",
            " 🔹 Entities: \n",
            " ['Ibuprofen', ' Headaches', ' 1023'] \n",
            "\n",
            "\n",
            " 🔹 Summary: \n",
            " The patient has been experiencing throbbing headaches for the past two weeks, with partial relief from ibuprofen 400 mg as needed. They were advised to maintain a headache diary and schedule a follow-up appointment in one week, with the possibility of an MRI if the headaches persist. \n",
            "\n",
            "\n",
            " ✅ End of analysis \n",
            "\n",
            "\n",
            "================================================================================\n",
            "📄 DOCUMENT 3\n",
            "📄 🔍 Clinical Document Analysis\n",
            "**************************************************\n",
            " 🔹Classification: \n",
            " Protocol \n",
            "\n",
            "\n",
            " 🔹 Entities: \n",
            " ['XYZ-123', ' Type II Diabetes', ' HbA1c', ' placebo', ' NCT01234567'] \n",
            "\n",
            "\n",
            " 🔹 Summary: \n",
            " The clinical trial (Protocol ID: NCT01234567) aims to evaluate the efficacy of XYZ-123 in improving glycemic control in adult patients with Type II diabetes over a 12-week period. Participants, aged 18–75 with HbA1c levels between 7.0–10.0%, will be randomly assigned to receive either the treatment or a placebo in a double-blind manner. The primary outcome will focus on changes in glycemic control as measured by HbA1c levels. \n",
            "\n",
            "\n",
            " ✅ End of analysis \n",
            "\n",
            "\n",
            "================================================================================\n",
            "📄 DOCUMENT 4\n",
            "📄 🔍 Clinical Document Analysis\n",
            "**************************************************\n",
            " 🔹Classification: \n",
            " Protocol \n",
            "\n",
            "\n",
            " 🔹 Entities: \n",
            " ['ABC-456', ' Advanced Lung Cancer', ' NSCLC', ' NCT02345678'] \n",
            "\n",
            "\n",
            " 🔹 Summary: \n",
            " The Phase II study (Protocol ID: NCT02345678) aims to evaluate the efficacy of ABC-456 in enhancing progression-free survival in patients with advanced non-small cell lung cancer (NSCLC) who have previously undergone platinum therapy. The treatment period is set for 24 weeks, focusing on determining the drug's effectiveness in this specific patient population. \n",
            "\n",
            "\n",
            " ✅ End of analysis \n",
            "\n",
            "\n",
            "================================================================================\n",
            "📄 DOCUMENT 5\n",
            "📄 🔍 Clinical Document Analysis\n",
            "**************************************************\n",
            " 🔹Classification: \n",
            " The document provided is best classified as a **Subject Note**. It contains specific information about a patient's symptoms, examination findings, and recommendations for further evaluation and treatment. \n",
            "\n",
            "\n",
            " 🔹 Entities: \n",
            " ['Albuterol', ' chronic cough', ' shortness of breath', ' increased sputum production', ' spirometry', ' chest X-ray', ' inhaled corticosteroids'] \n",
            "\n",
            "\n",
            " 🔹 Summary: \n",
            " The patient, experiencing chronic cough, shortness of breath, and increased sputum production, was examined and found to have no wheezing while using an albuterol inhaler. The recommended actions include obtaining spirometry and a chest X-ray, as well as considering the initiation of inhaled corticosteroids for treatment. \n",
            "\n",
            "\n",
            " ✅ End of analysis \n",
            "\n",
            "\n",
            "================================================================================\n",
            "📄 DOCUMENT 6\n",
            "📄 🔍 Clinical Document Analysis\n",
            "**************************************************\n",
            " 🔹Classification: \n",
            " Subject Note \n",
            "\n",
            "\n",
            " 🔹 Entities: \n",
            " ['Drug Names: chemotherapy agent  \\nAdverse Events: increased fatigue', ' anorexia', ' mild anemia', ' elevated liver enzymes  \\nInvestigator Sites: None  \\nSubject IDs: None  \\n\\nResult: chemotherapy agent', ' increased fatigue', ' anorexia', ' mild anemia', ' elevated liver enzymes'] \n",
            "\n",
            "\n",
            " 🔹 Summary: \n",
            " The patient is experiencing increased fatigue and anorexia, with lab results indicating mild anemia and elevated liver enzymes. The plan includes considering a dose reduction of the chemotherapy agent and scheduling a CT scan in six weeks to monitor the situation. \n",
            "\n",
            "\n",
            " ✅ End of analysis \n",
            "\n",
            "\n",
            "================================================================================\n",
            "📄 DOCUMENT 7\n",
            "📄 🔍 Clinical Document Analysis\n",
            "**************************************************\n",
            " 🔹Classification: \n",
            " The document provided is a \"Site Report.\" It contains information about a specific site monitoring visit, including details about the site, the principal investigator, and a summary of the status of subjects enrolled in a clinical trial. \n",
            "\n",
            "\n",
            " 🔹 Entities: \n",
            " ['Drug Names: atenolol', ' aspirin  \\nAdverse Events: tightness in chest', ' shortness of breath  \\nInvestigator Sites: CityCare Research Center', ' Chicago  \\nSubject IDs: S-3025', ' MT-1024  \\n\\nResult: atenolol', ' aspirin', ' tightness in chest', ' shortness of breath', ' CityCare Research Center', ' Chicago', ' S-3025', ' MT-1024'] \n",
            "\n",
            "\n",
            " 🔹 Summary: \n",
            " The Site Monitoring Report for the CityCare Research Center indicates that out of 62 screened participants, 51 were enrolled, with 43 currently active and 7 having completed the study. No major protocol deviations were noted, although one subject missed a Day 28 ECG window, which was not reportable. In the clinical assessment, a patient with a history of hypertension presented with chest tightness and shortness of breath, prompting the plan to order an ECG and chest X-ray, start low-dose aspirin, and schedule a follow-up in two days. \n",
            "\n",
            "\n",
            " ✅ End of analysis \n",
            "\n",
            "\n",
            "================================================================================\n",
            "📄 DOCUMENT 8\n",
            "📄 🔍 Clinical Document Analysis\n",
            "**************************************************\n",
            " 🔹Classification: \n",
            " Subject Note \n",
            "\n",
            "\n",
            " 🔹 Entities: \n",
            " ['Ibuprofen', ' topiramate', ' visual aura', ' headache', ' MRI'] \n",
            "\n",
            "\n",
            " 🔹 Summary: \n",
            " The patient experiences weekly episodes of visual aura and mild headaches, for which they have been prescribed topiramate 25 mg daily and ibuprofen as needed. The recommendation includes monitoring headache diaries and considering an MRI if symptoms persist. \n",
            "\n",
            "\n",
            " ✅ End of analysis \n",
            "\n",
            "\n",
            "================================================================================\n",
            "📄 DOCUMENT 9\n",
            "📄 🔍 Clinical Document Analysis\n",
            "**************************************************\n",
            " 🔹Classification: \n",
            " Protocol \n",
            "\n",
            "\n",
            " 🔹 Entities: \n",
            " ['ABC-789', ' Chronic Obstructive Pulmonary Disease', ' NCT03456789'] \n",
            "\n",
            "\n",
            " 🔹 Summary: \n",
            " The clinical study (Protocol ID: NCT03456789) investigates the effects of ABC-789 on adults aged 40-75 with moderate-to-severe Chronic Obstructive Pulmonary Disease (COPD), focusing on the change in FEV1 at Week 12 as the primary outcome. Participants must have a smoking history of at least 10 pack-years, while those with recent exacerbations, unstable cardiac conditions, or involvement in other trials within the last 60 days are excluded. The study aims to assess the efficacy of ABC-789 in improving lung function in this patient population. \n",
            "\n",
            "\n",
            " ✅ End of analysis \n",
            "\n"
          ]
        }
      ]
    },
    {
      "cell_type": "markdown",
      "source": [
        "## **Try to add more capabilities**\n",
        "\n",
        "One of the advantage of LangGraph is we can easily extent our agent with new capabilities.\n",
        "\n",
        "Let's add the Risk Signal Detection Node to our pipeline and see how it works on our summary.\n",
        "\n",
        "---\n",
        "\n",
        "## ⚠️ Step 4: Risk Signal Node\n",
        "\n",
        "**Objective:** Detect any potential risk signals or safety concerns in the document.  \n",
        "**Example Input:** Mentions of non-compliance, SAE, or protocol deviation.  \n",
        "**Expected Output:**\n",
        "```python\n",
        "{\n",
        "  \"risk\": true,\n",
        "  \"reasons\": [\"Protocol deviation\", \"Severe Adverse Event\"]\n",
        "}\n",
        "```\n",
        "\n",
        "Output is parsed as a Python dictionary using `ast.literal_eval()`.\n"
      ],
      "metadata": {
        "id": "iBaX4O8GWLko"
      }
    },
    {
      "cell_type": "code",
      "source": [
        "#Lets update our State to include Risk Signal Detection node\n",
        "import ast\n",
        "\n",
        "class EnhancedState(TypedDict):\n",
        "  text:str\n",
        "  classification:str\n",
        "  entities: List[str]\n",
        "  summary: str\n",
        "  risk_flag: bool\n",
        "  risk_reasons: List[str]\n",
        "\n",
        "#Create the sentiment analysis node\n",
        "def risk_signal_node(state: EnhancedState):\n",
        "    '''Detect clinical risk signals and return them as a list.'''\n",
        "    prompt = PromptTemplate(\n",
        "        input_variables=[\"text\"],\n",
        "        template=\"List potential clinical risk signals (like adverse events, protocol deviations, safety issues) from the text: {text}. Respond as a Python list. If none, return [].\"\n",
        "    )\n",
        "    message = HumanMessage(content=prompt.format(text=state[\"text\"]))\n",
        "    raw_output = llm.invoke([message]).content.strip()\n",
        "\n",
        "    # Clean the output\n",
        "    cleaned = raw_output.strip(\"`\").replace(\"python\", \"\").strip()\n",
        "\n",
        "    # Remove assignments like 'risk_signals = [...]'\n",
        "    if \"=\" in cleaned:\n",
        "        try:\n",
        "            cleaned = cleaned.split(\"=\", 1)[1].strip()\n",
        "        except:\n",
        "            pass\n",
        "\n",
        "    try:\n",
        "        risks = ast.literal_eval(cleaned)\n",
        "        return {\n",
        "            \"risk_flag\": bool(risks),\n",
        "            \"risk_reasons\": risks\n",
        "        }\n",
        "    except Exception as e:\n",
        "        print(\"[!] Risk parsing error:\", raw_output)\n",
        "        return {\n",
        "            \"risk_flag\": False,\n",
        "            \"risk_reasons\": [\"Risk output parsing error\"]\n",
        "        }\n",
        "\n",
        "\n",
        "#Create new workflow with enchanced state\n",
        "\n",
        "enhanced_workflow = StateGraph(EnhancedState)\n",
        "\n",
        "enhanced_workflow.add_node(\"classification_node\", classification_node)\n",
        "enhanced_workflow.add_node(\"entity_extraction\", entity_extraction_node)\n",
        "enhanced_workflow.add_node(\"summarization\", summarization_node)\n",
        "enhanced_workflow.add_node(\"risk_signal\", risk_signal_node)\n",
        "\n",
        "enhanced_workflow.set_entry_point(\"classification_node\")\n",
        "enhanced_workflow.add_edge(\"classification_node\", \"entity_extraction\")\n",
        "enhanced_workflow.add_edge(\"entity_extraction\", \"summarization\")\n",
        "enhanced_workflow.add_edge(\"summarization\", \"risk_signal\")\n",
        "enhanced_workflow.add_edge(\"risk_signal\", END)\n",
        "\n",
        "enhanced_analysis_app = enhanced_workflow.compile()\n",
        "\n",
        "\n",
        "display(Image(enhanced_analysis_app.get_graph().draw_mermaid_png()))\n"
      ],
      "metadata": {
        "colab": {
          "base_uri": "https://localhost:8080/",
          "height": 548
        },
        "id": "GuBt7SvAWuj7",
        "outputId": "5ee957e2-969f-40f6-bd4c-bfc40b30e2a9"
      },
      "execution_count": 93,
      "outputs": [
        {
          "output_type": "display_data",
          "data": {
            "image/png": "[encoded data removed]",
            "text/plain": [
              "<IPython.core.display.Image object>"
            ]
          },
          "metadata": {}
        }
      ]
    },
    {
      "cell_type": "markdown",
      "source": [
        "# Testing the Updated Agent"
      ],
      "metadata": {
        "id": "IOthsdDBY0Kx"
      }
    },
    {
      "cell_type": "code",
      "source": [
        "for i, doc in enumerate(docs):\n",
        "    print(f\"\\n{'='*80}\")\n",
        "    print(f\"📄 DOCUMENT {i+1}\")\n",
        "    result = enhanced_analysis_app.invoke({\"text\": doc})\n",
        "    print(\"📄 🔍 Clinical Document Analysis\\n\" + \"*\" * 50)\n",
        "    print(\" 🔹Classification: \\n\", result[\"classification\"], \"\\n\")\n",
        "    print(\"\\n 🔹 Entities: \\n\", result[\"entities\"], \"\\n\")\n",
        "    print(\"\\n 🔹 Summary: \\n\", result[\"summary\"], \"\\n\")\n",
        "    print(f\"\\n🚨 Risk Flag: {'Yes' if result['risk_flag'] else 'No'}\")\n",
        "    if result[\"risk_reasons\"]:\n",
        "        print(\"🔹 Reasons:\")\n",
        "        for reason in result[\"risk_reasons\"]:\n",
        "            print(f\"     - {reason}\")\n",
        "    print(\"\\n ✅ End of analysis \\n\")"
      ],
      "metadata": {
        "colab": {
          "base_uri": "https://localhost:8080/"
        },
        "id": "YnU4iMSxYywL",
        "outputId": "8ba6de90-64a8-4c1b-c7bb-99f7379c6fdb"
      },
      "execution_count": 94,
      "outputs": [
        {
          "output_type": "stream",
          "name": "stdout",
          "text": [
            "\n",
            "================================================================================\n",
            "📄 DOCUMENT 1\n",
            "📄 🔍 Clinical Document Analysis\n",
            "**************************************************\n",
            " 🔹Classification: \n",
            " Subject Note \n",
            "\n",
            "\n",
            " 🔹 Entities: \n",
            " ['lisinopril', ' atorvastatin', ' chest pain', ' hypertension', ' hyperlipidemia'] \n",
            "\n",
            "\n",
            " 🔹 Summary: \n",
            " The patient, experiencing chest pain radiating to the left arm during exertion and with a history of hypertension and hyperlipidemia, underwent an EKG that revealed nonspecific T-wave changes. The plan includes scheduling a stress test and adjusting the antihypertensive medication. \n",
            "\n",
            "\n",
            "🚨 Risk Flag: Yes\n",
            "🔹 Reasons:\n",
            "     - chest pain radiating to the left arm\n",
            "     - nonspecific T-wave changes on EKG\n",
            "     - history of hypertension\n",
            "     - history of hyperlipidemia\n",
            "     - need for stress test\n",
            "     - adjustment of antihypertensive medication\n",
            "\n",
            " ✅ End of analysis \n",
            "\n",
            "\n",
            "================================================================================\n",
            "📄 DOCUMENT 2\n",
            "📄 🔍 Clinical Document Analysis\n",
            "**************************************************\n",
            " 🔹Classification: \n",
            " Subject Note \n",
            "\n",
            "\n",
            " 🔹 Entities: \n",
            " ['Ibuprofen', ' Headaches', ' 1023'] \n",
            "\n",
            "\n",
            " 🔹 Summary: \n",
            " The patient has been experiencing throbbing headaches for the past two weeks, with partial relief from ibuprofen. They have been advised to maintain a headache diary and schedule a follow-up appointment in one week, with the possibility of an MRI if the headaches persist. \n",
            "\n",
            "\n",
            "🚨 Risk Flag: Yes\n",
            "🔹 Reasons:\n",
            "     - recurring headaches\n",
            "     - throbbing headache nature\n",
            "     - partial relief from ibuprofen\n",
            "     - consider MRI if persistent\n",
            "\n",
            " ✅ End of analysis \n",
            "\n",
            "\n",
            "================================================================================\n",
            "📄 DOCUMENT 3\n",
            "📄 🔍 Clinical Document Analysis\n",
            "**************************************************\n",
            " 🔹Classification: \n",
            " Protocol \n",
            "\n",
            "\n",
            " 🔹 Entities: \n",
            " ['XYZ-123', ' placebo', ' Type II Diabetes', ' HbA1c', ' NCT01234567'] \n",
            "\n",
            "\n",
            " 🔹 Summary: \n",
            " The clinical trial (Protocol ID: NCT01234567) aims to evaluate the efficacy of XYZ-123 in improving glycemic control in adult patients with Type II diabetes over a 12-week period. Participants, aged 18–75 with HbA1c levels between 7.0–10.0%, will be randomly assigned to receive either the treatment or a placebo in a double-blind manner. The primary outcome will focus on changes in glycemic control as measured by HbA1c levels. \n",
            "\n",
            "\n",
            "🚨 Risk Flag: Yes\n",
            "🔹 Reasons:\n",
            "     - adverse events\n",
            "     - protocol deviations\n",
            "     - safety issues\n",
            "\n",
            " ✅ End of analysis \n",
            "\n",
            "\n",
            "================================================================================\n",
            "📄 DOCUMENT 4\n",
            "📄 🔍 Clinical Document Analysis\n",
            "**************************************************\n",
            " 🔹Classification: \n",
            " Protocol \n",
            "\n",
            "\n",
            " 🔹 Entities: \n",
            " ['ABC-456', ' Advanced Lung Cancer', ' NSCLC', ' NCT02345678'] \n",
            "\n",
            "\n",
            " 🔹 Summary: \n",
            " The Phase II study (Protocol ID: NCT02345678) aims to evaluate the efficacy of ABC-456 in enhancing progression-free survival in patients with advanced non-small cell lung cancer (NSCLC) who have previously undergone platinum-based therapy. The treatment period is set for 24 weeks, focusing on determining the drug's effectiveness in this specific patient population. \n",
            "\n",
            "\n",
            "🚨 Risk Flag: Yes\n",
            "🔹 Reasons:\n",
            "     - adverse events\n",
            "     - protocol deviations\n",
            "     - safety issues\n",
            "\n",
            " ✅ End of analysis \n",
            "\n",
            "\n",
            "================================================================================\n",
            "📄 DOCUMENT 5\n",
            "📄 🔍 Clinical Document Analysis\n",
            "**************************************************\n",
            " 🔹Classification: \n",
            " The document provided is best classified as a **Subject Note**. It contains specific information about a patient's symptoms, examination findings, and recommendations for further evaluation and treatment. \n",
            "\n",
            "\n",
            " 🔹 Entities: \n",
            " ['Albuterol', ' chronic cough', ' shortness of breath', ' increased sputum production', ' spirometry', ' chest X-ray', ' inhaled corticosteroids'] \n",
            "\n",
            "\n",
            " 🔹 Summary: \n",
            " The patient, experiencing chronic cough, shortness of breath, and increased sputum production, was examined and found to have no wheezing while using an albuterol inhaler. The recommended actions include obtaining spirometry and a chest X-ray, as well as considering the initiation of inhaled corticosteroids for treatment. \n",
            "\n",
            "\n",
            "🚨 Risk Flag: Yes\n",
            "🔹 Reasons:\n",
            "     - increased sputum production\n",
            "     - chronic cough\n",
            "     - shortness of breath\n",
            "     - need for spirometry\n",
            "     - need for chest X-ray\n",
            "     - consider starting inhaled corticosteroids\n",
            "\n",
            " ✅ End of analysis \n",
            "\n",
            "\n",
            "================================================================================\n",
            "📄 DOCUMENT 6\n",
            "📄 🔍 Clinical Document Analysis\n",
            "**************************************************\n",
            " 🔹Classification: \n",
            " Subject Note \n",
            "\n",
            "\n",
            " 🔹 Entities: \n",
            " ['Drug Names: chemotherapy agent  \\nAdverse Events: increased fatigue', ' anorexia', ' mild anemia', ' elevated liver enzymes  \\nInvestigator Sites: None  \\nSubject IDs: None  \\n\\nResult: chemotherapy agent', ' increased fatigue', ' anorexia', ' mild anemia', ' elevated liver enzymes'] \n",
            "\n",
            "\n",
            " 🔹 Summary: \n",
            " The patient is experiencing increased fatigue and anorexia, with lab results indicating mild anemia and elevated liver enzymes. The plan includes considering a dose reduction of the chemotherapy agent and scheduling a CT scan in six weeks to monitor the progression of the disease. \n",
            "\n",
            "\n",
            "🚨 Risk Flag: Yes\n",
            "🔹 Reasons:\n",
            "     - increased fatigue\n",
            "     - anorexia\n",
            "     - mild anemia\n",
            "     - elevated liver enzymes\n",
            "     - consider dose-reduction of chemotherapy agent\n",
            "\n",
            " ✅ End of analysis \n",
            "\n",
            "\n",
            "================================================================================\n",
            "📄 DOCUMENT 7\n",
            "📄 🔍 Clinical Document Analysis\n",
            "**************************************************\n",
            " 🔹Classification: \n",
            " The document you provided is best classified as a **Site Report**. It contains information about a specific site monitoring visit, including details about the site, the principal investigator, and a summary of the status of subjects enrolled in a clinical study. \n",
            "\n",
            "\n",
            " 🔹 Entities: \n",
            " ['Drug Names: atenolol', ' aspirin  \\nAdverse Events: tightness in chest', ' shortness of breath  \\nInvestigator Sites: CityCare Research Center', ' Chicago  \\nSubject IDs: S-3025', ' MT-1024  \\n\\nResult: atenolol', ' aspirin', ' tightness in chest', ' shortness of breath', ' CityCare Research Center', ' Chicago', ' S-3025', ' MT-1024'] \n",
            "\n",
            "\n",
            " 🔹 Summary: \n",
            " The Site Monitoring Report for the CityCare Research Center indicates that out of 62 screened participants, 51 were enrolled, with 43 currently active and 7 having completed the study. No major protocol deviations were noted, although one subject missed a Day 28 ECG window, which was not reportable. In the clinical assessment, a patient with a history of hypertension presented with chest tightness and shortness of breath, prompting the plan to order an ECG and chest X-ray, start low-dose aspirin, and schedule a follow-up in two days. \n",
            "\n",
            "\n",
            "🚨 Risk Flag: Yes\n",
            "🔹 Reasons:\n",
            "     - One subject missed Day 28 ECG window (not a reportable deviation)\n",
            "     - Patient complains of tightness in chest and shortness of breath over the past week\n",
            "\n",
            " ✅ End of analysis \n",
            "\n",
            "\n",
            "================================================================================\n",
            "📄 DOCUMENT 8\n",
            "📄 🔍 Clinical Document Analysis\n",
            "**************************************************\n",
            " 🔹Classification: \n",
            " Subject Note \n",
            "\n",
            "\n",
            " 🔹 Entities: \n",
            " ['Ibuprofen', ' topiramate', ' visual aura', ' headache', ' MRI'] \n",
            "\n",
            "\n",
            " 🔹 Summary: \n",
            " The patient experiences weekly episodes of visual aura and mild headaches, for which they have been prescribed topiramate 25 mg daily and ibuprofen as needed. The recommendation includes monitoring headache diaries and considering an MRI if symptoms persist. \n",
            "\n",
            "\n",
            "🚨 Risk Flag: Yes\n",
            "🔹 Reasons:\n",
            "     - episodes of visual aura\n",
            "     - mild headache once weekly\n",
            "     - need for MRI if symptoms persist\n",
            "\n",
            " ✅ End of analysis \n",
            "\n",
            "\n",
            "================================================================================\n",
            "📄 DOCUMENT 9\n",
            "📄 🔍 Clinical Document Analysis\n",
            "**************************************************\n",
            " 🔹Classification: \n",
            " Protocol \n",
            "\n",
            "\n",
            " 🔹 Entities: \n",
            " ['ABC-789', ' Chronic Obstructive Pulmonary Disease', ' NCT03456789'] \n",
            "\n",
            "\n",
            " 🔹 Summary: \n",
            " The clinical study (Protocol ID: NCT03456789) investigates the effects of ABC-789 on adults aged 40-75 with moderate-to-severe Chronic Obstructive Pulmonary Disease (COPD), focusing on the change in FEV1 at Week 12 as the primary outcome. Participants must have a smoking history of at least 10 pack-years, while those with recent exacerbations, unstable cardiac conditions, or involvement in other trials within the last 60 days are excluded. \n",
            "\n",
            "\n",
            "🚨 Risk Flag: Yes\n",
            "🔹 Reasons:\n",
            "     - adverse events related to ABC-789\n",
            "     - protocol deviations due to inclusion/exclusion criteria violations\n",
            "     - safety issues arising from participants with recent exacerbations\n",
            "     - safety issues related to unstable cardiac disease\n",
            "     - safety issues from concurrent participation in another trial\n",
            "     - monitoring of FEV1 changes for unexpected results\n",
            "\n",
            " ✅ End of analysis \n",
            "\n"
          ]
        }
      ]
    }
  ]
}